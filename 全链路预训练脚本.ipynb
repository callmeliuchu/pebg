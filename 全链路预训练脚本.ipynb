{
 "cells": [
  {
   "cell_type": "markdown",
   "id": "b46030ee",
   "metadata": {},
   "source": [
    "# 1.数据预处理，主要处理原始数据为目标格式"
   ]
  },
  {
   "cell_type": "markdown",
   "id": "6e054e2f",
   "metadata": {},
   "source": [
    "1.实验MLP的准确率\n",
    "\n",
    "2.实验VAE\n",
    "\n",
    "3.实验GNN生成题目向量 \n",
    "\n",
    "4.使用题目向量并非技能向量实验\n",
    "\n",
    "5.训练图片和文本融合向量\n",
    "\n",
    "6.不使用PNN算法训练向量，用最简单的方式训练看效果。"
   ]
  },
  {
   "cell_type": "code",
   "execution_count": 47,
   "id": "f1db7d0d",
   "metadata": {},
   "outputs": [
    {
     "name": "stderr",
     "output_type": "stream",
     "text": [
      "downloader, INFO http://base.ustc.edu.cn/data/ASSISTment/2009_skill_builder_data_corrected.zip is saved as data/2009_skill_builder_data_corrected.zip\n",
      "downloader, INFO file existed, skipped\n"
     ]
    },
    {
     "name": "stdout",
     "output_type": "stream",
     "text": [
      "number of skills: 123\n",
      "number of problems: 17751\n"
     ]
    },
    {
     "name": "stderr",
     "output_type": "stream",
     "text": [
      "parse student sequence:\t: 100%|█████████████████████████████████████████████████████████████████████████████████████████████████████████████████████████████████| 4163/4163 [00:01<00:00, 3941.23it/s]\n",
      "convert to one-hot format: 100%|████████████████████████████████████████████████████████████████████████████████████████████████████████████████████████████████| 4163/4163 [00:00<00:00, 5159.35it/s]\n",
      "convert to one-hot format: : 0it [00:00, ?it/s]\n"
     ]
    }
   ],
   "source": [
    "from EduData import get_data\n",
    "get_data(\"assistment-2009-2010-skill\", \"data\")\n",
    "import random\n",
    "import pandas as pd\n",
    "import tqdm\n",
    "import numpy as np\n",
    "\n",
    "data = pd.read_csv(\n",
    "    'data/2009_skill_builder_data_corrected/skill_builder_data_corrected.csv',\n",
    "    usecols=['order_id', 'user_id', 'sequence_id', 'skill_id', 'correct','problem_id'],encoding=\"utf-8\"\n",
    ").dropna(subset=['skill_id'])\n",
    "raw_skill = data.skill_id.unique().tolist()\n",
    "raw_problem = data.problem_id.unique().tolist()\n",
    "\n",
    "num_skill = len(raw_skill)\n",
    "num_problem = len(raw_problem)\n",
    "\n",
    "# question id from 0 to (num_skill - 1)\n",
    "skills = { p: i for i, p in enumerate(raw_skill) }\n",
    "problem = { p: i for i, p in enumerate(raw_problem) }\n",
    "\n",
    "print(\"number of skills: %d\" % num_skill)\n",
    "print(\"number of problems: %d\" % num_problem)\n",
    "p_embedding = np.zeros((num_problem,num_skill))\n",
    "for index, row in data.iterrows():\n",
    "    p_id = problem[row['problem_id']]\n",
    "    s_id = skills[row['skill_id']]\n",
    "    p_embedding[p_id][s_id] = 1\n",
    "def parse_all_seq(students):\n",
    "    all_sequences = []\n",
    "    for student_id in tqdm.tqdm(students, 'parse student sequence:\\t'):\n",
    "        student_sequence = parse_student_seq(data[data.user_id == student_id])\n",
    "        all_sequences.extend([student_sequence])\n",
    "    return all_sequences\n",
    "\n",
    "\n",
    "def parse_student_seq(student):\n",
    "    seq = student.sort_values('order_id')\n",
    "    s = [skills[q] for q in seq.skill_id.tolist()]\n",
    "    p = [problem[q] for q in seq.problem_id.tolist()]\n",
    "    a = seq.correct.tolist()\n",
    "    return s,p,a\n",
    "\n",
    "\n",
    "# [(question_sequence_0, answer_sequence_0), ..., (question_sequence_n, answer_sequence_n)]\n",
    "sequences = parse_all_seq(data.user_id.unique())\n",
    "\n",
    "def train_test_split(data, train_size=1.0, shuffle=True):\n",
    "    if shuffle:\n",
    "        random.shuffle(data)\n",
    "    boundary = round(len(data) * train_size)\n",
    "    return data[: boundary], data[boundary:]\n",
    "\n",
    "\n",
    "train_sequences, test_sequences = train_test_split(sequences)\n",
    "\n",
    "MAX_STEP = 50\n",
    "\n",
    "def encode_onehot(sequences, max_step):\n",
    "    skill_result = []\n",
    "    problem_result = []\n",
    "    problem_embedding_result = []\n",
    "    answer_result = []\n",
    "    real_result = []\n",
    "    for s, p, a in tqdm.tqdm(sequences, 'convert to one-hot format: '):\n",
    "        s_len = len(s)\n",
    "        left = MAX_STEP - s_len % MAX_STEP\n",
    "        s = s + [0]*left\n",
    "        p = p + [0]*left\n",
    "        a = a + [0]*left\n",
    "        last_real_len = s_len % MAX_STEP\n",
    "        first_real_len = [MAX_STEP] * ((s_len - last_real_len) // MAX_STEP)\n",
    "        real_len = first_real_len + [last_real_len]\n",
    "        num = (s_len+left)//MAX_STEP\n",
    "        skill_seq = []\n",
    "        problem_seq = []\n",
    "        answer_seq = []\n",
    "        problem_embedding_seq = []\n",
    "        for i in range(num):\n",
    "            skill_seq.append(s[i*MAX_STEP:(i+1)*MAX_STEP])\n",
    "            problem_seq.append(p[i*MAX_STEP:(i+1)*MAX_STEP])\n",
    "            answer_seq.append(a[i*MAX_STEP:(i+1)*MAX_STEP])\n",
    "            problem_embedding = []\n",
    "            for index in s[i*MAX_STEP:(i+1)*MAX_STEP]:\n",
    "                one_hot = [0]*num_skill\n",
    "                if index != -1:\n",
    "                    one_hot[index] = 1\n",
    "                problem_embedding.append(one_hot)\n",
    "            problem_embedding_seq.append(problem_embedding)\n",
    "        skill_result.extend(skill_seq)\n",
    "        problem_result.extend(problem_seq)\n",
    "        answer_result.extend(answer_seq)\n",
    "        problem_embedding_result.extend(problem_embedding_seq)\n",
    "        real_result.extend(real_len)\n",
    "    return np.array(skill_result),np.array(problem_result),np.array(answer_result),np.array(problem_embedding_result),np.array(real_result)\n",
    "\n",
    "\n",
    "# reduce the amount of data for example running faster\n",
    "percentage = 1.0\n",
    "train_data = encode_onehot(train_sequences[: int(len(train_sequences) * percentage)], MAX_STEP)\n",
    "test_data = encode_onehot(test_sequences[: int(len(test_sequences) * percentage)], MAX_STEP)\n"
   ]
  },
  {
   "cell_type": "markdown",
   "id": "5a13b726",
   "metadata": {},
   "source": [
    "## 1.1 存储数据\n",
    "pro_skill_sparse.npz ----->  问题和技能的矩阵 \n",
    "\n",
    "ass9.npz   ---->  学生行为数据\n",
    "\n",
    "pro_feat.npz -----> 问题难度系数矩阵"
   ]
  },
  {
   "cell_type": "code",
   "execution_count": 48,
   "id": "f1ad98bc",
   "metadata": {},
   "outputs": [],
   "source": [
    "from scipy import sparse\n",
    "np.savez('whole_steps_data/ass9.npz',\n",
    "        y=train_data[2],\n",
    "         skill=train_data[0],\n",
    "         problem=train_data[1],\n",
    "         problem_embedding=p_embedding,\n",
    "         real_len=train_data[4],\n",
    "         skill_num=num_skill,\n",
    "         problem_num=num_problem\n",
    "        )\n",
    "np.save('pro_skill_data',p_embedding)\n",
    "sparse.save_npz('whole_steps_data/pro_skill_sparse.npz',sparse.coo_matrix(p_embedding))\n",
    "\n",
    "difficult = np.zeros((num_problem,7))\n",
    "for index, row in data.iterrows():\n",
    "    p_id = problem[row['problem_id']]\n",
    "    s_id = skills[row['skill_id']]\n",
    "    difficult[p_id][-1] += row['correct']\n",
    "    difficult[p_id][-2] += 1\n",
    "\n",
    "difficult[:,-1] = difficult[:,-1] / difficult[:,-2]\n",
    "difficult[:,-2]=0\n",
    "difficult[:,-1]\n",
    "sparse.save_npz('whole_steps_data/pro_feat.npz',sparse.coo_matrix(difficult))"
   ]
  },
  {
   "cell_type": "markdown",
   "id": "4004ff77",
   "metadata": {},
   "source": [
    "## 1.2 生成题目知识点的关系稀疏矩阵"
   ]
  },
  {
   "cell_type": "code",
   "execution_count": 49,
   "id": "be81d806",
   "metadata": {},
   "outputs": [
    {
     "name": "stdout",
     "output_type": "stream",
     "text": [
      "problem number 17751, skill number 123\n"
     ]
    }
   ],
   "source": [
    "import os\n",
    "import sys\n",
    "import numpy as np\n",
    "from scipy import sparse\n",
    "import time\n",
    "\n",
    "\n",
    "data_folder = 'whole_steps_data'\n",
    "# pro_skill_coo = sparse.load_npz(os.path.join(data_folder, 'pro_skill_sparse.npz'))\n",
    "pro_skill = np.load('pro_skill_data.npy')\n",
    "[pro_num, skill_num] = pro_skill.shape\n",
    "print('problem number %d, skill number %d' % (pro_num, skill_num))\n",
    "pro_skill_csc = sparse.csc_matrix(pro_skill)\n",
    "pro_skill_csr = sparse.csr_matrix(pro_skill)\n",
    "\n",
    "def extract_pro_pro_sim():\n",
    "    # extract pro-pro similarity sparse matrix\n",
    "    pro_pro_adj = []\n",
    "    for p in range(pro_num):\n",
    "        tmp_skills = pro_skill_csr.getrow(p).indices\n",
    "        similar_pros = pro_skill_csc[:, tmp_skills].indices\n",
    "        zipped = zip([p] * similar_pros.shape[0], similar_pros)\n",
    "        pro_pro_adj += list(zipped)\n",
    "\n",
    "    pro_pro_adj = list(set(pro_pro_adj))\n",
    "    pro_pro_adj = np.array(pro_pro_adj).astype(np.int32)\n",
    "    data = np.ones(pro_pro_adj.shape[0]).astype(np.float32)\n",
    "    pro_pro_sparse = sparse.coo_matrix((data, (pro_pro_adj[:, 0], pro_pro_adj[:, 1])), shape=(pro_num, pro_num))\n",
    "    sparse.save_npz(os.path.join(data_folder, 'pro_pro_sparse.npz'), pro_pro_sparse)\n",
    "\n",
    "\n",
    "def extract_skill_skill_sim():\n",
    "    # extract skill-skill similarity sparse matrix\n",
    "    skill_skill_adj = []\n",
    "    for s in range(skill_num):\n",
    "        tmp_pros = pro_skill_csc.getcol(s).indices\n",
    "        similar_skills = pro_skill_csr[tmp_pros, :].indices\n",
    "        zipped = zip([s] * similar_skills.shape[0], similar_skills)\n",
    "        skill_skill_adj += list(zipped)\n",
    "\n",
    "    skill_skill_adj = list(set(skill_skill_adj))\n",
    "    skill_skill_adj = np.array(skill_skill_adj).astype(np.int32)\n",
    "    data = np.ones(skill_skill_adj.shape[0]).astype(np.float32)\n",
    "    skill_skill_sparse = sparse.coo_matrix((data, (skill_skill_adj[:, 0], skill_skill_adj[:, 1])), shape=(skill_num, skill_num))\n",
    "    sparse.save_npz(os.path.join(data_folder, 'skill_skill_sparse.npz'), skill_skill_sparse)\n",
    "\n",
    "\n",
    "extract_pro_pro_sim()\n",
    "extract_skill_skill_sim()"
   ]
  },
  {
   "cell_type": "markdown",
   "id": "f01b286d",
   "metadata": {},
   "source": [
    "# 2. 题目向量预训练"
   ]
  },
  {
   "cell_type": "code",
   "execution_count": 83,
   "id": "db9c15e8",
   "metadata": {},
   "outputs": [
    {
     "name": "stdout",
     "output_type": "stream",
     "text": [
      "问题数目17751, 技能数目123\n",
      "问题特征形状: (17751, 7)\n"
     ]
    }
   ],
   "source": [
    "def pnn1(inputs, embed_size, hidden_dim, keep_prob):\n",
    "    num_inputs = len(inputs)\n",
    "    num_pairs = int(num_inputs * (num_inputs - 1) / 2)\n",
    "    xw = torch.cat(inputs, 1)\n",
    "    xw3d = xw.view(-1, num_inputs, embed_size)\n",
    "    row = []\n",
    "    col = []\n",
    "    for i in range(num_inputs - 1):\n",
    "        for j in range(i + 1, num_inputs):\n",
    "            row.append(i)\n",
    "            col.append(j)\n",
    "    p = xw3d[:, row, :].transpose(1, 0)\n",
    "    q = xw3d[:, col, :].transpose(1, 0)\n",
    "    p = p.contiguous().view(-1, num_pairs, embed_size)\n",
    "    q = q.contiguous().view(-1, num_pairs, embed_size)\n",
    "    ip = (p * q).sum(-1).view(-1, num_pairs)\n",
    "    l = torch.cat([xw, ip], 1)\n",
    "    h = nn.Linear(l.size(1), hidden_dim)(l)\n",
    "    h = nn.ReLU()(h)\n",
    "    h = nn.Dropout(p=1 - keep_prob)(h)\n",
    "    p = nn.Linear(hidden_dim, 1)(h).view(-1)\n",
    "    return h, p\n",
    "\n",
    "import os\n",
    "import torch\n",
    "import numpy as np\n",
    "import math\n",
    "from scipy import sparse\n",
    "from torch.nn import functional as F\n",
    "\n",
    "\n",
    "import torch\n",
    "import torch.nn as nn\n",
    "\n",
    "\n",
    "\n",
    "\n",
    "# 加载数据\n",
    "data_folder = 'whole_steps_data'\n",
    "con_sym = ';'\n",
    "\n",
    "pro_skill_coo = sparse.load_npz(os.path.join(data_folder, 'pro_skill_sparse.npz'))\n",
    "skill_skill_coo = sparse.load_npz(os.path.join(data_folder, 'skill_skill_sparse.npz'))\n",
    "pro_pro_coo = sparse.load_npz(os.path.join(data_folder, 'pro_pro_sparse.npz'))\n",
    "\n",
    "pro_num, skill_num = pro_skill_coo.shape\n",
    "print(f'问题数目{pro_num}, 技能数目{skill_num}')\n",
    "\n",
    "pro_skill = pro_skill_coo.toarray()\n",
    "pro_pro = pro_pro_coo.toarray()\n",
    "skill_skill = skill_skill_coo.toarray()\n",
    "pro_skill_tensor = torch.from_numpy(pro_skill)\n",
    "skill_skill_tensor = torch.from_numpy(skill_skill)\n",
    "pro_pro_tensor = torch.from_numpy(pro_pro)\n",
    "\n",
    "pro_feat = sparse.load_npz(os.path.join(data_folder, 'pro_feat.npz')).toarray()\n",
    "pro_feat_tensor = torch.from_numpy(pro_feat)\n",
    "print('问题特征形状:', pro_feat.shape)\n",
    "\n",
    "diff_feat_dim = pro_feat.shape[1] - 1\n",
    "embed_dim = 64\n",
    "hidden_dim = 64\n",
    "dropout = 0.5\n",
    "lr = 0.001\n",
    "batch_size = 256\n",
    "epochs = 200\n",
    "\n",
    "device = torch.device(\"cuda:0\" if torch.cuda.is_available() else \"cpu\")\n",
    "\n",
    "\n",
    "# 定义模型\n",
    "class PEGB(torch.nn.Module):\n",
    "    def __init__(self, pro_num, skill_num, diff_feat_dim, embed_dim):\n",
    "        super(PEGB, self).__init__()\n",
    "\n",
    "        self.pro_embeddings = torch.nn.Embedding(pro_num, embed_dim)\n",
    "        self.skill_embeddings = torch.nn.Embedding(skill_num, embed_dim)\n",
    "        self.diff_embeddings = torch.nn.Linear(diff_feat_dim, embed_dim)\n",
    "        \n",
    "        self.final_embedding = torch.zeros(pro_num, embed_dim)\n",
    "    \n",
    "    def final_pro_embedding(self):\n",
    "        batch_pro = torch.arange(pro_num).long().to(device)\n",
    "        batch_pro_skill = torch.Tensor(pro_skill).to(device)\n",
    "        batch_pro_pro = torch.Tensor(pro_pro).to(device)\n",
    "        batch_diff_feat = torch.Tensor(pro_feat[:,:-1]).to(device)\n",
    "        batch_skill_skill = torch.arange(skill_num).to(device)\n",
    "        pro_embed = self.pro_embeddings(batch_pro)\n",
    "        skill_embed = self.skill_embeddings(batch_skill_skill)\n",
    "        diff_feat_embed = self.diff_embeddings(batch_diff_feat)\n",
    "        print(pro_embed.shape, skill_embed.shape, diff_feat_embed.shape)\n",
    "        skill_embed = batch_pro_skill @ skill_embed / batch_pro_skill.sum(1, keepdim=True)\n",
    "        h,p= pnn1([pro_embed, skill_embed, diff_feat_embed],embed_dim, hidden_dim, 0.5)\n",
    "        return h\n",
    "\n",
    "\n",
    "\n",
    "    def forward(self, pro, diff_feat, pro_skill, pro_pro, skill_skill):\n",
    "        pro_embed = self.pro_embeddings(pro)\n",
    "        skill_embed = self.skill_embeddings(skill_skill)\n",
    "        diff_feat_embed = self.diff_embeddings(diff_feat)\n",
    "\n",
    "        # pro-skill\n",
    "        pro_skill_logits = (pro_embed @ skill_embed.t()).view(-1)\n",
    "        pro_skill_loss = F.binary_cross_entropy_with_logits(pro_skill_logits, pro_skill.view(-1))\n",
    "\n",
    "        # pro-pro\n",
    "        pro_pro_logits = (pro_embed @ pro_embed.t()).view(-1)\n",
    "        # print(pro_pro_logits.shape,pro_pro.shape)\n",
    "        pro_pro_loss = F.binary_cross_entropy_with_logits(pro_pro_logits, pro_pro.contiguous().view(-1))\n",
    "\n",
    "        # skill-skill\n",
    "        skill_skill_logits = (skill_embed @ skill_embed.t()).view(-1)\n",
    "        skill_skill_loss = F.binary_cross_entropy_with_logits(skill_skill_logits, skill_skill_tensor.view(-1))\n",
    "\n",
    "        # 特征融合\n",
    "        skill_embed = pro_skill @ skill_embed / pro_skill.sum(1, keepdim=True)\n",
    "#         print(pro_embed.shape,skill_embed.shape,diff_feat_embed.shape)\n",
    "        h,p= pnn1([pro_embed, skill_embed, diff_feat_embed],embed_dim, hidden_dim, 1.0)\n",
    "#         h,p = self.pnn([pro_embed, skill_embed, diff_feat_embed])\n",
    "        # pro_final_embed = None\n",
    "#         print(p.shape,pro_feat_tensor.shape)\n",
    "        self.final_embedding[pro] = h\n",
    "        mse = ((p-diff_feat[:,-1])**2).mean()\n",
    "\n",
    "        return pro_skill_loss, pro_pro_loss, skill_skill_loss,mse,h\n",
    "\n",
    "\n",
    "model = PEGB(pro_num, skill_num, diff_feat_dim, embed_dim).to(device)\n",
    "optimizer = torch.optim.Adam(model.parameters(), lr=lr)\n",
    "\n",
    "def final_pro_embedding(self):\n",
    "    batch_pro = torch.arange(pro_num).long().to(device)\n",
    "    batch_pro_skill = torch.Tensor(pro_skill).to(device)\n",
    "    batch_pro_pro = torch.Tensor(pro_pro).to(device)\n",
    "    batch_diff_feat = torch.Tensor(pro_feat[:,:-1]).to(device)\n",
    "    batch_skill_skill = torch.arange(skill_num).to(device)\n",
    "    pro_embed = self.pro_embeddings(batch_pro)\n",
    "    skill_embed = self.skill_embeddings(batch_skill_skill)\n",
    "    diff_feat_embed = self.diff_embeddings(batch_diff_feat)\n",
    "    print(pro_embed.shape, skill_embed.shape, diff_feat_embed.shape)\n",
    "    skill_embed = batch_pro_skill @ skill_embed / batch_pro_skill.sum(1, keepdim=True)\n",
    "    h,p= pnn1([pro_embed, skill_embed, diff_feat_embed],embed_dim, hidden_dim, 1.0)\n",
    "    return h"
   ]
  },
  {
   "cell_type": "code",
   "execution_count": 84,
   "id": "0e91db8e",
   "metadata": {},
   "outputs": [
    {
     "name": "stdout",
     "output_type": "stream",
     "text": [
      "Epoch 0, Loss 9.5726\n"
     ]
    }
   ],
   "source": [
    "for epoch in range(1):\n",
    "    model.train()\n",
    "    train_loss = 0\n",
    "\n",
    "    for i in range(0, pro_num, batch_size):\n",
    "        batch_pro = torch.arange(i, min(i + batch_size, pro_num)).long().to(device)\n",
    "        batch_pro_skill = torch.Tensor(pro_skill[i:i + batch_size]).to(device)\n",
    "        batch_pro_pro = torch.Tensor(pro_pro[i:i + batch_size,i:i + batch_size]).to(device)\n",
    "        batch_diff_feat = torch.Tensor(pro_feat[i:i + batch_size, :-1]).to(device)\n",
    "        batch_skill_skill = torch.arange(skill_num).to(device)\n",
    "\n",
    "        pro_skill_loss, pro_pro_loss, skill_skill_loss, mse,h = model(batch_pro,\n",
    "                                                                  batch_diff_feat,\n",
    "                                                                  batch_pro_skill,\n",
    "                                                                  batch_pro_pro,\n",
    "                                                                  batch_skill_skill)\n",
    "        loss = pro_skill_loss + pro_pro_loss + skill_skill_loss + mse\n",
    "\n",
    "        optimizer.zero_grad()\n",
    "        loss.backward()\n",
    "        optimizer.step()\n",
    "\n",
    "        train_loss += loss.item()\n",
    "\n",
    "    train_loss /= math.ceil(pro_num / batch_size)\n",
    "    print(f'Epoch {epoch}, Loss {train_loss:.4f}')"
   ]
  },
  {
   "cell_type": "markdown",
   "id": "c573712a",
   "metadata": {},
   "source": [
    "## 2.1可视化数据"
   ]
  },
  {
   "cell_type": "code",
   "execution_count": 85,
   "id": "b017a783",
   "metadata": {},
   "outputs": [
    {
     "name": "stderr",
     "output_type": "stream",
     "text": [
      "/var/folders/z2/kds62tbj3x93zghv2_jz1xsr0000gn/T/ipykernel_63674/1348033428.py:24: UserWarning: *c* argument looks like a single numeric RGB or RGBA sequence, which should be avoided as value-mapping will have precedence in case its length matches with *x* & *y*.  Please use the *color* keyword-argument or provide a 2D array with a single row if you intend to specify the same RGB or RGBA value for all points.\n",
      "  plt.scatter(class_data[:, 0], class_data[:, 1],c=color, label=str(label))\n"
     ]
    },
    {
     "data": {
      "image/png": "[encoded data removed]",
      "text/plain": [
       "<Figure size 640x480 with 1 Axes>"
      ]
     },
     "metadata": {},
     "output_type": "display_data"
    }
   ],
   "source": [
    "from sklearn.manifold import TSNE\n",
    "import matplotlib.pyplot as plt\n",
    "\n",
    "# 准备数据\n",
    "# data_tensor = model.pro_embeddings.weight\n",
    "data_tensor = model.pro_embeddings.weight\n",
    "\n",
    "# 初始化t-SNE模型\n",
    "tsne = TSNE(n_components=2, perplexity=30, learning_rate=100, n_iter=1000)\n",
    "\n",
    "# 执行t-SNE降维\n",
    "embedded_data = tsne.fit_transform(data_tensor.detach().numpy())\n",
    "\n",
    "# 可视化结果\n",
    "# plt.scatter(embedded_data[:, 0], embedded_data[:, 1])\n",
    "for label in range(skill_num):\n",
    "    pids = pro_skill_tensor[:,label].nonzero().view(-1).detach().numpy()\n",
    "#     print(pids)\n",
    "    red =  np.random.randint(0, 256)\n",
    "    green = np.random.randint(0, 256)\n",
    "    blue = np.random.randint(0, 256)\n",
    "    color = (red / 255, green / 255, blue / 255)\n",
    "    class_data = embedded_data[pids]\n",
    "    plt.scatter(class_data[:, 0], class_data[:, 1],c=color, label=str(label))\n",
    "plt.show()"
   ]
  },
  {
   "cell_type": "code",
   "execution_count": null,
   "id": "d71ef599",
   "metadata": {},
   "outputs": [],
   "source": []
  },
  {
   "cell_type": "code",
   "execution_count": 87,
   "id": "8e0d568f",
   "metadata": {},
   "outputs": [],
   "source": [
    "np.save('whole_steps_data/skill_embedding.npy',model.skill_embeddings.weight.detach().numpy())\n",
    "np.save('whole_steps_data/problem_embedding.npy',model.pro_embeddings.weight.detach().numpy())"
   ]
  },
  {
   "cell_type": "markdown",
   "id": "d4caaac1",
   "metadata": {},
   "source": [
    "# 3. DKT训练算法"
   ]
  },
  {
   "cell_type": "code",
   "execution_count": 88,
   "id": "c3376e8c",
   "metadata": {},
   "outputs": [
    {
     "name": "stdout",
     "output_type": "stream",
     "text": [
      "problem number 17751, skill number 123\n"
     ]
    }
   ],
   "source": [
    "import torch\n",
    "import torch.nn as nn\n",
    "import numpy as np\n",
    "from sklearn import metrics\n",
    "from scipy import sparse\n",
    "from tqdm import tqdm\n",
    "import os\n",
    "import time, math\n",
    "train_flag = True\n",
    "device = torch.device(\"cuda\" if torch.cuda.is_available() else \"cpu\")\n",
    "\n",
    "\n",
    "def train_test_split(data, split=0.6):\n",
    "    n_samples = data[0].shape[0]\n",
    "    split_point = int(n_samples * split)\n",
    "    train_data = [d[:split_point] for d in data]\n",
    "    test_data = [d[split_point:] for d in data]\n",
    "    return train_data, test_data\n",
    "\n",
    "\n",
    "# 数据处理\n",
    "data_folder = \"whole_steps_data\"\n",
    "data = np.load(os.path.join(data_folder, 'ass9.npz'))\n",
    "y, skill, problem, real_len = data['y'], data['skill'], data['problem'], data['real_len']\n",
    "skill_num, pro_num = data['skill_num'], data['problem_num']\n",
    "print('problem number %d, skill number %d' % (pro_num, skill_num))\n",
    "\n",
    "# 划分训练集和测试集\n",
    "train_data, test_data = train_test_split([y, skill, problem, real_len],split=0.7)\n",
    "train_y, train_skill, train_problem, train_real_len = train_data\n",
    "test_y, test_skill, test_problem, test_real_len = test_data\n",
    "\n",
    "# 嵌入初始化\n",
    "# embed_data = np.load(os.path.join(data_folder, 'embedding_200.npz'))\n",
    "# _, _, pre_pro_embed = embed_data['pro_repre'], embed_data['skill_repre'], embed_data['pro_final_repre']\n",
    "pre_pro_embed = np.load(os.path.join(data_folder, 'skill_embedding.npy'))\n",
    "pro_num = skill_num\n",
    "\n",
    "# 超参数\n",
    "epochs = 200\n",
    "bs = 64\n",
    "embed_dim = pre_pro_embed.shape[1]\n",
    "hidden_dim = 10\n",
    "lr = 0.002\n",
    "use_pretrain = True\n",
    "train_embed = True\n",
    "\n",
    "import torch\n",
    "\n",
    "# 模型定义\n",
    "class LSTM(nn.Module):\n",
    "    def __init__(self, pro_num, embed_dim, hidden_dim):\n",
    "        super(LSTM, self).__init__()\n",
    "        self.pro_embeddings = nn.Embedding(pro_num, embed_dim, padding_idx=0)\n",
    "        # lstm_input_dim = embed_dim + 1\n",
    "        self.lstm = nn.LSTM(embed_dim*2, hidden_dim, batch_first=True)\n",
    "#         self.lstm = nn.Linear(embed_dim*2,hidden_dim)\n",
    "        self.linear = nn.Linear(hidden_dim, pro_num)\n",
    "        self.sigmoid = nn.Sigmoid()\n",
    "\n",
    "        if use_pretrain:\n",
    "            pretrained_weight = torch.from_numpy(pre_pro_embed)\n",
    "            self.pro_embeddings.weight.data.copy_(pretrained_weight)\n",
    "            self.pro_embeddings.weight.requires_grad = train_embed\n",
    "\n",
    "    def forward(self, pro_seq, y_seq, pro_len):\n",
    "        batch_size, seq_len = pro_seq.shape\n",
    "        # 创建全零的张量\n",
    "        zeros_tensor = torch.zeros(batch_size, seq_len, embed_dim)\n",
    "        # 在指定维度进行拼接，生成需要填充的张量\n",
    "        ones_tensor = torch.ones(batch_size,seq_len, embed_dim)\n",
    "        zeros_filled = torch.cat([zeros_tensor, ones_tensor], dim=-1)\n",
    "        # 根据 y_seq 创建索引张量\n",
    "        y_indices = y_seq == 1\n",
    "        # 使用索引张量填充对应位置\n",
    "        pro_emb = zeros_filled.clone()\n",
    "        pro_emb[y_indices] = torch.cat([torch.ones(embed_dim),torch.zeros(embed_dim)], dim=-1)\n",
    "        pro_embeddings_x = self.pro_embeddings(pro_seq)\n",
    "        pro_emb[:, :, :embed_dim] *= pro_embeddings_x\n",
    "        pro_emb[:, :, embed_dim:] *= pro_embeddings_x\n",
    "        # B T C ----> B T H\n",
    "        lstm_out, (hn, cn) = self.lstm(pro_emb)\n",
    "#         lstm_out = self.lstm(pro_emb)\n",
    "        pred = self.linear(lstm_out)\n",
    "        return self.sigmoid(pred)\n",
    "\n",
    "\n",
    "model = LSTM(pro_num, embed_dim, hidden_dim).to(device)\n",
    "\n",
    "# 损失函数和优化器\n",
    "# criterion = nn.BCEWithLogitsLoss()\n",
    "criterion = nn.BCELoss()\n",
    "optimizer = torch.optim.Adam(model.parameters(), lr=lr)\n",
    "\n",
    "\n",
    "def compute_metrics(preds, targets):\n",
    "    auc = metrics.roc_auc_score(targets, preds)\n",
    "    preds[preds > 0.5] = 1\n",
    "    preds[preds <= 0.5] = 0\n",
    "    acc = metrics.accuracy_score(targets, preds)\n",
    "    return acc, auc\n"
   ]
  },
  {
   "cell_type": "code",
   "execution_count": 89,
   "id": "172b2786",
   "metadata": {},
   "outputs": [
    {
     "name": "stderr",
     "output_type": "stream",
     "text": [
      "100%|███████████████████████████████████████████████████████████████████████████████████████████████████████████████████████████████████████████████████████████████| 103/103 [00:03<00:00, 34.24it/s]\n",
      "100%|████████████████████████████████████████████████████████████████████████████████████████████████████████████████████████████████████████████████████████████████| 44/44 [00:00<00:00, 191.33it/s]\n"
     ]
    },
    {
     "name": "stdout",
     "output_type": "stream",
     "text": [
      "Epoch 1/200, Train Loss: 0.63554, Test AUC: 0.706, Test ACC: 0.700\n"
     ]
    },
    {
     "name": "stderr",
     "output_type": "stream",
     "text": [
      "100%|███████████████████████████████████████████████████████████████████████████████████████████████████████████████████████████████████████████████████████████████| 103/103 [00:02<00:00, 35.38it/s]\n",
      "100%|████████████████████████████████████████████████████████████████████████████████████████████████████████████████████████████████████████████████████████████████| 44/44 [00:00<00:00, 186.23it/s]\n"
     ]
    },
    {
     "name": "stdout",
     "output_type": "stream",
     "text": [
      "Epoch 2/200, Train Loss: 0.56173, Test AUC: 0.742, Test ACC: 0.720\n"
     ]
    },
    {
     "name": "stderr",
     "output_type": "stream",
     "text": [
      "100%|███████████████████████████████████████████████████████████████████████████████████████████████████████████████████████████████████████████████████████████████| 103/103 [00:02<00:00, 35.27it/s]\n",
      "100%|████████████████████████████████████████████████████████████████████████████████████████████████████████████████████████████████████████████████████████████████| 44/44 [00:00<00:00, 189.11it/s]\n"
     ]
    },
    {
     "name": "stdout",
     "output_type": "stream",
     "text": [
      "Epoch 3/200, Train Loss: 0.53878, Test AUC: 0.754, Test ACC: 0.729\n"
     ]
    },
    {
     "name": "stderr",
     "output_type": "stream",
     "text": [
      "100%|███████████████████████████████████████████████████████████████████████████████████████████████████████████████████████████████████████████████████████████████| 103/103 [00:02<00:00, 35.17it/s]\n",
      "100%|████████████████████████████████████████████████████████████████████████████████████████████████████████████████████████████████████████████████████████████████| 44/44 [00:00<00:00, 189.55it/s]\n"
     ]
    },
    {
     "name": "stdout",
     "output_type": "stream",
     "text": [
      "Epoch 4/200, Train Loss: 0.52929, Test AUC: 0.760, Test ACC: 0.733\n"
     ]
    },
    {
     "name": "stderr",
     "output_type": "stream",
     "text": [
      "100%|███████████████████████████████████████████████████████████████████████████████████████████████████████████████████████████████████████████████████████████████| 103/103 [00:02<00:00, 34.98it/s]\n",
      "100%|████████████████████████████████████████████████████████████████████████████████████████████████████████████████████████████████████████████████████████████████| 44/44 [00:00<00:00, 190.57it/s]\n"
     ]
    },
    {
     "name": "stdout",
     "output_type": "stream",
     "text": [
      "Epoch 5/200, Train Loss: 0.52349, Test AUC: 0.764, Test ACC: 0.735\n"
     ]
    },
    {
     "name": "stderr",
     "output_type": "stream",
     "text": [
      "100%|███████████████████████████████████████████████████████████████████████████████████████████████████████████████████████████████████████████████████████████████| 103/103 [00:02<00:00, 34.52it/s]\n",
      "100%|████████████████████████████████████████████████████████████████████████████████████████████████████████████████████████████████████████████████████████████████| 44/44 [00:00<00:00, 192.55it/s]\n"
     ]
    },
    {
     "name": "stdout",
     "output_type": "stream",
     "text": [
      "Epoch 6/200, Train Loss: 0.51916, Test AUC: 0.767, Test ACC: 0.737\n"
     ]
    },
    {
     "name": "stderr",
     "output_type": "stream",
     "text": [
      "100%|███████████████████████████████████████████████████████████████████████████████████████████████████████████████████████████████████████████████████████████████| 103/103 [00:02<00:00, 35.11it/s]\n",
      "100%|████████████████████████████████████████████████████████████████████████████████████████████████████████████████████████████████████████████████████████████████| 44/44 [00:00<00:00, 190.10it/s]\n"
     ]
    },
    {
     "name": "stdout",
     "output_type": "stream",
     "text": [
      "Epoch 7/200, Train Loss: 0.51570, Test AUC: 0.769, Test ACC: 0.739\n"
     ]
    },
    {
     "name": "stderr",
     "output_type": "stream",
     "text": [
      "100%|███████████████████████████████████████████████████████████████████████████████████████████████████████████████████████████████████████████████████████████████| 103/103 [00:02<00:00, 35.31it/s]\n",
      "100%|████████████████████████████████████████████████████████████████████████████████████████████████████████████████████████████████████████████████████████████████| 44/44 [00:00<00:00, 190.76it/s]\n"
     ]
    },
    {
     "name": "stdout",
     "output_type": "stream",
     "text": [
      "Epoch 8/200, Train Loss: 0.51292, Test AUC: 0.770, Test ACC: 0.740\n"
     ]
    },
    {
     "name": "stderr",
     "output_type": "stream",
     "text": [
      "100%|███████████████████████████████████████████████████████████████████████████████████████████████████████████████████████████████████████████████████████████████| 103/103 [00:02<00:00, 35.03it/s]\n",
      "100%|████████████████████████████████████████████████████████████████████████████████████████████████████████████████████████████████████████████████████████████████| 44/44 [00:00<00:00, 184.83it/s]\n"
     ]
    },
    {
     "name": "stdout",
     "output_type": "stream",
     "text": [
      "Epoch 9/200, Train Loss: 0.51063, Test AUC: 0.771, Test ACC: 0.740\n"
     ]
    },
    {
     "name": "stderr",
     "output_type": "stream",
     "text": [
      "100%|███████████████████████████████████████████████████████████████████████████████████████████████████████████████████████████████████████████████████████████████| 103/103 [00:02<00:00, 34.97it/s]\n",
      "100%|████████████████████████████████████████████████████████████████████████████████████████████████████████████████████████████████████████████████████████████████| 44/44 [00:00<00:00, 179.31it/s]\n"
     ]
    },
    {
     "name": "stdout",
     "output_type": "stream",
     "text": [
      "Epoch 10/200, Train Loss: 0.50854, Test AUC: 0.772, Test ACC: 0.741\n"
     ]
    },
    {
     "name": "stderr",
     "output_type": "stream",
     "text": [
      "100%|███████████████████████████████████████████████████████████████████████████████████████████████████████████████████████████████████████████████████████████████| 103/103 [00:02<00:00, 35.01it/s]\n",
      "100%|████████████████████████████████████████████████████████████████████████████████████████████████████████████████████████████████████████████████████████████████| 44/44 [00:00<00:00, 186.82it/s]\n"
     ]
    },
    {
     "name": "stdout",
     "output_type": "stream",
     "text": [
      "Epoch 11/200, Train Loss: 0.50675, Test AUC: 0.773, Test ACC: 0.741\n"
     ]
    },
    {
     "name": "stderr",
     "output_type": "stream",
     "text": [
      "100%|███████████████████████████████████████████████████████████████████████████████████████████████████████████████████████████████████████████████████████████████| 103/103 [00:02<00:00, 35.24it/s]\n",
      "100%|████████████████████████████████████████████████████████████████████████████████████████████████████████████████████████████████████████████████████████████████| 44/44 [00:00<00:00, 187.00it/s]\n"
     ]
    },
    {
     "name": "stdout",
     "output_type": "stream",
     "text": [
      "Epoch 12/200, Train Loss: 0.50508, Test AUC: 0.774, Test ACC: 0.742\n"
     ]
    },
    {
     "name": "stderr",
     "output_type": "stream",
     "text": [
      "100%|███████████████████████████████████████████████████████████████████████████████████████████████████████████████████████████████████████████████████████████████| 103/103 [00:03<00:00, 30.63it/s]\n",
      "100%|████████████████████████████████████████████████████████████████████████████████████████████████████████████████████████████████████████████████████████████████| 44/44 [00:00<00:00, 184.70it/s]\n"
     ]
    },
    {
     "name": "stdout",
     "output_type": "stream",
     "text": [
      "Epoch 13/200, Train Loss: 0.50356, Test AUC: 0.774, Test ACC: 0.743\n"
     ]
    },
    {
     "name": "stderr",
     "output_type": "stream",
     "text": [
      "100%|███████████████████████████████████████████████████████████████████████████████████████████████████████████████████████████████████████████████████████████████| 103/103 [00:02<00:00, 35.07it/s]\n",
      "100%|████████████████████████████████████████████████████████████████████████████████████████████████████████████████████████████████████████████████████████████████| 44/44 [00:00<00:00, 185.80it/s]\n"
     ]
    },
    {
     "name": "stdout",
     "output_type": "stream",
     "text": [
      "Epoch 14/200, Train Loss: 0.50218, Test AUC: 0.775, Test ACC: 0.743\n"
     ]
    },
    {
     "name": "stderr",
     "output_type": "stream",
     "text": [
      "100%|███████████████████████████████████████████████████████████████████████████████████████████████████████████████████████████████████████████████████████████████| 103/103 [00:02<00:00, 34.42it/s]\n",
      "100%|████████████████████████████████████████████████████████████████████████████████████████████████████████████████████████████████████████████████████████████████| 44/44 [00:00<00:00, 187.24it/s]\n"
     ]
    },
    {
     "name": "stdout",
     "output_type": "stream",
     "text": [
      "Epoch 15/200, Train Loss: 0.50090, Test AUC: 0.775, Test ACC: 0.743\n"
     ]
    },
    {
     "name": "stderr",
     "output_type": "stream",
     "text": [
      "100%|███████████████████████████████████████████████████████████████████████████████████████████████████████████████████████████████████████████████████████████████| 103/103 [00:02<00:00, 34.96it/s]\n",
      "100%|████████████████████████████████████████████████████████████████████████████████████████████████████████████████████████████████████████████████████████████████| 44/44 [00:00<00:00, 186.58it/s]\n"
     ]
    },
    {
     "name": "stdout",
     "output_type": "stream",
     "text": [
      "Epoch 16/200, Train Loss: 0.49970, Test AUC: 0.776, Test ACC: 0.743\n"
     ]
    },
    {
     "name": "stderr",
     "output_type": "stream",
     "text": [
      "100%|███████████████████████████████████████████████████████████████████████████████████████████████████████████████████████████████████████████████████████████████| 103/103 [00:02<00:00, 34.68it/s]\n",
      "100%|████████████████████████████████████████████████████████████████████████████████████████████████████████████████████████████████████████████████████████████████| 44/44 [00:00<00:00, 188.38it/s]\n"
     ]
    },
    {
     "name": "stdout",
     "output_type": "stream",
     "text": [
      "Epoch 17/200, Train Loss: 0.49865, Test AUC: 0.776, Test ACC: 0.743\n"
     ]
    },
    {
     "name": "stderr",
     "output_type": "stream",
     "text": [
      "100%|███████████████████████████████████████████████████████████████████████████████████████████████████████████████████████████████████████████████████████████████| 103/103 [00:02<00:00, 34.52it/s]\n",
      "100%|████████████████████████████████████████████████████████████████████████████████████████████████████████████████████████████████████████████████████████████████| 44/44 [00:00<00:00, 182.20it/s]\n"
     ]
    },
    {
     "name": "stdout",
     "output_type": "stream",
     "text": [
      "Epoch 18/200, Train Loss: 0.49766, Test AUC: 0.776, Test ACC: 0.743\n"
     ]
    },
    {
     "name": "stderr",
     "output_type": "stream",
     "text": [
      "100%|███████████████████████████████████████████████████████████████████████████████████████████████████████████████████████████████████████████████████████████████| 103/103 [00:02<00:00, 34.35it/s]\n",
      "100%|████████████████████████████████████████████████████████████████████████████████████████████████████████████████████████████████████████████████████████████████| 44/44 [00:00<00:00, 186.43it/s]\n"
     ]
    },
    {
     "name": "stdout",
     "output_type": "stream",
     "text": [
      "Epoch 19/200, Train Loss: 0.49668, Test AUC: 0.776, Test ACC: 0.743\n"
     ]
    },
    {
     "name": "stderr",
     "output_type": "stream",
     "text": [
      "100%|███████████████████████████████████████████████████████████████████████████████████████████████████████████████████████████████████████████████████████████████| 103/103 [00:02<00:00, 34.59it/s]\n",
      "100%|████████████████████████████████████████████████████████████████████████████████████████████████████████████████████████████████████████████████████████████████| 44/44 [00:00<00:00, 176.09it/s]\n"
     ]
    },
    {
     "name": "stdout",
     "output_type": "stream",
     "text": [
      "Epoch 20/200, Train Loss: 0.49575, Test AUC: 0.777, Test ACC: 0.744\n"
     ]
    },
    {
     "name": "stderr",
     "output_type": "stream",
     "text": [
      "100%|███████████████████████████████████████████████████████████████████████████████████████████████████████████████████████████████████████████████████████████████| 103/103 [00:02<00:00, 34.76it/s]\n",
      "100%|████████████████████████████████████████████████████████████████████████████████████████████████████████████████████████████████████████████████████████████████| 44/44 [00:00<00:00, 184.47it/s]\n"
     ]
    },
    {
     "name": "stdout",
     "output_type": "stream",
     "text": [
      "Epoch 21/200, Train Loss: 0.49483, Test AUC: 0.777, Test ACC: 0.744\n"
     ]
    },
    {
     "name": "stderr",
     "output_type": "stream",
     "text": [
      " 59%|██████████████████████████████████████████████████████████████████████████████████████████████▊                                                                 | 61/103 [00:01<00:01, 33.58it/s]\n"
     ]
    },
    {
     "ename": "KeyboardInterrupt",
     "evalue": "",
     "output_type": "error",
     "traceback": [
      "\u001b[0;31m---------------------------------------------------------------------------\u001b[0m",
      "\u001b[0;31mKeyboardInterrupt\u001b[0m                         Traceback (most recent call last)",
      "Cell \u001b[0;32mIn[89], line 29\u001b[0m\n\u001b[1;32m     27\u001b[0m loss \u001b[38;5;241m=\u001b[39m criterion(pred, target)\n\u001b[1;32m     28\u001b[0m optimizer\u001b[38;5;241m.\u001b[39mzero_grad()\n\u001b[0;32m---> 29\u001b[0m \u001b[43mloss\u001b[49m\u001b[38;5;241;43m.\u001b[39;49m\u001b[43mbackward\u001b[49m\u001b[43m(\u001b[49m\u001b[43m)\u001b[49m\n\u001b[1;32m     30\u001b[0m optimizer\u001b[38;5;241m.\u001b[39mstep()\n\u001b[1;32m     31\u001b[0m train_loss \u001b[38;5;241m+\u001b[39m\u001b[38;5;241m=\u001b[39m loss\u001b[38;5;241m.\u001b[39mitem()\n",
      "File \u001b[0;32m~/opt/anaconda3/envs/edu_ktm/lib/python3.9/site-packages/torch/_tensor.py:487\u001b[0m, in \u001b[0;36mTensor.backward\u001b[0;34m(self, gradient, retain_graph, create_graph, inputs)\u001b[0m\n\u001b[1;32m    477\u001b[0m \u001b[38;5;28;01mif\u001b[39;00m has_torch_function_unary(\u001b[38;5;28mself\u001b[39m):\n\u001b[1;32m    478\u001b[0m     \u001b[38;5;28;01mreturn\u001b[39;00m handle_torch_function(\n\u001b[1;32m    479\u001b[0m         Tensor\u001b[38;5;241m.\u001b[39mbackward,\n\u001b[1;32m    480\u001b[0m         (\u001b[38;5;28mself\u001b[39m,),\n\u001b[0;32m   (...)\u001b[0m\n\u001b[1;32m    485\u001b[0m         inputs\u001b[38;5;241m=\u001b[39minputs,\n\u001b[1;32m    486\u001b[0m     )\n\u001b[0;32m--> 487\u001b[0m \u001b[43mtorch\u001b[49m\u001b[38;5;241;43m.\u001b[39;49m\u001b[43mautograd\u001b[49m\u001b[38;5;241;43m.\u001b[39;49m\u001b[43mbackward\u001b[49m\u001b[43m(\u001b[49m\n\u001b[1;32m    488\u001b[0m \u001b[43m    \u001b[49m\u001b[38;5;28;43mself\u001b[39;49m\u001b[43m,\u001b[49m\u001b[43m \u001b[49m\u001b[43mgradient\u001b[49m\u001b[43m,\u001b[49m\u001b[43m \u001b[49m\u001b[43mretain_graph\u001b[49m\u001b[43m,\u001b[49m\u001b[43m \u001b[49m\u001b[43mcreate_graph\u001b[49m\u001b[43m,\u001b[49m\u001b[43m \u001b[49m\u001b[43minputs\u001b[49m\u001b[38;5;241;43m=\u001b[39;49m\u001b[43minputs\u001b[49m\n\u001b[1;32m    489\u001b[0m \u001b[43m\u001b[49m\u001b[43m)\u001b[49m\n",
      "File \u001b[0;32m~/opt/anaconda3/envs/edu_ktm/lib/python3.9/site-packages/torch/autograd/__init__.py:200\u001b[0m, in \u001b[0;36mbackward\u001b[0;34m(tensors, grad_tensors, retain_graph, create_graph, grad_variables, inputs)\u001b[0m\n\u001b[1;32m    195\u001b[0m     retain_graph \u001b[38;5;241m=\u001b[39m create_graph\n\u001b[1;32m    197\u001b[0m \u001b[38;5;66;03m# The reason we repeat same the comment below is that\u001b[39;00m\n\u001b[1;32m    198\u001b[0m \u001b[38;5;66;03m# some Python versions print out the first line of a multi-line function\u001b[39;00m\n\u001b[1;32m    199\u001b[0m \u001b[38;5;66;03m# calls in the traceback and some print out the last line\u001b[39;00m\n\u001b[0;32m--> 200\u001b[0m \u001b[43mVariable\u001b[49m\u001b[38;5;241;43m.\u001b[39;49m\u001b[43m_execution_engine\u001b[49m\u001b[38;5;241;43m.\u001b[39;49m\u001b[43mrun_backward\u001b[49m\u001b[43m(\u001b[49m\u001b[43m  \u001b[49m\u001b[38;5;66;43;03m# Calls into the C++ engine to run the backward pass\u001b[39;49;00m\n\u001b[1;32m    201\u001b[0m \u001b[43m    \u001b[49m\u001b[43mtensors\u001b[49m\u001b[43m,\u001b[49m\u001b[43m \u001b[49m\u001b[43mgrad_tensors_\u001b[49m\u001b[43m,\u001b[49m\u001b[43m \u001b[49m\u001b[43mretain_graph\u001b[49m\u001b[43m,\u001b[49m\u001b[43m \u001b[49m\u001b[43mcreate_graph\u001b[49m\u001b[43m,\u001b[49m\u001b[43m \u001b[49m\u001b[43minputs\u001b[49m\u001b[43m,\u001b[49m\n\u001b[1;32m    202\u001b[0m \u001b[43m    \u001b[49m\u001b[43mallow_unreachable\u001b[49m\u001b[38;5;241;43m=\u001b[39;49m\u001b[38;5;28;43;01mTrue\u001b[39;49;00m\u001b[43m,\u001b[49m\u001b[43m \u001b[49m\u001b[43maccumulate_grad\u001b[49m\u001b[38;5;241;43m=\u001b[39;49m\u001b[38;5;28;43;01mTrue\u001b[39;49;00m\u001b[43m)\u001b[49m\n",
      "\u001b[0;31mKeyboardInterrupt\u001b[0m: "
     ]
    }
   ],
   "source": [
    "if train_flag:\n",
    "\n",
    "    train_steps = math.ceil(len(train_y) / bs)\n",
    "    test_steps = math.ceil(len(test_y) / bs)\n",
    "\n",
    "    best_auc = 0\n",
    "\n",
    "    plot_data1 = []\n",
    "    plot_data2 = []\n",
    "    plot_data3 = []\n",
    "    for epoch in range(epochs):\n",
    "\n",
    "        model.train()\n",
    "        train_loss = 0\n",
    "\n",
    "        for i in tqdm(range(train_steps)):\n",
    "            start = i * bs\n",
    "            end = start + bs\n",
    "            y_batch = torch.from_numpy(train_y[start:end]).float().to(device)\n",
    "            # pro_batch = torch.from_numpy(train_problem[start:end]).long().to(device)\n",
    "            pro_batch = torch.from_numpy(train_skill[start:end]).long().to(device)\n",
    "            len_batch = torch.from_numpy(train_real_len[start:end]).long().to(device)\n",
    "            apred = model(pro_batch, y_batch, len_batch)\n",
    "            problem_ids = torch.cat([pro_batch[i, 1:l] for i, l in enumerate(len_batch)], dim=-1)\n",
    "            pred = torch.cat([apred[i,:l-1] for i,l in enumerate(len_batch)],dim=0).gather(1,problem_ids.view(-1,1)).flatten()\n",
    "            target = torch.cat([y_batch[i,1:l] for i,l in enumerate(len_batch)],dim=-1)\n",
    "            loss = criterion(pred, target)\n",
    "            optimizer.zero_grad()\n",
    "            loss.backward()\n",
    "            optimizer.step()\n",
    "            train_loss += loss.item()\n",
    "\n",
    "        train_loss /= train_steps\n",
    "\n",
    "        model.eval()\n",
    "        test_preds, test_targets = [], []\n",
    "        with torch.no_grad():\n",
    "            for i in tqdm(range(test_steps)):\n",
    "                start = i * bs\n",
    "                end = start + bs\n",
    "                y_batch = torch.from_numpy(test_y[start:end]).float().to(device)\n",
    "                # pro_batch = torch.from_numpy(test_problem[start:end]).long().to(device)\n",
    "                pro_batch = torch.from_numpy(test_skill[start:end]).long().to(device)\n",
    "                len_batch = torch.from_numpy(test_real_len[start:end]).long().to(device)\n",
    "\n",
    "                apred = model(pro_batch, y_batch, len_batch).squeeze(-1)\n",
    "                problem_ids = torch.cat([pro_batch[i, 1:l ] for i, l in enumerate(len_batch)], dim=-1)\n",
    "                pred = torch.cat([apred[i, :l-1] for i, l in enumerate(len_batch)], dim=0).gather(1,problem_ids.view(-1, 1)).flatten()\n",
    "                target = torch.cat([y_batch[i, 1:l] for i, l in enumerate(len_batch)], dim=-1)\n",
    "                test_preds.append(pred.detach().cpu().numpy())\n",
    "                test_targets.append(target.detach().cpu().numpy())\n",
    "\n",
    "        test_preds = np.concatenate(test_preds, axis=0)\n",
    "        test_targets = np.concatenate(test_targets, axis=0)\n",
    "        test_acc, test_auc = compute_metrics(test_preds, test_targets)\n",
    "\n",
    "        print(\n",
    "            f'Epoch {epoch + 1}/{epochs}, Train Loss: {train_loss:.5f}, Test AUC: {test_auc:.3f}, Test ACC: {test_acc:.3f}')\n",
    "        plot_data1.append(train_loss)\n",
    "        plot_data2.append(test_auc)\n",
    "        plot_data3.append(test_acc)\n",
    "\n",
    "        if test_auc > best_auc:\n",
    "            best_auc = test_auc\n",
    "            torch.save(model.state_dict(), os.path.join(data_folder, 'dkt_pytorch.pt'))\n",
    "\n",
    "else:\n",
    "    model.load_state_dict(torch.load(os.path.join(data_folder, 'dkt_pytorch.pt')))\n",
    "    model.eval()\n",
    "\n",
    "    # 得到问题嵌入向量\n",
    "    pro_embed_trained = model.pro_embeddings.weight.data[1:].cpu().numpy()\n",
    "    np.savez(os.path.join(data_folder, 'pro_embed_pytorch.npz'), pro_final_repre=pro_embed_trained)"
   ]
  },
  {
   "cell_type": "code",
   "execution_count": null,
   "id": "aab79156",
   "metadata": {},
   "outputs": [],
   "source": [
    "from sklearn.manifold import TSNE\n",
    "import matplotlib.pyplot as plt\n",
    "\n",
    "\n",
    "\n",
    "# 初始化t-SNE模型\n",
    "tsne = TSNE(n_components=2, perplexity=30, learning_rate=100, n_iter=1000)\n",
    "\n",
    "# 执行t-SNE降维\n",
    "embedded_data = tsne.fit_transform(pre_pro_embed)\n",
    "\n",
    "# 可视化结果\n",
    "# plt.scatter(embedded_data[:, 0], embedded_data[:, 1])\n",
    "for label in range(skill_num):\n",
    "#     pids = pro_skill_tensor[:,label].nonzero().view(-1).detach().numpy()\n",
    "#     print(pids)\n",
    "    red =  np.random.randint(0, 256)\n",
    "    green = np.random.randint(0, 256)\n",
    "    blue = np.random.randint(0, 256)\n",
    "    color = (red / 255, green / 255, blue / 255)\n",
    "    class_data = embedded_data[label]\n",
    "#     print(class_data)\n",
    "    plt.scatter(class_data[0], class_data[1],c=color, label=str(label))\n",
    "plt.show()"
   ]
  },
  {
   "cell_type": "code",
   "execution_count": 9,
   "id": "9a628cec",
   "metadata": {},
   "outputs": [],
   "source": [
    "# pretrain 0.712"
   ]
  },
  {
   "cell_type": "code",
   "execution_count": 6,
   "id": "5c477d49",
   "metadata": {},
   "outputs": [
    {
     "data": {
      "text/plain": [
       "(123, 64)"
      ]
     },
     "execution_count": 6,
     "metadata": {},
     "output_type": "execute_result"
    }
   ],
   "source": [
    "pre_pro_embed.shape"
   ]
  },
  {
   "cell_type": "code",
   "execution_count": 7,
   "id": "76715a06",
   "metadata": {},
   "outputs": [
    {
     "ename": "NameError",
     "evalue": "name 'plot_data1' is not defined",
     "output_type": "error",
     "traceback": [
      "\u001b[0;31m---------------------------------------------------------------------------\u001b[0m",
      "\u001b[0;31mNameError\u001b[0m                                 Traceback (most recent call last)",
      "Cell \u001b[0;32mIn[7], line 4\u001b[0m\n\u001b[1;32m      1\u001b[0m \u001b[38;5;28;01mimport\u001b[39;00m \u001b[38;5;21;01mmatplotlib\u001b[39;00m\u001b[38;5;21;01m.\u001b[39;00m\u001b[38;5;21;01mpyplot\u001b[39;00m \u001b[38;5;28;01mas\u001b[39;00m \u001b[38;5;21;01mplt\u001b[39;00m\n\u001b[1;32m      3\u001b[0m \u001b[38;5;66;03m# 示例数据\u001b[39;00m\n\u001b[0;32m----> 4\u001b[0m x \u001b[38;5;241m=\u001b[39m \u001b[38;5;28mlist\u001b[39m(\u001b[38;5;28mrange\u001b[39m(\u001b[38;5;28mlen\u001b[39m(\u001b[43mplot_data1\u001b[49m)))\n\u001b[1;32m      5\u001b[0m y_class1 \u001b[38;5;241m=\u001b[39m plot_data1\n\u001b[1;32m      6\u001b[0m y_class2 \u001b[38;5;241m=\u001b[39m plot_data2\n",
      "\u001b[0;31mNameError\u001b[0m: name 'plot_data1' is not defined"
     ]
    }
   ],
   "source": [
    "import matplotlib.pyplot as plt\n",
    "\n",
    "# 示例数据\n",
    "x = list(range(len(plot_data1)))\n",
    "y_class1 = plot_data1\n",
    "y_class2 = plot_data2\n",
    "y_class3 = plot_data3\n",
    "\n",
    "# 创建散点图\n",
    "plt.scatter(x, y_class1, color='red', label='train_loss')\n",
    "plt.scatter(x, y_class2, color='blue', label='Test AUC')\n",
    "plt.scatter(x, y_class3, color='green', label='test_acc')\n",
    "\n",
    "# 添加标题和坐标轴标签\n",
    "plt.title('Scatter Plot with 3 Classes')\n",
    "plt.xlabel('X-axis')\n",
    "plt.ylabel('Y-axis')\n",
    "\n",
    "# 添加图例\n",
    "plt.legend()\n",
    "\n",
    "# 显示图表\n",
    "plt.show()"
   ]
  },
  {
   "cell_type": "code",
   "execution_count": 30,
   "id": "4efd1974",
   "metadata": {},
   "outputs": [
    {
     "data": {
      "text/plain": [
       "(array([[0, 0, 0, ..., 0, 0, 0],\n",
       "        [0, 0, 0, ..., 0, 0, 0],\n",
       "        [0, 1, 0, ..., 0, 0, 0],\n",
       "        ...,\n",
       "        [0, 0, 0, ..., 0, 0, 0],\n",
       "        [1, 1, 1, ..., 0, 0, 1],\n",
       "        [1, 0, 0, ..., 0, 0, 0]]),\n",
       " array([[37, 55, 45, ...,  0,  0,  0],\n",
       "        [44,  0,  0, ...,  0,  0,  0],\n",
       "        [32, 32, 32, ...,  0,  0,  0],\n",
       "        ...,\n",
       "        [ 0, 11,  0, ...,  0,  0,  0],\n",
       "        [32, 32, 32, ..., 51, 51, 51],\n",
       "        [51, 51, 47, ...,  0,  0,  0]]),\n",
       " array([[7408, 7408, 8287, ...,    0,    0,    0],\n",
       "        [8156,    0,    0, ...,    0,    0,    0],\n",
       "        [6111, 6022, 5952, ...,    0,    0,    0],\n",
       "        ...,\n",
       "        [  31,   31,    0, ...,    0,    0,    0],\n",
       "        [6182, 6033, 6107, ..., 9736, 9663, 9757],\n",
       "        [9719, 9759, 8694, ...,    0,    0,    0]]),\n",
       " array([ 24,   1,   8, ...,   2, 100,  11]))"
      ]
     },
     "execution_count": 30,
     "metadata": {},
     "output_type": "execute_result"
    }
   ],
   "source": [
    "y, skill, problem, real_len"
   ]
  },
  {
   "cell_type": "code",
   "execution_count": null,
   "id": "6cf535ec",
   "metadata": {},
   "outputs": [],
   "source": []
  },
  {
   "cell_type": "code",
   "execution_count": null,
   "id": "be641f54",
   "metadata": {},
   "outputs": [],
   "source": []
  },
  {
   "cell_type": "markdown",
   "id": "7d7ea989",
   "metadata": {},
   "source": [
    "# 基线模型用于对比"
   ]
  },
  {
   "cell_type": "code",
   "execution_count": 15,
   "id": "84b63d7a",
   "metadata": {},
   "outputs": [],
   "source": [
    "num_skill=123"
   ]
  },
  {
   "cell_type": "code",
   "execution_count": 29,
   "id": "0cb6579c",
   "metadata": {},
   "outputs": [],
   "source": [
    "class DKT(nn.Module):\n",
    "    def __init__(self, pro_num, hidden_dim):\n",
    "        super(DKT, self).__init__()\n",
    "        self.lstm = nn.LSTM(pro_num*2, hidden_dim, batch_first=True)\n",
    "        self.linear = nn.Linear(hidden_dim, pro_num)\n",
    "        self.sigmoid = nn.Sigmoid()\n",
    "\n",
    "    def forward(self, pro_seq):\n",
    "        # B sql_len embed_size\n",
    "        lstm_out, (hn, cn) = self.lstm(pro_seq)\n",
    "        pred = self.linear(lstm_out)\n",
    "        return self.sigmoid(pred)"
   ]
  },
  {
   "cell_type": "code",
   "execution_count": 30,
   "id": "eb9625dc",
   "metadata": {},
   "outputs": [],
   "source": [
    "def encode_onehot(pro,answer,embed_size):\n",
    "    length,seq_len = pro.shape\n",
    "    res = np.zeros((length,seq_len,embed_size*2))\n",
    "    for i in range(length):\n",
    "        for j,(p,a) in enumerate(zip(pro[i],answer[i])):\n",
    "            res[i][j][int(a)*embed_size+p] = 1\n",
    "    return res      "
   ]
  },
  {
   "cell_type": "code",
   "execution_count": 31,
   "id": "8de115f8",
   "metadata": {},
   "outputs": [],
   "source": [
    "one_hot_skill = encode_onehot(data['skill'],data['y'],num_skill)"
   ]
  },
  {
   "cell_type": "code",
   "execution_count": 32,
   "id": "f7592961",
   "metadata": {},
   "outputs": [],
   "source": [
    "my_train,my_test = train_test_split([y, one_hot_skill, data['skill'], real_len],split=0.95)"
   ]
  },
  {
   "cell_type": "code",
   "execution_count": 33,
   "id": "822f1742",
   "metadata": {},
   "outputs": [],
   "source": [
    "my_train_y, my_train_onehot_skill, my_train_problem, my_train_real_len = my_train\n",
    "my_test_y, my_test_onehot_skill, my_test_problem, my_test_real_len = my_test"
   ]
  },
  {
   "cell_type": "code",
   "execution_count": 34,
   "id": "0dcae366",
   "metadata": {},
   "outputs": [
    {
     "data": {
      "text/plain": [
       "(470, 50)"
      ]
     },
     "execution_count": 34,
     "metadata": {},
     "output_type": "execute_result"
    }
   ],
   "source": [
    "my_test_y.shape"
   ]
  },
  {
   "cell_type": "code",
   "execution_count": 35,
   "id": "8099a9dc",
   "metadata": {},
   "outputs": [],
   "source": [
    "model = DKT(num_skill,10)\n",
    "criterion = nn.BCELoss()\n",
    "optimizer = torch.optim.Adam(model.parameters(), lr=0.002)"
   ]
  },
  {
   "cell_type": "code",
   "execution_count": 36,
   "id": "fe4f607c",
   "metadata": {},
   "outputs": [],
   "source": [
    "my_train_onehot_skill_tensor = torch.from_numpy(my_train_onehot_skill).float()\n",
    "my_train_y_tensor = torch.from_numpy(my_train_y).float()\n",
    "my_train_problem_tensor = torch.from_numpy(my_train_problem)\n",
    "my_train_real_len_tensor = torch.from_numpy(my_train_real_len)\n",
    "def get_train_batch(batch_size = 64):\n",
    "    i = np.random.randint(0,my_train_onehot_skill_tensor.shape[0]-batch_size-1)\n",
    "    return my_train_onehot_skill_tensor[i:i+batch_size],\\\n",
    "           my_train_y_tensor[i:i+batch_size],\\\n",
    "           my_train_real_len_tensor[i:i+batch_size],my_train_problem_tensor[i:i+batch_size]\n",
    "\n"
   ]
  },
  {
   "cell_type": "code",
   "execution_count": 37,
   "id": "24c9a97a",
   "metadata": {},
   "outputs": [
    {
     "data": {
      "text/plain": [
       "(tensor([[ 97,  96,  96,  ...,   0,   0,   0],\n",
       "         [ 49,  49,  49,  ...,   0,   0,   0],\n",
       "         [ 32,  67,  66,  ...,  12,  98,  98],\n",
       "         ...,\n",
       "         [ 81,  81,  81,  ...,  98,  98,  98],\n",
       "         [ 98,  98,  98,  ..., 121,   3, 121],\n",
       "         [  3, 121,   3,  ...,  45,  45,  58]]),\n",
       " tensor([16, 20, 50,  ..., 50, 50, 50]))"
      ]
     },
     "execution_count": 37,
     "metadata": {},
     "output_type": "execute_result"
    }
   ],
   "source": [
    "my_train_problem_tensor,my_train_real_len_tensor"
   ]
  },
  {
   "cell_type": "code",
   "execution_count": 38,
   "id": "b5444926",
   "metadata": {},
   "outputs": [],
   "source": [
    "def test_model():\n",
    "    model.eval()\n",
    "    with torch.no_grad():\n",
    "        my_test_onehot_skill_tensor = torch.from_numpy(my_test_onehot_skill).float()\n",
    "        print('xxx',my_test_onehot_skill_tensor.shape[0])\n",
    "        my_test_y_tensor = torch.from_numpy(my_test_y).float()\n",
    "        my_test_problem_tensor = torch.from_numpy(my_test_problem)\n",
    "        my_test_real_len_tensor = torch.from_numpy(my_test_real_len)\n",
    "        pred = model(my_test_onehot_skill_tensor)\n",
    "        problem_ids = torch.cat([my_test_problem_tensor[i, 1:l] for i, l in enumerate(my_test_real_len_tensor)], dim=-1)\n",
    "        pred = torch.cat([pred[i,:l-1] for i,l in enumerate(my_test_real_len_tensor)],dim=0).gather(1,problem_ids.view(-1,1)).flatten()\n",
    "        target = torch.cat([my_test_y_tensor[i,1:l] for i,l in enumerate(my_test_real_len_tensor)],dim=-1)\n",
    "        test_acc, test_auc = compute_metrics(pred.detach().numpy(), target.detach().numpy())\n",
    "        print(sum(pred == target)/len(pred))\n",
    "        print(test_acc, test_auc)"
   ]
  },
  {
   "cell_type": "code",
   "execution_count": 39,
   "id": "29f77430",
   "metadata": {},
   "outputs": [],
   "source": [
    "def train_model():\n",
    "    model.train()\n",
    "    for i in range(100000):\n",
    "        batch_pro,batch_y,batch_len,batch_pro_ids = get_train_batch()\n",
    "#         print(batch_pro.shape,batch_len.shape)\n",
    "        pred = model(batch_pro) # batch seql_len embedsize\n",
    "        problem_ids = torch.cat([batch_pro_ids[i,1:l] for i, l in enumerate(batch_len)], dim=-1)\n",
    "        pred = torch.cat([pred[i,:l-1] for i,l in enumerate(batch_len)],dim=0).gather(1,problem_ids.view(-1,1)).flatten()\n",
    "        target = torch.cat([batch_y[i,1:l] for i,l in enumerate(batch_len)],dim=-1)\n",
    "        loss = criterion(pred, target)\n",
    "        if i % 100 == 0:\n",
    "            print(loss)\n",
    "            test_model()\n",
    "        optimizer.zero_grad()\n",
    "        loss.backward()\n",
    "        optimizer.step()"
   ]
  },
  {
   "cell_type": "code",
   "execution_count": 40,
   "id": "e377b377",
   "metadata": {},
   "outputs": [
    {
     "name": "stdout",
     "output_type": "stream",
     "text": [
      "tensor(0.6903, grad_fn=<BinaryCrossEntropyBackward0>)\n",
      "xxx 470\n",
      "tensor(0.5425)\n",
      "0.5424727182539683 0.5067044716399985\n",
      "tensor(0.6397, grad_fn=<BinaryCrossEntropyBackward0>)\n",
      "xxx 470\n",
      "tensor(0.6690)\n",
      "0.6690228174603174 0.6560222209230899\n",
      "tensor(0.5137, grad_fn=<BinaryCrossEntropyBackward0>)\n",
      "xxx 470\n",
      "tensor(0.7015)\n",
      "0.7015128968253969 0.7279785031152354\n",
      "tensor(0.5569, grad_fn=<BinaryCrossEntropyBackward0>)\n",
      "xxx 470\n",
      "tensor(0.7253)\n",
      "0.7253224206349206 0.7599163869368923\n",
      "tensor(0.5097, grad_fn=<BinaryCrossEntropyBackward0>)\n",
      "xxx 470\n",
      "tensor(0.7369)\n",
      "0.7368551587301587 0.7765672505019714\n",
      "tensor(0.5637, grad_fn=<BinaryCrossEntropyBackward0>)\n",
      "xxx 470\n",
      "tensor(0.7436)\n",
      "0.7436135912698413 0.786523757126572\n",
      "tensor(0.5416, grad_fn=<BinaryCrossEntropyBackward0>)\n",
      "xxx 470\n",
      "tensor(0.7516)\n",
      "0.7516121031746031 0.7928235068162273\n",
      "tensor(0.5083, grad_fn=<BinaryCrossEntropyBackward0>)\n",
      "xxx 470\n",
      "tensor(0.7519)\n",
      "0.751922123015873 0.7973059849497626\n",
      "tensor(0.5000, grad_fn=<BinaryCrossEntropyBackward0>)\n",
      "xxx 470\n",
      "tensor(0.7586)\n",
      "0.7586185515873016 0.7998637479640608\n",
      "tensor(0.5113, grad_fn=<BinaryCrossEntropyBackward0>)\n",
      "xxx 470\n",
      "tensor(0.7607)\n",
      "0.7607266865079365 0.8035062790095318\n",
      "tensor(0.5070, grad_fn=<BinaryCrossEntropyBackward0>)\n",
      "xxx 470\n",
      "tensor(0.7618)\n",
      "0.761780753968254 0.8051695190984534\n",
      "tensor(0.4976, grad_fn=<BinaryCrossEntropyBackward0>)\n",
      "xxx 470\n",
      "tensor(0.7618)\n",
      "0.7618427579365079 0.8067190609218232\n",
      "tensor(0.6776, grad_fn=<BinaryCrossEntropyBackward0>)\n",
      "xxx 470\n",
      "tensor(0.7614)\n",
      "0.7614087301587301 0.807677571044\n",
      "tensor(0.5403, grad_fn=<BinaryCrossEntropyBackward0>)\n",
      "xxx 470\n",
      "tensor(0.7625)\n",
      "0.7625248015873016 0.8087366085523033\n",
      "tensor(0.5178, grad_fn=<BinaryCrossEntropyBackward0>)\n",
      "xxx 470\n",
      "tensor(0.7639)\n",
      "0.7638888888888888 0.8097204221694722\n",
      "tensor(0.6022, grad_fn=<BinaryCrossEntropyBackward0>)\n",
      "xxx 470\n",
      "tensor(0.7643)\n",
      "0.7643229166666666 0.8103523480697192\n",
      "tensor(0.4987, grad_fn=<BinaryCrossEntropyBackward0>)\n",
      "xxx 470\n",
      "tensor(0.7645)\n",
      "0.7645089285714286 0.8100279827181316\n",
      "tensor(0.5286, grad_fn=<BinaryCrossEntropyBackward0>)\n",
      "xxx 470\n",
      "tensor(0.7674)\n",
      "0.7673611111111112 0.8122133606774075\n",
      "tensor(0.6167, grad_fn=<BinaryCrossEntropyBackward0>)\n",
      "xxx 470\n",
      "tensor(0.7675)\n",
      "0.767547123015873 0.8121478412041074\n",
      "tensor(0.4556, grad_fn=<BinaryCrossEntropyBackward0>)\n",
      "xxx 470\n",
      "tensor(0.7674)\n",
      "0.7673611111111112 0.8131414513431625\n",
      "tensor(0.5084, grad_fn=<BinaryCrossEntropyBackward0>)\n",
      "xxx 470\n",
      "tensor(0.7684)\n",
      "0.7684151785714286 0.8137532148291341\n",
      "tensor(0.5202, grad_fn=<BinaryCrossEntropyBackward0>)\n",
      "xxx 470\n",
      "tensor(0.7668)\n",
      "0.7668030753968254 0.8139349444966749\n",
      "tensor(0.4076, grad_fn=<BinaryCrossEntropyBackward0>)\n",
      "xxx 470\n",
      "tensor(0.7690)\n",
      "0.7689732142857143 0.8142668623805205\n",
      "tensor(0.5562, grad_fn=<BinaryCrossEntropyBackward0>)\n",
      "xxx 470\n",
      "tensor(0.7692)\n",
      "0.7691592261904762 0.8146981102978175\n",
      "tensor(0.5811, grad_fn=<BinaryCrossEntropyBackward0>)\n",
      "xxx 470\n",
      "tensor(0.7695)\n",
      "0.769469246031746 0.8153160112628854\n",
      "tensor(0.5253, grad_fn=<BinaryCrossEntropyBackward0>)\n",
      "xxx 470\n",
      "tensor(0.7683)\n",
      "0.7682911706349206 0.8152864458622179\n",
      "tensor(0.4913, grad_fn=<BinaryCrossEntropyBackward0>)\n",
      "xxx 470\n",
      "tensor(0.7688)\n",
      "0.7688492063492064 0.8160547862364596\n",
      "tensor(0.4672, grad_fn=<BinaryCrossEntropyBackward0>)\n",
      "xxx 470\n",
      "tensor(0.7685)\n",
      "0.7685391865079365 0.8160181037045071\n",
      "tensor(0.4773, grad_fn=<BinaryCrossEntropyBackward0>)\n",
      "xxx 470\n",
      "tensor(0.7696)\n",
      "0.769593253968254 0.8164103162499798\n",
      "tensor(0.5226, grad_fn=<BinaryCrossEntropyBackward0>)\n",
      "xxx 470\n",
      "tensor(0.7704)\n",
      "0.7703993055555556 0.8163270960525192\n",
      "tensor(0.5654, grad_fn=<BinaryCrossEntropyBackward0>)\n",
      "xxx 470\n",
      "tensor(0.7677)\n",
      "0.7677331349206349 0.8161611329240486\n",
      "tensor(0.5754, grad_fn=<BinaryCrossEntropyBackward0>)\n",
      "xxx 470\n",
      "tensor(0.7710)\n",
      "0.7709573412698413 0.8176897755007274\n",
      "tensor(0.4631, grad_fn=<BinaryCrossEntropyBackward0>)\n",
      "xxx 470\n",
      "tensor(0.7698)\n",
      "0.7698412698412699 0.8173400899079564\n",
      "tensor(0.5536, grad_fn=<BinaryCrossEntropyBackward0>)\n",
      "xxx 470\n",
      "tensor(0.7713)\n",
      "0.7712673611111112 0.8180707680980568\n",
      "tensor(0.4476, grad_fn=<BinaryCrossEntropyBackward0>)\n",
      "xxx 470\n",
      "tensor(0.7689)\n",
      "0.7689112103174603 0.8178829846823762\n",
      "tensor(0.4432, grad_fn=<BinaryCrossEntropyBackward0>)\n",
      "xxx 470\n",
      "tensor(0.7687)\n",
      "0.7686631944444444 0.8174373099213095\n",
      "tensor(0.4506, grad_fn=<BinaryCrossEntropyBackward0>)\n",
      "xxx 470\n",
      "tensor(0.7702)\n",
      "0.7702132936507936 0.8179083467890375\n",
      "tensor(0.5922, grad_fn=<BinaryCrossEntropyBackward0>)\n",
      "xxx 470\n",
      "tensor(0.7704)\n",
      "0.7703993055555556 0.818196816679662\n",
      "tensor(0.5024, grad_fn=<BinaryCrossEntropyBackward0>)\n",
      "xxx 470\n",
      "tensor(0.7692)\n",
      "0.7692212301587301 0.8185550009644968\n",
      "tensor(0.5489, grad_fn=<BinaryCrossEntropyBackward0>)\n",
      "xxx 470\n",
      "tensor(0.7704)\n",
      "0.7703993055555556 0.8185844072763474\n",
      "tensor(0.4401, grad_fn=<BinaryCrossEntropyBackward0>)\n",
      "xxx 470\n",
      "tensor(0.7707)\n",
      "0.7707093253968254 0.8187315560589387\n",
      "tensor(0.4444, grad_fn=<BinaryCrossEntropyBackward0>)\n",
      "xxx 470\n",
      "tensor(0.7684)\n",
      "0.7684151785714286 0.8187968327124655\n",
      "tensor(0.4544, grad_fn=<BinaryCrossEntropyBackward0>)\n",
      "xxx 470\n",
      "tensor(0.7682)\n",
      "0.7681671626984127 0.8185797937006556\n",
      "tensor(0.4345, grad_fn=<BinaryCrossEntropyBackward0>)\n",
      "xxx 470\n",
      "tensor(0.7688)\n",
      "0.7687872023809523 0.8186900506239037\n",
      "tensor(0.5095, grad_fn=<BinaryCrossEntropyBackward0>)\n",
      "xxx 470\n",
      "tensor(0.7705)\n",
      "0.7704613095238095 0.8194105471297187\n",
      "tensor(0.4906, grad_fn=<BinaryCrossEntropyBackward0>)\n",
      "xxx 470\n",
      "tensor(0.7695)\n",
      "0.76953125 0.819523148519743\n",
      "tensor(0.4677, grad_fn=<BinaryCrossEntropyBackward0>)\n",
      "xxx 470\n",
      "tensor(0.7697)\n",
      "0.7697172619047619 0.8188967237433245\n",
      "tensor(0.4657, grad_fn=<BinaryCrossEntropyBackward0>)\n",
      "xxx 470\n",
      "tensor(0.7713)\n",
      "0.7712673611111112 0.81956966943906\n",
      "tensor(0.4819, grad_fn=<BinaryCrossEntropyBackward0>)\n",
      "xxx 470\n",
      "tensor(0.7712)\n",
      "0.7712053571428571 0.8199888182331726\n",
      "tensor(0.5145, grad_fn=<BinaryCrossEntropyBackward0>)\n",
      "xxx 470\n",
      "tensor(0.7716)\n",
      "0.7716393849206349 0.8208014857756762\n",
      "tensor(0.4301, grad_fn=<BinaryCrossEntropyBackward0>)\n",
      "xxx 470\n",
      "tensor(0.7709)\n",
      "0.7708953373015873 0.8204515741093231\n",
      "tensor(0.5253, grad_fn=<BinaryCrossEntropyBackward0>)\n",
      "xxx 470\n",
      "tensor(0.7716)\n",
      "0.7716393849206349 0.8204307418473972\n",
      "tensor(0.4357, grad_fn=<BinaryCrossEntropyBackward0>)\n",
      "xxx 470\n",
      "tensor(0.7703)\n",
      "0.7702752976190477 0.8203948296402428\n",
      "tensor(0.4499, grad_fn=<BinaryCrossEntropyBackward0>)\n",
      "xxx 470\n",
      "tensor(0.7720)\n",
      "0.7720114087301587 0.8198482423306506\n",
      "tensor(0.4622, grad_fn=<BinaryCrossEntropyBackward0>)\n",
      "xxx 470\n",
      "tensor(0.7728)\n",
      "0.7727554563492064 0.8204537176218043\n",
      "tensor(0.4890, grad_fn=<BinaryCrossEntropyBackward0>)\n",
      "xxx 470\n",
      "tensor(0.7710)\n",
      "0.7709573412698413 0.8210735527719628\n",
      "tensor(0.4589, grad_fn=<BinaryCrossEntropyBackward0>)\n",
      "xxx 470\n",
      "tensor(0.7713)\n",
      "0.7713293650793651 0.820491028135929\n",
      "tensor(0.4871, grad_fn=<BinaryCrossEntropyBackward0>)\n",
      "xxx 470\n",
      "tensor(0.7716)\n",
      "0.7716393849206349 0.8209835922325204\n",
      "tensor(0.4929, grad_fn=<BinaryCrossEntropyBackward0>)\n",
      "xxx 470\n",
      "tensor(0.7708)\n",
      "0.7708333333333334 0.8199493809527582\n",
      "tensor(0.4451, grad_fn=<BinaryCrossEntropyBackward0>)\n",
      "xxx 470\n",
      "tensor(0.7709)\n",
      "0.7708953373015873 0.8206320478125195\n",
      "tensor(0.4769, grad_fn=<BinaryCrossEntropyBackward0>)\n",
      "xxx 470\n",
      "tensor(0.7715)\n",
      "0.771453373015873 0.8205744995262586\n",
      "tensor(0.4730, grad_fn=<BinaryCrossEntropyBackward0>)\n",
      "xxx 470\n",
      "tensor(0.7711)\n",
      "0.7711433531746031 0.8210829390121632\n",
      "tensor(0.5491, grad_fn=<BinaryCrossEntropyBackward0>)\n",
      "xxx 470\n",
      "tensor(0.7737)\n",
      "0.7737475198412699 0.8215178962108243\n",
      "tensor(0.4415, grad_fn=<BinaryCrossEntropyBackward0>)\n",
      "xxx 470\n",
      "tensor(0.7726)\n",
      "0.7725694444444444 0.8214524604684803\n",
      "tensor(0.4893, grad_fn=<BinaryCrossEntropyBackward0>)\n",
      "xxx 470\n",
      "tensor(0.7737)\n",
      "0.7736855158730159 0.8216257835480092\n",
      "tensor(0.4414, grad_fn=<BinaryCrossEntropyBackward0>)\n",
      "xxx 470\n",
      "tensor(0.7734)\n",
      "0.773375496031746 0.8217768593124507\n",
      "tensor(0.4760, grad_fn=<BinaryCrossEntropyBackward0>)\n",
      "xxx 470\n",
      "tensor(0.7721)\n",
      "0.7721354166666666 0.8213913452434812\n",
      "tensor(0.4376, grad_fn=<BinaryCrossEntropyBackward0>)\n",
      "xxx 470\n",
      "tensor(0.7725)\n",
      "0.7725074404761905 0.8222202398453148\n",
      "tensor(0.4365, grad_fn=<BinaryCrossEntropyBackward0>)\n",
      "xxx 470\n",
      "tensor(0.7728)\n",
      "0.7727554563492064 0.8220823768257766\n",
      "tensor(0.3755, grad_fn=<BinaryCrossEntropyBackward0>)\n",
      "xxx 470\n",
      "tensor(0.7716)\n",
      "0.7715773809523809 0.8216344162096032\n",
      "tensor(0.4365, grad_fn=<BinaryCrossEntropyBackward0>)\n",
      "xxx 470\n",
      "tensor(0.7721)\n",
      "0.7721354166666666 0.822102363405044\n",
      "tensor(0.4875, grad_fn=<BinaryCrossEntropyBackward0>)\n",
      "xxx 470\n",
      "tensor(0.7739)\n",
      "0.7738715277777778 0.822298385946824\n"
     ]
    },
    {
     "name": "stdout",
     "output_type": "stream",
     "text": [
      "tensor(0.4761, grad_fn=<BinaryCrossEntropyBackward0>)\n",
      "xxx 470\n",
      "tensor(0.7725)\n",
      "0.7725074404761905 0.8220726221693684\n",
      "tensor(0.3906, grad_fn=<BinaryCrossEntropyBackward0>)\n",
      "xxx 470\n",
      "tensor(0.7722)\n",
      "0.7721974206349206 0.8222382336278222\n",
      "tensor(0.4945, grad_fn=<BinaryCrossEntropyBackward0>)\n",
      "xxx 470\n",
      "tensor(0.7728)\n",
      "0.7728174603174603 0.8225331424289859\n",
      "tensor(0.4737, grad_fn=<BinaryCrossEntropyBackward0>)\n",
      "xxx 470\n",
      "tensor(0.7721)\n",
      "0.7721354166666666 0.8221577346864413\n",
      "tensor(0.4642, grad_fn=<BinaryCrossEntropyBackward0>)\n",
      "xxx 470\n",
      "tensor(0.7723)\n",
      "0.7722594246031746 0.8224971632370662\n",
      "tensor(0.6604, grad_fn=<BinaryCrossEntropyBackward0>)\n",
      "xxx 470\n",
      "tensor(0.7736)\n",
      "0.7735615079365079 0.8222427969649404\n",
      "tensor(0.6032, grad_fn=<BinaryCrossEntropyBackward0>)\n",
      "xxx 470\n",
      "tensor(0.7728)\n",
      "0.7728174603174603 0.8211799078326475\n",
      "tensor(0.4214, grad_fn=<BinaryCrossEntropyBackward0>)\n",
      "xxx 470\n",
      "tensor(0.7729)\n",
      "0.7729414682539683 0.8217085013597321\n",
      "tensor(0.4546, grad_fn=<BinaryCrossEntropyBackward0>)\n",
      "xxx 470\n",
      "tensor(0.7724)\n",
      "0.7724454365079365 0.8217568811062788\n",
      "tensor(0.5174, grad_fn=<BinaryCrossEntropyBackward0>)\n",
      "xxx 470\n",
      "tensor(0.7741)\n",
      "0.7741195436507936 0.8220346585537845\n",
      "tensor(0.4238, grad_fn=<BinaryCrossEntropyBackward0>)\n",
      "xxx 470\n",
      "tensor(0.7737)\n",
      "0.7737475198412699 0.8223653958311461\n",
      "tensor(0.4281, grad_fn=<BinaryCrossEntropyBackward0>)\n",
      "xxx 470\n",
      "tensor(0.7743)\n",
      "0.7743055555555556 0.8216150659856036\n",
      "tensor(0.5030, grad_fn=<BinaryCrossEntropyBackward0>)\n",
      "xxx 470\n",
      "tensor(0.7734)\n",
      "0.773375496031746 0.8222744221471328\n",
      "tensor(0.5517, grad_fn=<BinaryCrossEntropyBackward0>)\n",
      "xxx 470\n",
      "tensor(0.7733)\n",
      "0.7732514880952381 0.822634130335372\n",
      "tensor(0.4594, grad_fn=<BinaryCrossEntropyBackward0>)\n",
      "xxx 470\n",
      "tensor(0.7737)\n",
      "0.7736855158730159 0.82292424135274\n",
      "tensor(0.4458, grad_fn=<BinaryCrossEntropyBackward0>)\n",
      "xxx 470\n",
      "tensor(0.7742)\n",
      "0.7741815476190477 0.8219548462062449\n",
      "tensor(0.4913, grad_fn=<BinaryCrossEntropyBackward0>)\n",
      "xxx 470\n",
      "tensor(0.7745)\n",
      "0.7744915674603174 0.8226233290420102\n",
      "tensor(0.3849, grad_fn=<BinaryCrossEntropyBackward0>)\n",
      "xxx 470\n",
      "tensor(0.7738)\n",
      "0.7738095238095238 0.8224705116736778\n",
      "tensor(0.4591, grad_fn=<BinaryCrossEntropyBackward0>)\n",
      "xxx 470\n",
      "tensor(0.7740)\n",
      "0.7739955357142857 0.8223850642327797\n",
      "tensor(0.5173, grad_fn=<BinaryCrossEntropyBackward0>)\n",
      "xxx 470\n",
      "tensor(0.7737)\n",
      "0.7736855158730159 0.8224984945592713\n",
      "tensor(0.4942, grad_fn=<BinaryCrossEntropyBackward0>)\n",
      "xxx 470\n",
      "tensor(0.7741)\n",
      "0.7741195436507936 0.8223831719131675\n",
      "tensor(0.4311, grad_fn=<BinaryCrossEntropyBackward0>)\n",
      "xxx 470\n",
      "tensor(0.7734)\n",
      "0.7734375 0.8220921147359934\n",
      "tensor(0.4246, grad_fn=<BinaryCrossEntropyBackward0>)\n",
      "xxx 470\n",
      "tensor(0.7743)\n",
      "0.7743055555555556 0.8223743550434697\n",
      "tensor(0.7076, grad_fn=<BinaryCrossEntropyBackward0>)\n",
      "xxx 470\n",
      "tensor(0.7729)\n",
      "0.7728794642857143 0.8220917546928815\n",
      "tensor(0.4298, grad_fn=<BinaryCrossEntropyBackward0>)\n",
      "xxx 470\n",
      "tensor(0.7727)\n",
      "0.7726934523809523 0.8219284290895342\n",
      "tensor(0.3916, grad_fn=<BinaryCrossEntropyBackward0>)\n",
      "xxx 470\n",
      "tensor(0.7738)\n",
      "0.7738095238095238 0.8224414486587481\n",
      "tensor(0.5660, grad_fn=<BinaryCrossEntropyBackward0>)\n",
      "xxx 470\n",
      "tensor(0.7742)\n",
      "0.7741815476190477 0.8224182300645677\n",
      "tensor(0.5957, grad_fn=<BinaryCrossEntropyBackward0>)\n",
      "xxx 470\n",
      "tensor(0.7727)\n",
      "0.7726934523809523 0.8224114311109166\n",
      "tensor(0.4706, grad_fn=<BinaryCrossEntropyBackward0>)\n",
      "xxx 470\n",
      "tensor(0.7739)\n",
      "0.7738715277777778 0.8220390125635118\n",
      "tensor(0.4630, grad_fn=<BinaryCrossEntropyBackward0>)\n",
      "xxx 470\n",
      "tensor(0.7734)\n",
      "0.7734375 0.8224540334214792\n",
      "tensor(0.4796, grad_fn=<BinaryCrossEntropyBackward0>)\n",
      "xxx 470\n",
      "tensor(0.7748)\n",
      "0.7748015873015873 0.8228082321127943\n",
      "tensor(0.5008, grad_fn=<BinaryCrossEntropyBackward0>)\n",
      "xxx 470\n",
      "tensor(0.7747)\n",
      "0.7747395833333334 0.8231957892170974\n",
      "tensor(0.4993, grad_fn=<BinaryCrossEntropyBackward0>)\n",
      "xxx 470\n",
      "tensor(0.7724)\n",
      "0.7724454365079365 0.8230299851774436\n",
      "tensor(0.4920, grad_fn=<BinaryCrossEntropyBackward0>)\n",
      "xxx 470\n",
      "tensor(0.7728)\n",
      "0.7727554563492064 0.8228766737964692\n",
      "tensor(0.4066, grad_fn=<BinaryCrossEntropyBackward0>)\n",
      "xxx 470\n",
      "tensor(0.7738)\n",
      "0.7738095238095238 0.8230876674332347\n",
      "tensor(0.4189, grad_fn=<BinaryCrossEntropyBackward0>)\n",
      "xxx 470\n",
      "tensor(0.7733)\n",
      "0.7732514880952381 0.8228271888012993\n",
      "tensor(0.5845, grad_fn=<BinaryCrossEntropyBackward0>)\n",
      "xxx 470\n",
      "tensor(0.7718)\n",
      "0.7718253968253969 0.8221482395959974\n",
      "tensor(0.5255, grad_fn=<BinaryCrossEntropyBackward0>)\n",
      "xxx 470\n",
      "tensor(0.7749)\n",
      "0.7749255952380952 0.8229618700444985\n",
      "tensor(0.6750, grad_fn=<BinaryCrossEntropyBackward0>)\n",
      "xxx 470\n",
      "tensor(0.7729)\n",
      "0.7728794642857143 0.8228056029607668\n",
      "tensor(0.4431, grad_fn=<BinaryCrossEntropyBackward0>)\n",
      "xxx 470\n",
      "tensor(0.7716)\n",
      "0.7716393849206349 0.8221589487853074\n",
      "tensor(0.4517, grad_fn=<BinaryCrossEntropyBackward0>)\n",
      "xxx 470\n",
      "tensor(0.7747)\n",
      "0.7747395833333334 0.822951780464265\n",
      "tensor(0.4534, grad_fn=<BinaryCrossEntropyBackward0>)\n",
      "xxx 470\n",
      "tensor(0.7737)\n",
      "0.7736855158730159 0.823077628091575\n",
      "tensor(0.5986, grad_fn=<BinaryCrossEntropyBackward0>)\n",
      "xxx 470\n",
      "tensor(0.7749)\n",
      "0.7748635912698413 0.8229468487109393\n",
      "tensor(0.6115, grad_fn=<BinaryCrossEntropyBackward0>)\n",
      "xxx 470\n",
      "tensor(0.7737)\n",
      "0.7736855158730159 0.8221800657324849\n",
      "tensor(0.4442, grad_fn=<BinaryCrossEntropyBackward0>)\n",
      "xxx 470\n",
      "tensor(0.7738)\n",
      "0.7738095238095238 0.8225687615777934\n",
      "tensor(0.5178, grad_fn=<BinaryCrossEntropyBackward0>)\n",
      "xxx 470\n",
      "tensor(0.7739)\n",
      "0.7738715277777778 0.8223644747906269\n",
      "tensor(0.4784, grad_fn=<BinaryCrossEntropyBackward0>)\n",
      "xxx 470\n",
      "tensor(0.7727)\n",
      "0.7726934523809523 0.8228892250668178\n",
      "tensor(0.3910, grad_fn=<BinaryCrossEntropyBackward0>)\n",
      "xxx 470\n",
      "tensor(0.7743)\n",
      "0.7743055555555556 0.8226424950579061\n",
      "tensor(0.5365, grad_fn=<BinaryCrossEntropyBackward0>)\n",
      "xxx 470\n",
      "tensor(0.7726)\n",
      "0.7725694444444444 0.8231186143946809\n",
      "tensor(0.4461, grad_fn=<BinaryCrossEntropyBackward0>)\n",
      "xxx 470\n",
      "tensor(0.7729)\n",
      "0.7728794642857143 0.822345677190939\n",
      "tensor(0.4676, grad_fn=<BinaryCrossEntropyBackward0>)\n",
      "xxx 470\n",
      "tensor(0.7733)\n",
      "0.7732514880952381 0.8229526512662104\n",
      "tensor(0.4626, grad_fn=<BinaryCrossEntropyBackward0>)\n",
      "xxx 470\n",
      "tensor(0.7726)\n",
      "0.7726314484126984 0.8228748568347177\n",
      "tensor(0.4192, grad_fn=<BinaryCrossEntropyBackward0>)\n",
      "xxx 470\n",
      "tensor(0.7728)\n",
      "0.7728174603174603 0.8229690290412617\n",
      "tensor(0.4392, grad_fn=<BinaryCrossEntropyBackward0>)\n",
      "xxx 470\n",
      "tensor(0.7728)\n",
      "0.7727554563492064 0.8226334437415306\n",
      "tensor(0.4482, grad_fn=<BinaryCrossEntropyBackward0>)\n",
      "xxx 470\n",
      "tensor(0.7739)\n",
      "0.7738715277777778 0.822533703426393\n",
      "tensor(0.4139, grad_fn=<BinaryCrossEntropyBackward0>)\n",
      "xxx 470\n",
      "tensor(0.7713)\n",
      "0.7712673611111112 0.822194115786951\n",
      "tensor(0.4480, grad_fn=<BinaryCrossEntropyBackward0>)\n",
      "xxx 470\n",
      "tensor(0.7750)\n",
      "0.7750496031746031 0.822945366673013\n",
      "tensor(0.4676, grad_fn=<BinaryCrossEntropyBackward0>)\n",
      "xxx 470\n",
      "tensor(0.7719)\n",
      "0.7718874007936508 0.8226915530251986\n",
      "tensor(0.6118, grad_fn=<BinaryCrossEntropyBackward0>)\n",
      "xxx 470\n",
      "tensor(0.7739)\n",
      "0.7739335317460317 0.8231132221210957\n",
      "tensor(0.4319, grad_fn=<BinaryCrossEntropyBackward0>)\n",
      "xxx 470\n",
      "tensor(0.7742)\n",
      "0.7742435515873016 0.8225430394280198\n",
      "tensor(0.5492, grad_fn=<BinaryCrossEntropyBackward0>)\n",
      "xxx 470\n",
      "tensor(0.7728)\n",
      "0.7727554563492064 0.8226847708177387\n",
      "tensor(0.4933, grad_fn=<BinaryCrossEntropyBackward0>)\n",
      "xxx 470\n",
      "tensor(0.7724)\n",
      "0.7724454365079365 0.8222310495117724\n",
      "tensor(0.4424, grad_fn=<BinaryCrossEntropyBackward0>)\n",
      "xxx 470\n",
      "tensor(0.7744)\n",
      "0.7744295634920635 0.8225081822309144\n",
      "tensor(0.5217, grad_fn=<BinaryCrossEntropyBackward0>)\n",
      "xxx 470\n",
      "tensor(0.7734)\n",
      "0.7734375 0.8227078052038153\n",
      "tensor(0.4189, grad_fn=<BinaryCrossEntropyBackward0>)\n",
      "xxx 470\n",
      "tensor(0.7702)\n",
      "0.7702132936507936 0.8218969043844895\n",
      "tensor(0.4027, grad_fn=<BinaryCrossEntropyBackward0>)\n",
      "xxx 470\n",
      "tensor(0.7730)\n",
      "0.7730034722222222 0.8225238901583153\n",
      "tensor(0.4689, grad_fn=<BinaryCrossEntropyBackward0>)\n",
      "xxx 470\n",
      "tensor(0.7729)\n",
      "0.7728794642857143 0.8220249625090458\n",
      "tensor(0.4133, grad_fn=<BinaryCrossEntropyBackward0>)\n",
      "xxx 470\n",
      "tensor(0.7719)\n",
      "0.7718874007936508 0.8218586728298456\n",
      "tensor(0.5094, grad_fn=<BinaryCrossEntropyBackward0>)\n",
      "xxx 470\n",
      "tensor(0.7731)\n",
      "0.7730654761904762 0.8221581365950315\n",
      "tensor(0.4856, grad_fn=<BinaryCrossEntropyBackward0>)\n",
      "xxx 470\n",
      "tensor(0.7731)\n",
      "0.7730654761904762 0.8221424202945351\n",
      "tensor(0.5044, grad_fn=<BinaryCrossEntropyBackward0>)\n",
      "xxx 470\n",
      "tensor(0.7719)\n",
      "0.7719494047619048 0.8219287054016899\n",
      "tensor(0.4166, grad_fn=<BinaryCrossEntropyBackward0>)\n",
      "xxx 470\n",
      "tensor(0.7713)\n",
      "0.7713293650793651 0.8221234803522213\n"
     ]
    },
    {
     "name": "stdout",
     "output_type": "stream",
     "text": [
      "tensor(0.4771, grad_fn=<BinaryCrossEntropyBackward0>)\n",
      "xxx 470\n",
      "tensor(0.7725)\n",
      "0.7725074404761905 0.8225743631787693\n",
      "tensor(0.4371, grad_fn=<BinaryCrossEntropyBackward0>)\n",
      "xxx 470\n",
      "tensor(0.7701)\n",
      "0.7700892857142857 0.8219498642143456\n",
      "tensor(0.4019, grad_fn=<BinaryCrossEntropyBackward0>)\n",
      "xxx 470\n",
      "tensor(0.7731)\n",
      "0.7730654761904762 0.8218278095993556\n",
      "tensor(0.4677, grad_fn=<BinaryCrossEntropyBackward0>)\n",
      "xxx 470\n",
      "tensor(0.7718)\n",
      "0.7718253968253969 0.8223732079293684\n",
      "tensor(0.5079, grad_fn=<BinaryCrossEntropyBackward0>)\n",
      "xxx 470\n",
      "tensor(0.7718)\n",
      "0.7718253968253969 0.8222989469442312\n",
      "tensor(0.4733, grad_fn=<BinaryCrossEntropyBackward0>)\n",
      "xxx 470\n",
      "tensor(0.7724)\n",
      "0.7723834325396826 0.8223200890106954\n",
      "tensor(0.4527, grad_fn=<BinaryCrossEntropyBackward0>)\n",
      "xxx 470\n",
      "tensor(0.7715)\n",
      "0.771453373015873 0.8221627669169145\n",
      "tensor(0.4441, grad_fn=<BinaryCrossEntropyBackward0>)\n",
      "xxx 470\n",
      "tensor(0.7726)\n",
      "0.7726314484126984 0.8224986201557057\n",
      "tensor(0.4426, grad_fn=<BinaryCrossEntropyBackward0>)\n",
      "xxx 470\n",
      "tensor(0.7724)\n",
      "0.7724454365079365 0.8219539670312039\n",
      "tensor(0.4767, grad_fn=<BinaryCrossEntropyBackward0>)\n",
      "xxx 470\n",
      "tensor(0.7733)\n",
      "0.7732514880952381 0.8226600115739626\n",
      "tensor(0.5152, grad_fn=<BinaryCrossEntropyBackward0>)\n",
      "xxx 470\n",
      "tensor(0.7728)\n",
      "0.7728174603174603 0.8222364752777402\n",
      "tensor(0.4810, grad_fn=<BinaryCrossEntropyBackward0>)\n",
      "xxx 470\n",
      "tensor(0.7718)\n",
      "0.7717633928571429 0.8215715258883305\n",
      "tensor(0.4405, grad_fn=<BinaryCrossEntropyBackward0>)\n",
      "xxx 470\n",
      "tensor(0.7713)\n",
      "0.7712673611111112 0.8219842441449998\n",
      "tensor(0.4439, grad_fn=<BinaryCrossEntropyBackward0>)\n",
      "xxx 470\n",
      "tensor(0.7705)\n",
      "0.7705233134920635 0.8223656219047282\n",
      "tensor(0.4595, grad_fn=<BinaryCrossEntropyBackward0>)\n",
      "xxx 470\n",
      "tensor(0.7717)\n",
      "0.7717013888888888 0.8220200140095287\n",
      "tensor(0.5470, grad_fn=<BinaryCrossEntropyBackward0>)\n",
      "xxx 470\n",
      "tensor(0.7728)\n",
      "0.7727554563492064 0.8219313345537176\n",
      "tensor(0.4673, grad_fn=<BinaryCrossEntropyBackward0>)\n",
      "xxx 470\n",
      "tensor(0.7718)\n",
      "0.7717633928571429 0.8212257672774098\n",
      "tensor(0.4610, grad_fn=<BinaryCrossEntropyBackward0>)\n",
      "xxx 470\n",
      "tensor(0.7716)\n",
      "0.7716393849206349 0.8214101679624564\n",
      "tensor(0.4457, grad_fn=<BinaryCrossEntropyBackward0>)\n",
      "xxx 470\n",
      "tensor(0.7710)\n",
      "0.7709573412698413 0.821069048046514\n",
      "tensor(0.4249, grad_fn=<BinaryCrossEntropyBackward0>)\n",
      "xxx 470\n",
      "tensor(0.7711)\n",
      "0.7710813492063492 0.8217450080566764\n",
      "tensor(0.4470, grad_fn=<BinaryCrossEntropyBackward0>)\n",
      "xxx 470\n",
      "tensor(0.7718)\n",
      "0.7718253968253969 0.821862256514775\n",
      "tensor(0.4520, grad_fn=<BinaryCrossEntropyBackward0>)\n",
      "xxx 470\n",
      "tensor(0.7708)\n",
      "0.7708333333333334 0.8210022977281565\n",
      "tensor(0.3762, grad_fn=<BinaryCrossEntropyBackward0>)\n",
      "xxx 470\n",
      "tensor(0.7718)\n",
      "0.7717633928571429 0.8220720444257699\n",
      "tensor(0.4165, grad_fn=<BinaryCrossEntropyBackward0>)\n",
      "xxx 470\n",
      "tensor(0.7715)\n",
      "0.771453373015873 0.8211686543921216\n",
      "tensor(0.4669, grad_fn=<BinaryCrossEntropyBackward0>)\n",
      "xxx 470\n",
      "tensor(0.7726)\n",
      "0.7725694444444444 0.8216775711444773\n",
      "tensor(0.4271, grad_fn=<BinaryCrossEntropyBackward0>)\n",
      "xxx 470\n",
      "tensor(0.7721)\n",
      "0.7721354166666666 0.8209428068837096\n",
      "tensor(0.4433, grad_fn=<BinaryCrossEntropyBackward0>)\n",
      "xxx 470\n",
      "tensor(0.7712)\n",
      "0.7712053571428571 0.8209972738707787\n",
      "tensor(0.4144, grad_fn=<BinaryCrossEntropyBackward0>)\n",
      "xxx 470\n",
      "tensor(0.7719)\n",
      "0.7719494047619048 0.820704768148061\n",
      "tensor(0.4200, grad_fn=<BinaryCrossEntropyBackward0>)\n",
      "xxx 470\n",
      "tensor(0.7721)\n",
      "0.7720734126984127 0.8210026410250773\n",
      "tensor(0.4307, grad_fn=<BinaryCrossEntropyBackward0>)\n",
      "xxx 470\n",
      "tensor(0.7720)\n",
      "0.7720114087301587 0.8206447916640676\n",
      "tensor(0.3931, grad_fn=<BinaryCrossEntropyBackward0>)\n",
      "xxx 470\n",
      "tensor(0.7721)\n",
      "0.7721354166666666 0.8212264287519645\n",
      "tensor(0.4558, grad_fn=<BinaryCrossEntropyBackward0>)\n",
      "xxx 470\n",
      "tensor(0.7713)\n",
      "0.7713293650793651 0.8207735028900828\n",
      "tensor(0.4425, grad_fn=<BinaryCrossEntropyBackward0>)\n",
      "xxx 470\n",
      "tensor(0.7725)\n",
      "0.7725074404761905 0.8210588663622288\n",
      "tensor(0.4268, grad_fn=<BinaryCrossEntropyBackward0>)\n",
      "xxx 470\n",
      "tensor(0.7723)\n",
      "0.7722594246031746 0.8213018284781073\n",
      "tensor(0.4736, grad_fn=<BinaryCrossEntropyBackward0>)\n",
      "xxx 470\n",
      "tensor(0.7719)\n",
      "0.7719494047619048 0.8209235571368574\n",
      "tensor(0.4770, grad_fn=<BinaryCrossEntropyBackward0>)\n",
      "xxx 470\n",
      "tensor(0.7703)\n",
      "0.7702752976190477 0.820829443541983\n",
      "tensor(0.4784, grad_fn=<BinaryCrossEntropyBackward0>)\n",
      "xxx 470\n",
      "tensor(0.7703)\n",
      "0.7702752976190477 0.8208460055251379\n",
      "tensor(0.4271, grad_fn=<BinaryCrossEntropyBackward0>)\n",
      "xxx 470\n",
      "tensor(0.7711)\n",
      "0.7711433531746031 0.8203094575572053\n",
      "tensor(0.4772, grad_fn=<BinaryCrossEntropyBackward0>)\n",
      "xxx 470\n",
      "tensor(0.7708)\n",
      "0.7708333333333334 0.8208864810694103\n",
      "tensor(0.4434, grad_fn=<BinaryCrossEntropyBackward0>)\n",
      "xxx 470\n",
      "tensor(0.7703)\n",
      "0.7702752976190477 0.820484229182278\n",
      "tensor(0.4798, grad_fn=<BinaryCrossEntropyBackward0>)\n",
      "xxx 470\n",
      "tensor(0.7693)\n",
      "0.7693452380952381 0.8205063927664089\n",
      "tensor(0.4851, grad_fn=<BinaryCrossEntropyBackward0>)\n",
      "xxx 470\n",
      "tensor(0.7712)\n",
      "0.7712053571428571 0.8202459643730475\n",
      "tensor(0.4703, grad_fn=<BinaryCrossEntropyBackward0>)\n",
      "xxx 470\n",
      "tensor(0.7703)\n",
      "0.7702752976190477 0.8204611864231057\n",
      "tensor(0.4581, grad_fn=<BinaryCrossEntropyBackward0>)\n",
      "xxx 470\n",
      "tensor(0.7705)\n",
      "0.7705233134920635 0.821158908108809\n",
      "tensor(0.4393, grad_fn=<BinaryCrossEntropyBackward0>)\n",
      "xxx 470\n",
      "tensor(0.7715)\n",
      "0.771453373015873 0.8209432506577777\n",
      "tensor(0.4695, grad_fn=<BinaryCrossEntropyBackward0>)\n",
      "xxx 470\n",
      "tensor(0.7717)\n",
      "0.7717013888888888 0.8207228624077161\n",
      "tensor(0.5236, grad_fn=<BinaryCrossEntropyBackward0>)\n",
      "xxx 470\n",
      "tensor(0.7701)\n",
      "0.7700892857142857 0.8202872102421179\n",
      "tensor(0.4336, grad_fn=<BinaryCrossEntropyBackward0>)\n",
      "xxx 470\n",
      "tensor(0.7711)\n",
      "0.7711433531746031 0.8207635891448577\n",
      "tensor(0.4556, grad_fn=<BinaryCrossEntropyBackward0>)\n",
      "xxx 470\n",
      "tensor(0.7706)\n",
      "0.7705853174603174 0.8198476143484783\n",
      "tensor(0.4383, grad_fn=<BinaryCrossEntropyBackward0>)\n",
      "xxx 470\n",
      "tensor(0.7711)\n",
      "0.7710813492063492 0.8208129987821668\n",
      "tensor(0.4781, grad_fn=<BinaryCrossEntropyBackward0>)\n",
      "xxx 470\n",
      "tensor(0.7728)\n",
      "0.7727554563492064 0.8209299960473966\n",
      "tensor(0.5057, grad_fn=<BinaryCrossEntropyBackward0>)\n",
      "xxx 470\n",
      "tensor(0.7721)\n",
      "0.7721354166666666 0.820717620849852\n",
      "tensor(0.4568, grad_fn=<BinaryCrossEntropyBackward0>)\n",
      "xxx 470\n",
      "tensor(0.7721)\n",
      "0.7720734126984127 0.8208519922885128\n",
      "tensor(0.4133, grad_fn=<BinaryCrossEntropyBackward0>)\n",
      "xxx 470\n",
      "tensor(0.7716)\n",
      "0.7716393849206349 0.8204475215310385\n"
     ]
    },
    {
     "ename": "KeyboardInterrupt",
     "evalue": "",
     "output_type": "error",
     "traceback": [
      "\u001b[0;31m---------------------------------------------------------------------------\u001b[0m",
      "\u001b[0;31mKeyboardInterrupt\u001b[0m                         Traceback (most recent call last)",
      "Cell \u001b[0;32mIn[40], line 1\u001b[0m\n\u001b[0;32m----> 1\u001b[0m \u001b[43mtrain_model\u001b[49m\u001b[43m(\u001b[49m\u001b[43m)\u001b[49m\n",
      "Cell \u001b[0;32mIn[39], line 15\u001b[0m, in \u001b[0;36mtrain_model\u001b[0;34m()\u001b[0m\n\u001b[1;32m     13\u001b[0m     test_model()\n\u001b[1;32m     14\u001b[0m optimizer\u001b[38;5;241m.\u001b[39mzero_grad()\n\u001b[0;32m---> 15\u001b[0m \u001b[43mloss\u001b[49m\u001b[38;5;241;43m.\u001b[39;49m\u001b[43mbackward\u001b[49m\u001b[43m(\u001b[49m\u001b[43m)\u001b[49m\n\u001b[1;32m     16\u001b[0m optimizer\u001b[38;5;241m.\u001b[39mstep()\n",
      "File \u001b[0;32m~/opt/anaconda3/envs/edu_ktm/lib/python3.9/site-packages/torch/_tensor.py:487\u001b[0m, in \u001b[0;36mTensor.backward\u001b[0;34m(self, gradient, retain_graph, create_graph, inputs)\u001b[0m\n\u001b[1;32m    477\u001b[0m \u001b[38;5;28;01mif\u001b[39;00m has_torch_function_unary(\u001b[38;5;28mself\u001b[39m):\n\u001b[1;32m    478\u001b[0m     \u001b[38;5;28;01mreturn\u001b[39;00m handle_torch_function(\n\u001b[1;32m    479\u001b[0m         Tensor\u001b[38;5;241m.\u001b[39mbackward,\n\u001b[1;32m    480\u001b[0m         (\u001b[38;5;28mself\u001b[39m,),\n\u001b[0;32m   (...)\u001b[0m\n\u001b[1;32m    485\u001b[0m         inputs\u001b[38;5;241m=\u001b[39minputs,\n\u001b[1;32m    486\u001b[0m     )\n\u001b[0;32m--> 487\u001b[0m \u001b[43mtorch\u001b[49m\u001b[38;5;241;43m.\u001b[39;49m\u001b[43mautograd\u001b[49m\u001b[38;5;241;43m.\u001b[39;49m\u001b[43mbackward\u001b[49m\u001b[43m(\u001b[49m\n\u001b[1;32m    488\u001b[0m \u001b[43m    \u001b[49m\u001b[38;5;28;43mself\u001b[39;49m\u001b[43m,\u001b[49m\u001b[43m \u001b[49m\u001b[43mgradient\u001b[49m\u001b[43m,\u001b[49m\u001b[43m \u001b[49m\u001b[43mretain_graph\u001b[49m\u001b[43m,\u001b[49m\u001b[43m \u001b[49m\u001b[43mcreate_graph\u001b[49m\u001b[43m,\u001b[49m\u001b[43m \u001b[49m\u001b[43minputs\u001b[49m\u001b[38;5;241;43m=\u001b[39;49m\u001b[43minputs\u001b[49m\n\u001b[1;32m    489\u001b[0m \u001b[43m\u001b[49m\u001b[43m)\u001b[49m\n",
      "File \u001b[0;32m~/opt/anaconda3/envs/edu_ktm/lib/python3.9/site-packages/torch/autograd/__init__.py:200\u001b[0m, in \u001b[0;36mbackward\u001b[0;34m(tensors, grad_tensors, retain_graph, create_graph, grad_variables, inputs)\u001b[0m\n\u001b[1;32m    195\u001b[0m     retain_graph \u001b[38;5;241m=\u001b[39m create_graph\n\u001b[1;32m    197\u001b[0m \u001b[38;5;66;03m# The reason we repeat same the comment below is that\u001b[39;00m\n\u001b[1;32m    198\u001b[0m \u001b[38;5;66;03m# some Python versions print out the first line of a multi-line function\u001b[39;00m\n\u001b[1;32m    199\u001b[0m \u001b[38;5;66;03m# calls in the traceback and some print out the last line\u001b[39;00m\n\u001b[0;32m--> 200\u001b[0m \u001b[43mVariable\u001b[49m\u001b[38;5;241;43m.\u001b[39;49m\u001b[43m_execution_engine\u001b[49m\u001b[38;5;241;43m.\u001b[39;49m\u001b[43mrun_backward\u001b[49m\u001b[43m(\u001b[49m\u001b[43m  \u001b[49m\u001b[38;5;66;43;03m# Calls into the C++ engine to run the backward pass\u001b[39;49;00m\n\u001b[1;32m    201\u001b[0m \u001b[43m    \u001b[49m\u001b[43mtensors\u001b[49m\u001b[43m,\u001b[49m\u001b[43m \u001b[49m\u001b[43mgrad_tensors_\u001b[49m\u001b[43m,\u001b[49m\u001b[43m \u001b[49m\u001b[43mretain_graph\u001b[49m\u001b[43m,\u001b[49m\u001b[43m \u001b[49m\u001b[43mcreate_graph\u001b[49m\u001b[43m,\u001b[49m\u001b[43m \u001b[49m\u001b[43minputs\u001b[49m\u001b[43m,\u001b[49m\n\u001b[1;32m    202\u001b[0m \u001b[43m    \u001b[49m\u001b[43mallow_unreachable\u001b[49m\u001b[38;5;241;43m=\u001b[39;49m\u001b[38;5;28;43;01mTrue\u001b[39;49;00m\u001b[43m,\u001b[49m\u001b[43m \u001b[49m\u001b[43maccumulate_grad\u001b[49m\u001b[38;5;241;43m=\u001b[39;49m\u001b[38;5;28;43;01mTrue\u001b[39;49;00m\u001b[43m)\u001b[49m\n",
      "\u001b[0;31mKeyboardInterrupt\u001b[0m: "
     ]
    }
   ],
   "source": [
    "train_model()"
   ]
  },
  {
   "cell_type": "code",
   "execution_count": null,
   "id": "7291da4b",
   "metadata": {},
   "outputs": [],
   "source": []
  },
  {
   "cell_type": "code",
   "execution_count": 145,
   "id": "2da6946b",
   "metadata": {},
   "outputs": [
    {
     "name": "stdout",
     "output_type": "stream",
     "text": [
      "0.6299343489605252 0.5512794848856535\n"
     ]
    }
   ],
   "source": [
    "test_model()"
   ]
  },
  {
   "cell_type": "code",
   "execution_count": 199,
   "id": "a4e38860",
   "metadata": {},
   "outputs": [],
   "source": [
    "batch_pro,batch_y,batch_len,batch_pro_ids = get_train_batch(1)\n",
    "pred = model(batch_pro) # batch seql_len embedsize\n",
    "problem_ids = torch.cat([batch_pro_ids[i, 1:l] for i, l in enumerate(batch_len)], dim=-1)\n",
    "xx = torch.cat([pred[i,:l-1] for i,l in enumerate(batch_len)],dim=0)\n",
    "pred = xx.gather(1,problem_ids.view(-1,1)).flatten()\n",
    "target = torch.cat([batch_y[i,1:l] for i,l in enumerate(batch_len)],dim=-1)"
   ]
  },
  {
   "cell_type": "code",
   "execution_count": 211,
   "id": "1d1f20c7",
   "metadata": {},
   "outputs": [
    {
     "data": {
      "text/plain": [
       "tensor([[0.5784, 0.3093, 0.4274,  ..., 0.4394, 0.3923, 0.7808],\n",
       "        [0.0808, 0.4730, 0.8160,  ..., 0.9254, 0.7673, 0.4996],\n",
       "        [0.5155, 0.3578, 0.9657,  ..., 0.8804, 0.9724, 0.9016],\n",
       "        ...,\n",
       "        [0.8033, 0.9218, 0.8277,  ..., 0.4568, 0.0389, 0.6514],\n",
       "        [0.9643, 0.8965, 0.8835,  ..., 0.1630, 0.6984, 0.1740],\n",
       "        [0.7210, 0.9311, 0.7384,  ..., 0.5283, 0.0255, 0.3851]],\n",
       "       grad_fn=<CatBackward0>)"
      ]
     },
     "execution_count": 211,
     "metadata": {},
     "output_type": "execute_result"
    }
   ],
   "source": [
    "xx"
   ]
  },
  {
   "cell_type": "code",
   "execution_count": 212,
   "id": "12da758b",
   "metadata": {},
   "outputs": [
    {
     "data": {
      "text/plain": [
       "tensor([95, 95, 95, 95, 95, 95, 92, 92, 91, 91, 92, 91, 92, 33, 33, 33, 33, 33,\n",
       "        33, 32, 33, 32, 32, 33, 32, 33, 33, 32, 98, 98, 98, 98, 98, 98, 98, 98,\n",
       "        98, 98, 98, 48, 48, 48, 48, 48, 48, 48, 48, 98, 98, 98, 98, 98, 98, 98,\n",
       "        98, 98, 98, 98, 98, 98, 98, 98, 98, 98, 98, 98, 98, 98, 99, 99, 99, 99,\n",
       "        99, 99, 63, 63, 99, 99, 99, 99, 99, 99, 18, 17, 21, 20, 20, 20, 20, 20,\n",
       "        20, 67, 20, 20, 20, 20, 20, 20, 20])"
      ]
     },
     "execution_count": 212,
     "metadata": {},
     "output_type": "execute_result"
    }
   ],
   "source": [
    "problem_ids"
   ]
  },
  {
   "cell_type": "code",
   "execution_count": 206,
   "id": "512164ad",
   "metadata": {},
   "outputs": [
    {
     "data": {
      "text/plain": [
       "tensor([1., 1., 1., 1., 1., 1., 1., 1., 0., 0., 1., 1., 1., 1., 1., 1., 1., 1.,\n",
       "        1., 1., 1., 1., 1., 1., 1., 1., 1., 1., 0., 1., 0., 0., 0., 1., 1., 1.,\n",
       "        0., 1., 1., 1., 1., 0., 1., 1., 1., 1., 1., 1., 0., 0., 1., 0., 1., 1.,\n",
       "        1., 1., 1., 0., 1., 1., 0., 1., 0., 1., 1., 1., 1., 1., 0., 1., 1., 1.,\n",
       "        0., 0., 0., 0., 0., 1., 0., 1., 0., 1., 1., 1., 1., 0., 1., 0., 1., 1.,\n",
       "        1., 1., 0., 0., 1., 0., 1., 0., 0.])"
      ]
     },
     "execution_count": 206,
     "metadata": {},
     "output_type": "execute_result"
    }
   ],
   "source": [
    "target"
   ]
  },
  {
   "cell_type": "code",
   "execution_count": 207,
   "id": "3eab4582",
   "metadata": {},
   "outputs": [
    {
     "data": {
      "text/plain": [
       "tensor([0.3992, 0.9921, 0.9816, 0.8837, 0.9203, 0.9314, 1.0000, 1.0000, 0.0845,\n",
       "        0.0120, 0.9998, 0.9612, 0.9897, 0.9934, 0.9505, 0.9846, 0.9940, 0.9833,\n",
       "        0.9914, 0.9925, 0.9983, 0.9684, 0.9832, 0.9694, 0.9745, 0.9982, 0.9743,\n",
       "        0.9984, 0.7131, 0.7640, 0.6892, 0.7448, 0.4917, 0.6756, 0.6708, 0.7660,\n",
       "        0.5738, 0.8434, 0.8020, 0.7930, 0.7173, 0.6536, 0.9034, 0.8727, 0.9239,\n",
       "        0.9820, 0.9409, 0.7074, 0.7518, 0.9329, 0.5431, 0.7806, 0.5628, 0.8150,\n",
       "        0.9379, 0.9133, 0.5923, 0.8819, 0.8346, 0.8341, 0.9460, 0.8997, 0.9100,\n",
       "        0.7055, 0.6891, 0.9149, 0.8699, 0.8720, 0.6622, 0.9617, 0.9120, 0.9767,\n",
       "        0.6256, 0.8704, 0.1312, 0.3226, 0.3388, 0.9034, 0.7281, 0.9868, 0.6658,\n",
       "        0.9699, 0.6139, 0.7996, 0.9949, 0.2324, 0.5912, 0.2188, 0.8861, 0.8630,\n",
       "        0.9838, 0.9938, 0.3115, 0.0277, 0.6039, 0.4976, 0.8877, 0.2430, 0.4981],\n",
       "       grad_fn=<ReshapeAliasBackward0>)"
      ]
     },
     "execution_count": 207,
     "metadata": {},
     "output_type": "execute_result"
    }
   ],
   "source": [
    "pred"
   ]
  },
  {
   "cell_type": "code",
   "execution_count": 176,
   "id": "f35a24a2",
   "metadata": {},
   "outputs": [
    {
     "data": {
      "text/plain": [
       "torch.Size([2851])"
      ]
     },
     "execution_count": 176,
     "metadata": {},
     "output_type": "execute_result"
    }
   ],
   "source": [
    "problem_ids.shape"
   ]
  },
  {
   "cell_type": "code",
   "execution_count": 177,
   "id": "f18d5aa9",
   "metadata": {},
   "outputs": [
    {
     "data": {
      "text/plain": [
       "torch.Size([2851, 123])"
      ]
     },
     "execution_count": 177,
     "metadata": {},
     "output_type": "execute_result"
    }
   ],
   "source": [
    "xx.shape"
   ]
  },
  {
   "cell_type": "code",
   "execution_count": 179,
   "id": "d6970556",
   "metadata": {},
   "outputs": [
    {
     "data": {
      "text/plain": [
       "tensor([[0.8458],\n",
       "        [0.8938],\n",
       "        [0.8595],\n",
       "        ...,\n",
       "        [0.0080],\n",
       "        [0.2534],\n",
       "        [0.0224]], grad_fn=<GatherBackward0>)"
      ]
     },
     "execution_count": 179,
     "metadata": {},
     "output_type": "execute_result"
    }
   ],
   "source": [
    "xx.gather(1,problem_ids.view(-1,1))"
   ]
  },
  {
   "cell_type": "code",
   "execution_count": 181,
   "id": "a178aae1",
   "metadata": {},
   "outputs": [
    {
     "data": {
      "text/plain": [
       "tensor(0.8938, grad_fn=<SelectBackward0>)"
      ]
     },
     "execution_count": 181,
     "metadata": {},
     "output_type": "execute_result"
    }
   ],
   "source": [
    "xx[1,81]"
   ]
  },
  {
   "cell_type": "code",
   "execution_count": 255,
   "id": "03c1dc25",
   "metadata": {},
   "outputs": [
    {
     "data": {
      "text/plain": [
       "4163"
      ]
     },
     "execution_count": 255,
     "metadata": {},
     "output_type": "execute_result"
    }
   ],
   "source": [
    "len(sequences)"
   ]
  },
  {
   "cell_type": "code",
   "execution_count": 256,
   "id": "3f22daf6",
   "metadata": {},
   "outputs": [],
   "source": [
    "split_num = int(len(sequences)*0.95)\n",
    "train_seq = sequences[:split_num]\n",
    "test_seq = sequences[split_num:]"
   ]
  },
  {
   "cell_type": "code",
   "execution_count": 291,
   "id": "4d467858",
   "metadata": {},
   "outputs": [],
   "source": [
    "def get_train_seq_data(seq,length):\n",
    "    for i in range(length):\n",
    "        index = np.random.randint(0,len(seq)-1)\n",
    "        s,p,a = seq[index]\n",
    "        m = np.zeros((len(s),num_skill*2))\n",
    "        for i,(si,ai) in enumerate(zip(s,a)):\n",
    "            m[i][si+ai*num_skill] = 1\n",
    "        yield torch.from_numpy(m).float(),torch.tensor(a).float(),torch.tensor(s)\n",
    "            \n",
    "            "
   ]
  },
  {
   "cell_type": "code",
   "execution_count": 296,
   "id": "10e73e04",
   "metadata": {},
   "outputs": [],
   "source": [
    "def get_test_seq_data(seq):\n",
    "    for i in range(len(seq)):\n",
    "        s,p,a = seq[i]\n",
    "        m = np.zeros((len(s),num_skill*2))\n",
    "        for i,(si,ai) in enumerate(zip(s,a)):\n",
    "            m[i][si+ai*num_skill] = 1\n",
    "        yield torch.from_numpy(m).float(),torch.tensor(a).float(),torch.tensor(s)"
   ]
  },
  {
   "cell_type": "code",
   "execution_count": 282,
   "id": "475d4d93",
   "metadata": {},
   "outputs": [
    {
     "name": "stdout",
     "output_type": "stream",
     "text": [
      "(tensor([[0., 0., 0.,  ..., 0., 0., 0.],\n",
      "        [0., 0., 0.,  ..., 0., 0., 0.],\n",
      "        [0., 0., 0.,  ..., 0., 0., 0.],\n",
      "        ...,\n",
      "        [0., 0., 0.,  ..., 0., 0., 0.],\n",
      "        [0., 0., 0.,  ..., 0., 0., 0.],\n",
      "        [0., 0., 0.,  ..., 0., 0., 0.]]), tensor([0., 0., 0., 1., 0., 0., 1., 1., 1., 1., 1., 1., 1., 1., 1., 0., 1., 1.,\n",
      "        0., 1., 1., 1., 1., 1., 0., 1., 0., 0., 1., 0., 0., 0., 0., 1., 1., 1.,\n",
      "        1., 1., 0., 0., 1., 1., 1., 1., 1., 1., 1., 1., 1., 1., 1., 1., 1., 1.,\n",
      "        1., 0., 1., 0., 0., 1., 1., 0., 1., 1., 1., 1., 1., 1., 0., 1., 1., 1.,\n",
      "        0., 1., 1., 1., 1., 1., 1., 1., 1., 1., 1., 1., 1., 1., 1., 1., 1., 1.,\n",
      "        0., 1., 0., 1., 1., 1., 1., 1., 0., 1., 1., 0., 0., 1., 1., 1., 1., 0.,\n",
      "        1., 0., 1.]), tensor([97, 97, 97, 97, 97, 97, 97, 97, 97, 32, 33, 33, 33, 33, 33, 30, 30, 30,\n",
      "        30, 30, 30, 30, 30, 30, 41, 41, 41, 41, 41, 41, 41, 41, 41, 41, 41, 41,\n",
      "        41, 41, 32, 33, 32, 33, 32, 33, 32, 33, 32, 33, 32, 33, 30, 30, 30, 30,\n",
      "        30, 82, 82, 82, 82, 82, 38, 38, 38, 38, 38, 38, 38, 82, 82, 82, 82, 82,\n",
      "        82, 82, 82, 82, 55, 37, 55, 37, 55, 55, 37, 55, 79, 79, 79, 79, 79, 79,\n",
      "        82, 82, 82, 82, 82, 82, 82, 82, 98, 98, 98, 98, 98, 98, 98, 98, 98, 98,\n",
      "        98, 98, 98]))\n",
      "(tensor([[0., 0., 0.,  ..., 0., 0., 0.],\n",
      "        [0., 0., 0.,  ..., 0., 0., 0.],\n",
      "        [0., 0., 0.,  ..., 0., 0., 0.],\n",
      "        ...,\n",
      "        [0., 0., 0.,  ..., 0., 0., 0.],\n",
      "        [0., 0., 0.,  ..., 0., 0., 0.],\n",
      "        [0., 0., 0.,  ..., 0., 0., 0.]]), tensor([0., 0., 1., 1., 1., 1., 1., 0., 0.]), tensor([33, 33, 33, 33, 33, 33, 33, 47, 47]))\n"
     ]
    }
   ],
   "source": [
    "for d in get_train_seq_data(train_seq,2):\n",
    "    print(d)"
   ]
  },
  {
   "cell_type": "code",
   "execution_count": 292,
   "id": "c70ecd56",
   "metadata": {},
   "outputs": [],
   "source": [
    "model = DKT(num_skill,10)\n",
    "criterion = nn.BCELoss()\n",
    "optimizer = torch.optim.Adam(model.parameters(), lr=0.002)"
   ]
  },
  {
   "cell_type": "code",
   "execution_count": 299,
   "id": "72a6ab45",
   "metadata": {},
   "outputs": [
    {
     "name": "stdout",
     "output_type": "stream",
     "text": [
      "tensor(0.5021, grad_fn=<BinaryCrossEntropyBackward0>)\n",
      "0.7582076758231054 0.6925297193394537\n",
      "tensor(0.4680, grad_fn=<BinaryCrossEntropyBackward0>)\n",
      "0.7589947399181765 0.6966760647346725\n",
      "tensor(0.5282, grad_fn=<BinaryCrossEntropyBackward0>)\n",
      "0.7595012663159946 0.699159026204437\n",
      "tensor(0.4721, grad_fn=<BinaryCrossEntropyBackward0>)\n",
      "0.7602415741281902 0.6982374037412991\n",
      "tensor(0.4623, grad_fn=<BinaryCrossEntropyBackward0>)\n",
      "0.7612156633547633 0.6979060036985311\n",
      "tensor(0.5076, grad_fn=<BinaryCrossEntropyBackward0>)\n",
      "0.7609351256575102 0.6998363411511216\n"
     ]
    },
    {
     "ename": "KeyboardInterrupt",
     "evalue": "",
     "output_type": "error",
     "traceback": [
      "\u001b[0;31m---------------------------------------------------------------------------\u001b[0m",
      "\u001b[0;31mKeyboardInterrupt\u001b[0m                         Traceback (most recent call last)",
      "Cell \u001b[0;32mIn[299], line 26\u001b[0m\n\u001b[1;32m     24\u001b[0m \u001b[38;5;28;01mwith\u001b[39;00m torch\u001b[38;5;241m.\u001b[39mno_grad():\n\u001b[1;32m     25\u001b[0m     \u001b[38;5;28;01mfor\u001b[39;00m batch,answer,ss \u001b[38;5;129;01min\u001b[39;00m get_test_seq_data(test_seq):\n\u001b[0;32m---> 26\u001b[0m         pred \u001b[38;5;241m=\u001b[39m \u001b[43mmodel\u001b[49m\u001b[43m(\u001b[49m\u001b[43mbatch\u001b[49m\u001b[38;5;241;43m.\u001b[39;49m\u001b[43munsqueeze\u001b[49m\u001b[43m(\u001b[49m\u001b[38;5;241;43m0\u001b[39;49m\u001b[43m)\u001b[49m\u001b[43m)\u001b[49m\u001b[38;5;241m.\u001b[39msqueeze(\u001b[38;5;241m0\u001b[39m)\n\u001b[1;32m     27\u001b[0m         pred \u001b[38;5;241m=\u001b[39m pred[:\u001b[38;5;28mlen\u001b[39m(answer)\u001b[38;5;241m-\u001b[39m\u001b[38;5;241m1\u001b[39m]\u001b[38;5;241m.\u001b[39mgather(\u001b[38;5;241m1\u001b[39m,ss[\u001b[38;5;241m1\u001b[39m:]\u001b[38;5;241m.\u001b[39mview(\u001b[38;5;241m-\u001b[39m\u001b[38;5;241m1\u001b[39m,\u001b[38;5;241m1\u001b[39m))\u001b[38;5;241m.\u001b[39mflatten()\n\u001b[1;32m     28\u001b[0m         answer \u001b[38;5;241m=\u001b[39m answer[\u001b[38;5;241m1\u001b[39m:]\n",
      "File \u001b[0;32m~/opt/anaconda3/envs/edu_ktm/lib/python3.9/site-packages/torch/nn/modules/module.py:1501\u001b[0m, in \u001b[0;36mModule._call_impl\u001b[0;34m(self, *args, **kwargs)\u001b[0m\n\u001b[1;32m   1496\u001b[0m \u001b[38;5;66;03m# If we don't have any hooks, we want to skip the rest of the logic in\u001b[39;00m\n\u001b[1;32m   1497\u001b[0m \u001b[38;5;66;03m# this function, and just call forward.\u001b[39;00m\n\u001b[1;32m   1498\u001b[0m \u001b[38;5;28;01mif\u001b[39;00m \u001b[38;5;129;01mnot\u001b[39;00m (\u001b[38;5;28mself\u001b[39m\u001b[38;5;241m.\u001b[39m_backward_hooks \u001b[38;5;129;01mor\u001b[39;00m \u001b[38;5;28mself\u001b[39m\u001b[38;5;241m.\u001b[39m_backward_pre_hooks \u001b[38;5;129;01mor\u001b[39;00m \u001b[38;5;28mself\u001b[39m\u001b[38;5;241m.\u001b[39m_forward_hooks \u001b[38;5;129;01mor\u001b[39;00m \u001b[38;5;28mself\u001b[39m\u001b[38;5;241m.\u001b[39m_forward_pre_hooks\n\u001b[1;32m   1499\u001b[0m         \u001b[38;5;129;01mor\u001b[39;00m _global_backward_pre_hooks \u001b[38;5;129;01mor\u001b[39;00m _global_backward_hooks\n\u001b[1;32m   1500\u001b[0m         \u001b[38;5;129;01mor\u001b[39;00m _global_forward_hooks \u001b[38;5;129;01mor\u001b[39;00m _global_forward_pre_hooks):\n\u001b[0;32m-> 1501\u001b[0m     \u001b[38;5;28;01mreturn\u001b[39;00m \u001b[43mforward_call\u001b[49m\u001b[43m(\u001b[49m\u001b[38;5;241;43m*\u001b[39;49m\u001b[43margs\u001b[49m\u001b[43m,\u001b[49m\u001b[43m \u001b[49m\u001b[38;5;241;43m*\u001b[39;49m\u001b[38;5;241;43m*\u001b[39;49m\u001b[43mkwargs\u001b[49m\u001b[43m)\u001b[49m\n\u001b[1;32m   1502\u001b[0m \u001b[38;5;66;03m# Do not call functions when jit is used\u001b[39;00m\n\u001b[1;32m   1503\u001b[0m full_backward_hooks, non_full_backward_hooks \u001b[38;5;241m=\u001b[39m [], []\n",
      "Cell \u001b[0;32mIn[237], line 10\u001b[0m, in \u001b[0;36mDKT.forward\u001b[0;34m(self, pro_seq)\u001b[0m\n\u001b[1;32m      8\u001b[0m \u001b[38;5;28;01mdef\u001b[39;00m \u001b[38;5;21mforward\u001b[39m(\u001b[38;5;28mself\u001b[39m, pro_seq):\n\u001b[1;32m      9\u001b[0m     \u001b[38;5;66;03m# B sql_len embed_size\u001b[39;00m\n\u001b[0;32m---> 10\u001b[0m     lstm_out, (hn, cn) \u001b[38;5;241m=\u001b[39m \u001b[38;5;28;43mself\u001b[39;49m\u001b[38;5;241;43m.\u001b[39;49m\u001b[43mlstm\u001b[49m\u001b[43m(\u001b[49m\u001b[43mpro_seq\u001b[49m\u001b[43m)\u001b[49m\n\u001b[1;32m     11\u001b[0m     pred \u001b[38;5;241m=\u001b[39m \u001b[38;5;28mself\u001b[39m\u001b[38;5;241m.\u001b[39mlinear(lstm_out)\n\u001b[1;32m     12\u001b[0m     \u001b[38;5;28;01mreturn\u001b[39;00m \u001b[38;5;28mself\u001b[39m\u001b[38;5;241m.\u001b[39msigmoid(pred)\n",
      "File \u001b[0;32m~/opt/anaconda3/envs/edu_ktm/lib/python3.9/site-packages/torch/nn/modules/module.py:1501\u001b[0m, in \u001b[0;36mModule._call_impl\u001b[0;34m(self, *args, **kwargs)\u001b[0m\n\u001b[1;32m   1496\u001b[0m \u001b[38;5;66;03m# If we don't have any hooks, we want to skip the rest of the logic in\u001b[39;00m\n\u001b[1;32m   1497\u001b[0m \u001b[38;5;66;03m# this function, and just call forward.\u001b[39;00m\n\u001b[1;32m   1498\u001b[0m \u001b[38;5;28;01mif\u001b[39;00m \u001b[38;5;129;01mnot\u001b[39;00m (\u001b[38;5;28mself\u001b[39m\u001b[38;5;241m.\u001b[39m_backward_hooks \u001b[38;5;129;01mor\u001b[39;00m \u001b[38;5;28mself\u001b[39m\u001b[38;5;241m.\u001b[39m_backward_pre_hooks \u001b[38;5;129;01mor\u001b[39;00m \u001b[38;5;28mself\u001b[39m\u001b[38;5;241m.\u001b[39m_forward_hooks \u001b[38;5;129;01mor\u001b[39;00m \u001b[38;5;28mself\u001b[39m\u001b[38;5;241m.\u001b[39m_forward_pre_hooks\n\u001b[1;32m   1499\u001b[0m         \u001b[38;5;129;01mor\u001b[39;00m _global_backward_pre_hooks \u001b[38;5;129;01mor\u001b[39;00m _global_backward_hooks\n\u001b[1;32m   1500\u001b[0m         \u001b[38;5;129;01mor\u001b[39;00m _global_forward_hooks \u001b[38;5;129;01mor\u001b[39;00m _global_forward_pre_hooks):\n\u001b[0;32m-> 1501\u001b[0m     \u001b[38;5;28;01mreturn\u001b[39;00m \u001b[43mforward_call\u001b[49m\u001b[43m(\u001b[49m\u001b[38;5;241;43m*\u001b[39;49m\u001b[43margs\u001b[49m\u001b[43m,\u001b[49m\u001b[43m \u001b[49m\u001b[38;5;241;43m*\u001b[39;49m\u001b[38;5;241;43m*\u001b[39;49m\u001b[43mkwargs\u001b[49m\u001b[43m)\u001b[49m\n\u001b[1;32m   1502\u001b[0m \u001b[38;5;66;03m# Do not call functions when jit is used\u001b[39;00m\n\u001b[1;32m   1503\u001b[0m full_backward_hooks, non_full_backward_hooks \u001b[38;5;241m=\u001b[39m [], []\n",
      "File \u001b[0;32m~/opt/anaconda3/envs/edu_ktm/lib/python3.9/site-packages/torch/nn/modules/rnn.py:812\u001b[0m, in \u001b[0;36mLSTM.forward\u001b[0;34m(self, input, hx)\u001b[0m\n\u001b[1;32m    810\u001b[0m \u001b[38;5;28mself\u001b[39m\u001b[38;5;241m.\u001b[39mcheck_forward_args(\u001b[38;5;28minput\u001b[39m, hx, batch_sizes)\n\u001b[1;32m    811\u001b[0m \u001b[38;5;28;01mif\u001b[39;00m batch_sizes \u001b[38;5;129;01mis\u001b[39;00m \u001b[38;5;28;01mNone\u001b[39;00m:\n\u001b[0;32m--> 812\u001b[0m     result \u001b[38;5;241m=\u001b[39m \u001b[43m_VF\u001b[49m\u001b[38;5;241;43m.\u001b[39;49m\u001b[43mlstm\u001b[49m\u001b[43m(\u001b[49m\u001b[38;5;28;43minput\u001b[39;49m\u001b[43m,\u001b[49m\u001b[43m \u001b[49m\u001b[43mhx\u001b[49m\u001b[43m,\u001b[49m\u001b[43m \u001b[49m\u001b[38;5;28;43mself\u001b[39;49m\u001b[38;5;241;43m.\u001b[39;49m\u001b[43m_flat_weights\u001b[49m\u001b[43m,\u001b[49m\u001b[43m \u001b[49m\u001b[38;5;28;43mself\u001b[39;49m\u001b[38;5;241;43m.\u001b[39;49m\u001b[43mbias\u001b[49m\u001b[43m,\u001b[49m\u001b[43m \u001b[49m\u001b[38;5;28;43mself\u001b[39;49m\u001b[38;5;241;43m.\u001b[39;49m\u001b[43mnum_layers\u001b[49m\u001b[43m,\u001b[49m\n\u001b[1;32m    813\u001b[0m \u001b[43m                      \u001b[49m\u001b[38;5;28;43mself\u001b[39;49m\u001b[38;5;241;43m.\u001b[39;49m\u001b[43mdropout\u001b[49m\u001b[43m,\u001b[49m\u001b[43m \u001b[49m\u001b[38;5;28;43mself\u001b[39;49m\u001b[38;5;241;43m.\u001b[39;49m\u001b[43mtraining\u001b[49m\u001b[43m,\u001b[49m\u001b[43m \u001b[49m\u001b[38;5;28;43mself\u001b[39;49m\u001b[38;5;241;43m.\u001b[39;49m\u001b[43mbidirectional\u001b[49m\u001b[43m,\u001b[49m\u001b[43m \u001b[49m\u001b[38;5;28;43mself\u001b[39;49m\u001b[38;5;241;43m.\u001b[39;49m\u001b[43mbatch_first\u001b[49m\u001b[43m)\u001b[49m\n\u001b[1;32m    814\u001b[0m \u001b[38;5;28;01melse\u001b[39;00m:\n\u001b[1;32m    815\u001b[0m     result \u001b[38;5;241m=\u001b[39m _VF\u001b[38;5;241m.\u001b[39mlstm(\u001b[38;5;28minput\u001b[39m, batch_sizes, hx, \u001b[38;5;28mself\u001b[39m\u001b[38;5;241m.\u001b[39m_flat_weights, \u001b[38;5;28mself\u001b[39m\u001b[38;5;241m.\u001b[39mbias,\n\u001b[1;32m    816\u001b[0m                       \u001b[38;5;28mself\u001b[39m\u001b[38;5;241m.\u001b[39mnum_layers, \u001b[38;5;28mself\u001b[39m\u001b[38;5;241m.\u001b[39mdropout, \u001b[38;5;28mself\u001b[39m\u001b[38;5;241m.\u001b[39mtraining, \u001b[38;5;28mself\u001b[39m\u001b[38;5;241m.\u001b[39mbidirectional)\n",
      "\u001b[0;31mKeyboardInterrupt\u001b[0m: "
     ]
    }
   ],
   "source": [
    "for e in range(1000):\n",
    "    model.train()\n",
    "    preds = []\n",
    "    answers = []\n",
    "    for batch,answer,ss in get_train_seq_data(train_seq,64):\n",
    "        pred = model(batch.unsqueeze(0)).squeeze(0)\n",
    "        pred = pred[:len(answer)-1].gather(1,ss[1:].view(-1,1)).flatten()\n",
    "        answer = answer[1:]\n",
    "        preds.append(pred)\n",
    "        answers.append(answer)\n",
    "    preds = torch.cat(preds,dim=-1)\n",
    "    answers = torch.cat(answers,dim=-1)\n",
    "    loss = criterion(preds,answers)\n",
    "    if e % 100 == 0:\n",
    "        print(loss)\n",
    "    optimizer.zero_grad()\n",
    "    loss.backward()\n",
    "    optimizer.step()\n",
    "    \n",
    "    \n",
    "    model.eval()\n",
    "    preds = []\n",
    "    answers = []\n",
    "    with torch.no_grad():\n",
    "        for batch,answer,ss in get_test_seq_data(test_seq):\n",
    "            pred = model(batch.unsqueeze(0)).squeeze(0)\n",
    "            pred = pred[:len(answer)-1].gather(1,ss[1:].view(-1,1)).flatten()\n",
    "            answer = answer[1:]\n",
    "            preds.append(pred)\n",
    "            answers.append(answer)\n",
    "    preds = torch.cat(preds,dim=-1)\n",
    "    answers = torch.cat(answers,dim=-1)\n",
    "    test_acc, test_auc = compute_metrics(preds.detach().numpy(), answers.detach().numpy())\n",
    "    if e % 100 == 0:\n",
    "        print(test_acc, test_auc)"
   ]
  },
  {
   "cell_type": "code",
   "execution_count": null,
   "id": "76bb65ea",
   "metadata": {},
   "outputs": [],
   "source": []
  }
 ],
 "metadata": {
  "kernelspec": {
   "display_name": "edu_ktm",
   "language": "python",
   "name": "edu_ktm"
  },
  "language_info": {
   "codemirror_mode": {
    "name": "ipython",
    "version": 3
   },
   "file_extension": ".py",
   "mimetype": "text/x-python",
   "name": "python",
   "nbconvert_exporter": "python",
   "pygments_lexer": "ipython3",
   "version": "3.9.18"
  }
 },
 "nbformat": 4,
 "nbformat_minor": 5
}
