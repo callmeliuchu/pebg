{
 "cells": [
  {
   "cell_type": "code",
   "execution_count": 1,
   "id": "80c58630",
   "metadata": {
    "pycharm": {
     "name": "#%%\n"
    }
   },
   "outputs": [],
   "source": [
    "import pandas as pd"
   ]
  },
  {
   "cell_type": "code",
   "execution_count": 2,
   "id": "c3d9ceba",
   "metadata": {
    "pycharm": {
     "name": "#%%\n"
    }
   },
   "outputs": [
    {
     "name": "stderr",
     "output_type": "stream",
     "text": [
      "/var/folders/z2/kds62tbj3x93zghv2_jz1xsr0000gn/T/ipykernel_68955/1893765437.py:1: DtypeWarning: Columns (17) have mixed types. Specify dtype option on import or set low_memory=False.\n",
      "  data1 = pd.read_csv('assist09_test/skill_builder_data_corrected.csv',encoding='ISO-8859-1')\n"
     ]
    }
   ],
   "source": [
    "data1 = pd.read_csv('assist09_test/skill_builder_data_corrected.csv',encoding='ISO-8859-1')"
   ]
  },
  {
   "cell_type": "markdown",
   "id": "809d4b2e",
   "metadata": {
    "pycharm": {
     "name": "#%% md\n"
    }
   },
   "source": []
  },
  {
   "cell_type": "code",
   "execution_count": 3,
   "id": "86f12a8c",
   "metadata": {
    "pycharm": {
     "name": "#%%\n"
    }
   },
   "outputs": [],
   "source": [
    "data = data1.dropna(axis=0,subset=['skill_id','problem_id','user_id','correct','order_id'])"
   ]
  },
  {
   "cell_type": "code",
   "execution_count": 4,
   "id": "435cfde3",
   "metadata": {
    "pycharm": {
     "name": "#%%\n"
    }
   },
   "outputs": [
    {
     "data": {
      "text/plain": [
       "123"
      ]
     },
     "execution_count": 4,
     "metadata": {},
     "output_type": "execute_result"
    }
   ],
   "source": [
    "len(set(data['skill_id']))"
   ]
  },
  {
   "cell_type": "code",
   "execution_count": 5,
   "id": "ba4a12e5",
   "metadata": {
    "pycharm": {
     "name": "#%%\n"
    }
   },
   "outputs": [],
   "source": [
    "data = data.sort_values('order_id')"
   ]
  },
  {
   "cell_type": "code",
   "execution_count": 6,
   "id": "cbeaa585",
   "metadata": {
    "pycharm": {
     "name": "#%%\n"
    }
   },
   "outputs": [
    {
     "data": {
      "text/html": [
       "<div>\n",
       "<style scoped>\n",
       "    .dataframe tbody tr th:only-of-type {\n",
       "        vertical-align: middle;\n",
       "    }\n",
       "\n",
       "    .dataframe tbody tr th {\n",
       "        vertical-align: top;\n",
       "    }\n",
       "\n",
       "    .dataframe thead th {\n",
       "        text-align: right;\n",
       "    }\n",
       "</style>\n",
       "<table border=\"1\" class=\"dataframe\">\n",
       "  <thead>\n",
       "    <tr style=\"text-align: right;\">\n",
       "      <th></th>\n",
       "      <th>order_id</th>\n",
       "      <th>assignment_id</th>\n",
       "      <th>user_id</th>\n",
       "      <th>assistment_id</th>\n",
       "      <th>problem_id</th>\n",
       "      <th>original</th>\n",
       "      <th>correct</th>\n",
       "      <th>attempt_count</th>\n",
       "      <th>ms_first_response</th>\n",
       "      <th>tutor_mode</th>\n",
       "      <th>...</th>\n",
       "      <th>hint_count</th>\n",
       "      <th>hint_total</th>\n",
       "      <th>overlap_time</th>\n",
       "      <th>template_id</th>\n",
       "      <th>answer_id</th>\n",
       "      <th>answer_text</th>\n",
       "      <th>first_action</th>\n",
       "      <th>bottom_hint</th>\n",
       "      <th>opportunity</th>\n",
       "      <th>opportunity_original</th>\n",
       "    </tr>\n",
       "  </thead>\n",
       "  <tbody>\n",
       "    <tr>\n",
       "      <th>274929</th>\n",
       "      <td>20224085</td>\n",
       "      <td>232368</td>\n",
       "      <td>73963</td>\n",
       "      <td>42904</td>\n",
       "      <td>76429</td>\n",
       "      <td>0</td>\n",
       "      <td>0</td>\n",
       "      <td>3</td>\n",
       "      <td>106016</td>\n",
       "      <td>tutor</td>\n",
       "      <td>...</td>\n",
       "      <td>0</td>\n",
       "      <td>0</td>\n",
       "      <td>112313</td>\n",
       "      <td>31690</td>\n",
       "      <td>128739.0</td>\n",
       "      <td>NaN</td>\n",
       "      <td>0</td>\n",
       "      <td>NaN</td>\n",
       "      <td>1</td>\n",
       "      <td>NaN</td>\n",
       "    </tr>\n",
       "    <tr>\n",
       "      <th>274930</th>\n",
       "      <td>20224095</td>\n",
       "      <td>232368</td>\n",
       "      <td>73963</td>\n",
       "      <td>42904</td>\n",
       "      <td>76430</td>\n",
       "      <td>0</td>\n",
       "      <td>1</td>\n",
       "      <td>1</td>\n",
       "      <td>194187</td>\n",
       "      <td>tutor</td>\n",
       "      <td>...</td>\n",
       "      <td>0</td>\n",
       "      <td>0</td>\n",
       "      <td>194187</td>\n",
       "      <td>31690</td>\n",
       "      <td>128742.0</td>\n",
       "      <td>NaN</td>\n",
       "      <td>0</td>\n",
       "      <td>NaN</td>\n",
       "      <td>2</td>\n",
       "      <td>NaN</td>\n",
       "    </tr>\n",
       "    <tr>\n",
       "      <th>274931</th>\n",
       "      <td>20224113</td>\n",
       "      <td>232368</td>\n",
       "      <td>73963</td>\n",
       "      <td>42904</td>\n",
       "      <td>76431</td>\n",
       "      <td>0</td>\n",
       "      <td>1</td>\n",
       "      <td>1</td>\n",
       "      <td>12734</td>\n",
       "      <td>tutor</td>\n",
       "      <td>...</td>\n",
       "      <td>0</td>\n",
       "      <td>2</td>\n",
       "      <td>12734</td>\n",
       "      <td>31690</td>\n",
       "      <td>NaN</td>\n",
       "      <td>35</td>\n",
       "      <td>0</td>\n",
       "      <td>NaN</td>\n",
       "      <td>3</td>\n",
       "      <td>NaN</td>\n",
       "    </tr>\n",
       "    <tr>\n",
       "      <th>274932</th>\n",
       "      <td>20224123</td>\n",
       "      <td>232368</td>\n",
       "      <td>73963</td>\n",
       "      <td>42904</td>\n",
       "      <td>76432</td>\n",
       "      <td>0</td>\n",
       "      <td>1</td>\n",
       "      <td>1</td>\n",
       "      <td>333484</td>\n",
       "      <td>tutor</td>\n",
       "      <td>...</td>\n",
       "      <td>0</td>\n",
       "      <td>1</td>\n",
       "      <td>333484</td>\n",
       "      <td>31690</td>\n",
       "      <td>128750.0</td>\n",
       "      <td>NaN</td>\n",
       "      <td>0</td>\n",
       "      <td>NaN</td>\n",
       "      <td>4</td>\n",
       "      <td>NaN</td>\n",
       "    </tr>\n",
       "    <tr>\n",
       "      <th>274933</th>\n",
       "      <td>20224142</td>\n",
       "      <td>232368</td>\n",
       "      <td>73963</td>\n",
       "      <td>42904</td>\n",
       "      <td>76433</td>\n",
       "      <td>0</td>\n",
       "      <td>0</td>\n",
       "      <td>2</td>\n",
       "      <td>52828</td>\n",
       "      <td>tutor</td>\n",
       "      <td>...</td>\n",
       "      <td>2</td>\n",
       "      <td>2</td>\n",
       "      <td>65203</td>\n",
       "      <td>31690</td>\n",
       "      <td>NaN</td>\n",
       "      <td>2.5</td>\n",
       "      <td>0</td>\n",
       "      <td>1.0</td>\n",
       "      <td>5</td>\n",
       "      <td>NaN</td>\n",
       "    </tr>\n",
       "    <tr>\n",
       "      <th>...</th>\n",
       "      <td>...</td>\n",
       "      <td>...</td>\n",
       "      <td>...</td>\n",
       "      <td>...</td>\n",
       "      <td>...</td>\n",
       "      <td>...</td>\n",
       "      <td>...</td>\n",
       "      <td>...</td>\n",
       "      <td>...</td>\n",
       "      <td>...</td>\n",
       "      <td>...</td>\n",
       "      <td>...</td>\n",
       "      <td>...</td>\n",
       "      <td>...</td>\n",
       "      <td>...</td>\n",
       "      <td>...</td>\n",
       "      <td>...</td>\n",
       "      <td>...</td>\n",
       "      <td>...</td>\n",
       "      <td>...</td>\n",
       "      <td>...</td>\n",
       "    </tr>\n",
       "    <tr>\n",
       "      <th>19381</th>\n",
       "      <td>38310200</td>\n",
       "      <td>290668</td>\n",
       "      <td>96282</td>\n",
       "      <td>73176</td>\n",
       "      <td>135601</td>\n",
       "      <td>1</td>\n",
       "      <td>1</td>\n",
       "      <td>1</td>\n",
       "      <td>5230</td>\n",
       "      <td>tutor</td>\n",
       "      <td>...</td>\n",
       "      <td>0</td>\n",
       "      <td>2</td>\n",
       "      <td>5230</td>\n",
       "      <td>63443</td>\n",
       "      <td>NaN</td>\n",
       "      <td>30</td>\n",
       "      <td>0</td>\n",
       "      <td>NaN</td>\n",
       "      <td>9</td>\n",
       "      <td>9.0</td>\n",
       "    </tr>\n",
       "    <tr>\n",
       "      <th>46688</th>\n",
       "      <td>38310201</td>\n",
       "      <td>290668</td>\n",
       "      <td>96282</td>\n",
       "      <td>73177</td>\n",
       "      <td>135602</td>\n",
       "      <td>1</td>\n",
       "      <td>1</td>\n",
       "      <td>1</td>\n",
       "      <td>5532</td>\n",
       "      <td>tutor</td>\n",
       "      <td>...</td>\n",
       "      <td>0</td>\n",
       "      <td>2</td>\n",
       "      <td>5532</td>\n",
       "      <td>63443</td>\n",
       "      <td>NaN</td>\n",
       "      <td>30</td>\n",
       "      <td>0</td>\n",
       "      <td>NaN</td>\n",
       "      <td>13</td>\n",
       "      <td>13.0</td>\n",
       "    </tr>\n",
       "    <tr>\n",
       "      <th>19382</th>\n",
       "      <td>38310201</td>\n",
       "      <td>290668</td>\n",
       "      <td>96282</td>\n",
       "      <td>73177</td>\n",
       "      <td>135602</td>\n",
       "      <td>1</td>\n",
       "      <td>1</td>\n",
       "      <td>1</td>\n",
       "      <td>5532</td>\n",
       "      <td>tutor</td>\n",
       "      <td>...</td>\n",
       "      <td>0</td>\n",
       "      <td>2</td>\n",
       "      <td>5532</td>\n",
       "      <td>63443</td>\n",
       "      <td>NaN</td>\n",
       "      <td>30</td>\n",
       "      <td>0</td>\n",
       "      <td>NaN</td>\n",
       "      <td>10</td>\n",
       "      <td>10.0</td>\n",
       "    </tr>\n",
       "    <tr>\n",
       "      <th>19383</th>\n",
       "      <td>38310202</td>\n",
       "      <td>290668</td>\n",
       "      <td>96282</td>\n",
       "      <td>73191</td>\n",
       "      <td>135616</td>\n",
       "      <td>1</td>\n",
       "      <td>1</td>\n",
       "      <td>1</td>\n",
       "      <td>7910</td>\n",
       "      <td>tutor</td>\n",
       "      <td>...</td>\n",
       "      <td>0</td>\n",
       "      <td>2</td>\n",
       "      <td>7910</td>\n",
       "      <td>63444</td>\n",
       "      <td>NaN</td>\n",
       "      <td>42</td>\n",
       "      <td>0</td>\n",
       "      <td>NaN</td>\n",
       "      <td>11</td>\n",
       "      <td>11.0</td>\n",
       "    </tr>\n",
       "    <tr>\n",
       "      <th>42761</th>\n",
       "      <td>38310202</td>\n",
       "      <td>290668</td>\n",
       "      <td>96282</td>\n",
       "      <td>73191</td>\n",
       "      <td>135616</td>\n",
       "      <td>1</td>\n",
       "      <td>1</td>\n",
       "      <td>1</td>\n",
       "      <td>7910</td>\n",
       "      <td>tutor</td>\n",
       "      <td>...</td>\n",
       "      <td>0</td>\n",
       "      <td>2</td>\n",
       "      <td>7910</td>\n",
       "      <td>63444</td>\n",
       "      <td>NaN</td>\n",
       "      <td>42</td>\n",
       "      <td>0</td>\n",
       "      <td>NaN</td>\n",
       "      <td>3</td>\n",
       "      <td>3.0</td>\n",
       "    </tr>\n",
       "  </tbody>\n",
       "</table>\n",
       "<p>338001 rows × 30 columns</p>\n",
       "</div>"
      ],
      "text/plain": [
       "        order_id  assignment_id  user_id  assistment_id  problem_id  original   \n",
       "274929  20224085         232368    73963          42904       76429         0  \\\n",
       "274930  20224095         232368    73963          42904       76430         0   \n",
       "274931  20224113         232368    73963          42904       76431         0   \n",
       "274932  20224123         232368    73963          42904       76432         0   \n",
       "274933  20224142         232368    73963          42904       76433         0   \n",
       "...          ...            ...      ...            ...         ...       ...   \n",
       "19381   38310200         290668    96282          73176      135601         1   \n",
       "46688   38310201         290668    96282          73177      135602         1   \n",
       "19382   38310201         290668    96282          73177      135602         1   \n",
       "19383   38310202         290668    96282          73191      135616         1   \n",
       "42761   38310202         290668    96282          73191      135616         1   \n",
       "\n",
       "        correct  attempt_count  ms_first_response tutor_mode  ... hint_count   \n",
       "274929        0              3             106016      tutor  ...          0  \\\n",
       "274930        1              1             194187      tutor  ...          0   \n",
       "274931        1              1              12734      tutor  ...          0   \n",
       "274932        1              1             333484      tutor  ...          0   \n",
       "274933        0              2              52828      tutor  ...          2   \n",
       "...         ...            ...                ...        ...  ...        ...   \n",
       "19381         1              1               5230      tutor  ...          0   \n",
       "46688         1              1               5532      tutor  ...          0   \n",
       "19382         1              1               5532      tutor  ...          0   \n",
       "19383         1              1               7910      tutor  ...          0   \n",
       "42761         1              1               7910      tutor  ...          0   \n",
       "\n",
       "        hint_total  overlap_time  template_id answer_id  answer_text   \n",
       "274929           0        112313        31690  128739.0          NaN  \\\n",
       "274930           0        194187        31690  128742.0          NaN   \n",
       "274931           2         12734        31690       NaN           35   \n",
       "274932           1        333484        31690  128750.0          NaN   \n",
       "274933           2         65203        31690       NaN          2.5   \n",
       "...            ...           ...          ...       ...          ...   \n",
       "19381            2          5230        63443       NaN           30   \n",
       "46688            2          5532        63443       NaN           30   \n",
       "19382            2          5532        63443       NaN           30   \n",
       "19383            2          7910        63444       NaN           42   \n",
       "42761            2          7910        63444       NaN           42   \n",
       "\n",
       "        first_action bottom_hint  opportunity  opportunity_original  \n",
       "274929             0         NaN            1                   NaN  \n",
       "274930             0         NaN            2                   NaN  \n",
       "274931             0         NaN            3                   NaN  \n",
       "274932             0         NaN            4                   NaN  \n",
       "274933             0         1.0            5                   NaN  \n",
       "...              ...         ...          ...                   ...  \n",
       "19381              0         NaN            9                   9.0  \n",
       "46688              0         NaN           13                  13.0  \n",
       "19382              0         NaN           10                  10.0  \n",
       "19383              0         NaN           11                  11.0  \n",
       "42761              0         NaN            3                   3.0  \n",
       "\n",
       "[338001 rows x 30 columns]"
      ]
     },
     "execution_count": 6,
     "metadata": {},
     "output_type": "execute_result"
    }
   ],
   "source": [
    "data"
   ]
  },
  {
   "cell_type": "code",
   "execution_count": 7,
   "id": "7f4d4f02",
   "metadata": {
    "pycharm": {
     "name": "#%%\n"
    }
   },
   "outputs": [
    {
     "data": {
      "text/plain": [
       "123"
      ]
     },
     "execution_count": 7,
     "metadata": {},
     "output_type": "execute_result"
    }
   ],
   "source": [
    "len(set(data['skill_id']))"
   ]
  },
  {
   "cell_type": "code",
   "execution_count": 8,
   "id": "c04b65db",
   "metadata": {
    "pycharm": {
     "name": "#%%\n"
    }
   },
   "outputs": [],
   "source": [
    "skill_ids = list(set(data['skill_id']))"
   ]
  },
  {
   "cell_type": "code",
   "execution_count": 9,
   "id": "1d55ddb7",
   "metadata": {
    "pycharm": {
     "name": "#%%\n"
    }
   },
   "outputs": [],
   "source": [
    "problem_ids = list(set(data['problem_id']))"
   ]
  },
  {
   "cell_type": "code",
   "execution_count": 10,
   "id": "462bbc91",
   "metadata": {
    "pycharm": {
     "name": "#%%\n"
    }
   },
   "outputs": [],
   "source": [
    "skill2id = {s:i for i,s in enumerate(skill_ids)}\n",
    "problem2id = {p:i for i,p in enumerate(problem_ids)}"
   ]
  },
  {
   "cell_type": "code",
   "execution_count": 11,
   "id": "fecea984",
   "metadata": {
    "pycharm": {
     "name": "#%%\n"
    }
   },
   "outputs": [],
   "source": [
    "user_data = {}\n",
    "for index,row in data.iterrows():\n",
    "#     print(row['user_id'],row['problem_id'],row['correct'])\n",
    "    user_id = row['user_id']\n",
    "    skill_id = skill2id[row['skill_id']]\n",
    "    problem_id = problem2id[row['problem_id']]\n",
    "    correct = row['correct']\n",
    "    if user_id in user_data:\n",
    "        user_data[user_id][0].append(problem_id)\n",
    "        user_data[user_id][1].append(skill_id)\n",
    "        user_data[user_id][2].append(correct)\n",
    "    else:\n",
    "        user_data[user_id] = [[problem_id],[skill_id],[correct]]"
   ]
  },
  {
   "cell_type": "code",
   "execution_count": 12,
   "id": "437bd9eb",
   "metadata": {
    "pycharm": {
     "name": "#%%\n"
    }
   },
   "outputs": [
    {
     "data": {
      "text/plain": [
       "4163"
      ]
     },
     "execution_count": 12,
     "metadata": {},
     "output_type": "execute_result"
    }
   ],
   "source": [
    "len(user_data)"
   ]
  },
  {
   "cell_type": "code",
   "execution_count": 13,
   "id": "f179050a",
   "metadata": {
    "pycharm": {
     "name": "#%%\n"
    }
   },
   "outputs": [],
   "source": [
    "all_data = list(user_data.values())"
   ]
  },
  {
   "cell_type": "code",
   "execution_count": 14,
   "id": "e1051e1d",
   "metadata": {
    "pycharm": {
     "name": "#%%\n"
    }
   },
   "outputs": [
    {
     "data": {
      "text/plain": [
       "4163"
      ]
     },
     "execution_count": 14,
     "metadata": {},
     "output_type": "execute_result"
    }
   ],
   "source": [
    "len(all_data)"
   ]
  },
  {
   "cell_type": "code",
   "execution_count": 15,
   "id": "8d9c44eb",
   "metadata": {
    "pycharm": {
     "name": "#%%\n"
    }
   },
   "outputs": [],
   "source": [
    "train_n = int(0.9*len(all_data))"
   ]
  },
  {
   "cell_type": "code",
   "execution_count": 16,
   "id": "c6cb1b68",
   "metadata": {
    "pycharm": {
     "name": "#%%\n"
    }
   },
   "outputs": [],
   "source": [
    "train_data = all_data[:train_n]\n",
    "val_data = all_data[train_n:]"
   ]
  },
  {
   "cell_type": "code",
   "execution_count": null,
   "id": "c272c2c4",
   "metadata": {
    "pycharm": {
     "name": "#%%\n"
    }
   },
   "outputs": [],
   "source": [
    "import json"
   ]
  },
  {
   "cell_type": "code",
   "execution_count": null,
   "id": "50ebf686",
   "metadata": {
    "pycharm": {
     "name": "#%%\n"
    }
   },
   "outputs": [],
   "source": [
    "with open('train_pid.json','w') as f:\n",
    "    json.dump(train_data,f)"
   ]
  },
  {
   "cell_type": "code",
   "execution_count": null,
   "id": "9b7e488b",
   "metadata": {
    "pycharm": {
     "name": "#%%\n"
    }
   },
   "outputs": [],
   "source": [
    "with open('val_pid.json','w') as f:\n",
    "    json.dump(val_data,f)"
   ]
  },
  {
   "cell_type": "code",
   "execution_count": null,
   "id": "c60134a4",
   "metadata": {
    "pycharm": {
     "name": "#%%\n"
    }
   },
   "outputs": [],
   "source": [
    "seq_len = 200"
   ]
  },
  {
   "cell_type": "code",
   "execution_count": null,
   "id": "faede16e",
   "metadata": {
    "pycharm": {
     "name": "#%%\n"
    }
   },
   "outputs": [],
   "source": [
    "data = []\n",
    "for user_id in user_data:\n",
    "    problems,skills,correct=user_data[user_id]\n",
    "    print(problems)\n",
    "    print(skills)\n",
    "    print(correct)\n",
    "    break"
   ]
  },
  {
   "cell_type": "code",
   "execution_count": 46,
   "id": "e97ec62b",
   "metadata": {
    "pycharm": {
     "name": "#%%\n"
    }
   },
   "outputs": [],
   "source": [
    "seq_len = 200"
   ]
  },
  {
   "cell_type": "code",
   "execution_count": 45,
   "id": "ffdb93c5",
   "metadata": {
    "pycharm": {
     "name": "#%%\n"
    }
   },
   "outputs": [
    {
     "name": "stdout",
     "output_type": "stream",
     "text": [
      "[4299, 4300, 4301, 4302, 4303, 4304, 4209, 4210, 4211, 4212, 4213, 4214, 4216, 4219, 4257, 4258, 4259, 4260, 4261, 4262, 4263, 4266, 4273, 4274, 4275, 4276, 4277, 4278, 4279, 4280, 4123, 4124, 4125, 4126, 4127, 4128, 4129, 4130, 4241, 3714, 3748, 3680, 3653, 3667, 3715, 3687, 3820, 3884, 3874, 3888, 3848, 3847, 3832, 4242, 4243, 4246, 4248, 6982, 3681, 3732, 3685, 3746, 3683, 3692]\n",
      "[89, 89, 89, 89, 89, 89, 89, 89, 89, 89, 89, 89, 89, 89, 89, 89, 89, 89, 89, 89, 89, 89, 89, 89, 89, 89, 89, 89, 89, 89, 89, 89, 89, 89, 89, 89, 89, 89, 89, 26, 26, 26, 26, 26, 26, 26, 25, 25, 25, 25, 25, 25, 25, 89, 89, 89, 89, 37, 26, 26, 26, 26, 26, 26]\n",
      "[0, 1, 1, 1, 0, 0, 0, 0, 1, 1, 1, 1, 1, 1, 0, 1, 1, 1, 1, 1, 1, 1, 0, 1, 1, 1, 0, 1, 1, 0, 0, 1, 1, 1, 1, 1, 0, 1, 0, 0, 0, 1, 0, 0, 1, 0, 0, 0, 1, 1, 0, 0, 1, 1, 1, 1, 0, 1, 0, 0, 1, 0, 1, 1]\n"
     ]
    }
   ],
   "source": [
    "data = []\n",
    "for user_id in user_data:\n",
    "    problems,skills,correct=user_data[user_id]\n",
    "    print(problems)\n",
    "    print(skills)\n",
    "    print(correct)\n",
    "    break"
   ]
  },
  {
   "cell_type": "code",
   "execution_count": null,
   "id": "45b3aad2",
   "metadata": {
    "pycharm": {
     "name": "#%%\n"
    }
   },
   "outputs": [],
   "source": []
  }
 ],
 "metadata": {
  "kernelspec": {
   "display_name": "edu_ktm",
   "language": "python",
   "name": "edu_ktm"
  },
  "language_info": {
   "codemirror_mode": {
    "name": "ipython",
    "version": 3
   },
   "file_extension": ".py",
   "mimetype": "text/x-python",
   "name": "python",
   "nbconvert_exporter": "python",
   "pygments_lexer": "ipython3",
   "version": "3.9.18"
  }
 },
 "nbformat": 4,
 "nbformat_minor": 5
}