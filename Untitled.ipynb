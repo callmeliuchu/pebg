{
 "cells": [
  {
   "cell_type": "code",
   "execution_count": null,
   "outputs": [],
   "source": [
    "def pnn1(inputs, embed_size, hidden_dim, keep_prob):\n",
    "    num_inputs = len(inputs)\n",
    "    num_pairs = int(num_inputs * (num_inputs - 1) / 2)\n",
    "    xw = torch.cat(inputs, 1)\n",
    "    xw3d = xw.view(-1, num_inputs, embed_size)\n",
    "    row = []\n",
    "    col = []\n",
    "    for i in range(num_inputs - 1):\n",
    "        for j in range(i + 1, num_inputs):\n",
    "            row.append(i)\n",
    "            col.append(j)\n",
    "    p = xw3d[:, row, :].transpose(1, 0)\n",
    "    q = xw3d[:, col, :].transpose(1, 0)\n",
    "    p = p.contiguous().view(-1, num_pairs, embed_size)\n",
    "    q = q.contiguous().view(-1, num_pairs, embed_size)\n",
    "    ip = (p * q).sum(-1).view(-1, num_pairs)\n",
    "    l = torch.cat([xw, ip], 1)\n",
    "    h = nn.Linear(l.size(1), hidden_dim)(l)\n",
    "    h = nn.ReLU()(h)\n",
    "    h = nn.Dropout(p=1 - keep_prob)(h)\n",
    "    p = nn.Linear(hidden_dim, 1)(h).view(-1)\n",
    "    return h, p"
   ],
   "metadata": {
    "collapsed": false,
    "pycharm": {
     "name": "#%%\n"
    }
   }
  },
  {
   "cell_type": "code",
   "execution_count": null,
   "outputs": [],
   "source": [],
   "metadata": {
    "collapsed": false,
    "pycharm": {
     "name": "#%%\n"
    }
   }
  },
  {
   "cell_type": "code",
   "execution_count": null,
   "outputs": [],
   "source": [
    "import os\n",
    "import torch\n",
    "import numpy as np\n",
    "import math\n",
    "from scipy import sparse\n",
    "from torch.nn import functional as F\n",
    "\n",
    "\n",
    "import torch\n",
    "import torch.nn as nn\n",
    "\n",
    "\n",
    "\n",
    "\n",
    "# 加载数据\n",
    "data_folder = 'assist09'\n",
    "con_sym = ';'\n",
    "\n",
    "pro_skill_coo = sparse.load_npz(os.path.join(data_folder, 'pro_skill_sparse.npz'))\n",
    "skill_skill_coo = sparse.load_npz(os.path.join(data_folder, 'skill_skill_sparse.npz'))\n",
    "pro_pro_coo = sparse.load_npz(os.path.join(data_folder, 'pro_pro_sparse.npz'))\n",
    "\n",
    "pro_num, skill_num = pro_skill_coo.shape\n",
    "print(f'问题数目{pro_num}, 技能数目{skill_num}')\n",
    "\n",
    "pro_skill = pro_skill_coo.toarray()\n",
    "pro_pro = pro_pro_coo.toarray()\n",
    "skill_skill = skill_skill_coo.toarray()\n",
    "pro_skill_tensor = torch.from_numpy(pro_skill)\n",
    "skill_skill_tensor = torch.from_numpy(skill_skill)\n",
    "pro_pro_tensor = torch.from_numpy(pro_pro)\n",
    "\n",
    "pro_feat = np.load(os.path.join(data_folder, 'pro_feat.npz'))['pro_feat']\n",
    "pro_feat_tensor = torch.from_numpy(pro_feat)\n",
    "print('问题特征形状:', pro_feat.shape)\n",
    "\n",
    "diff_feat_dim = pro_feat.shape[1] - 1\n",
    "embed_dim = 64\n",
    "hidden_dim = 64\n",
    "dropout = 0.5\n",
    "lr = 0.001\n",
    "batch_size = 256\n",
    "epochs = 200\n",
    "\n",
    "device = torch.device(\"cuda:0\" if torch.cuda.is_available() else \"cpu\")\n",
    "\n",
    "\n",
    "# 定义模型\n",
    "class PEGB(torch.nn.Module):\n",
    "    def __init__(self, pro_num, skill_num, diff_feat_dim, embed_dim):\n",
    "        super(PEGB, self).__init__()\n",
    "\n",
    "        self.pro_embeddings = torch.nn.Embedding(pro_num, embed_dim)\n",
    "        self.skill_embeddings = torch.nn.Embedding(skill_num, embed_dim)\n",
    "        self.diff_embeddings = torch.nn.Linear(diff_feat_dim, embed_dim)\n",
    "        \n",
    "        self.final_embedding = torch.zeros(pro_num, embed_dim)\n",
    "    \n",
    "    def final_pro_embedding(self):\n",
    "        batch_pro = torch.arange(pro_num).long().to(device)\n",
    "        batch_pro_skill = torch.Tensor(pro_skill).to(device)\n",
    "        batch_pro_pro = torch.Tensor(pro_pro).to(device)\n",
    "        batch_diff_feat = torch.Tensor(pro_feat[:,:-1]).to(device)\n",
    "        batch_skill_skill = torch.arange(skill_num).to(device)\n",
    "        pro_embed = self.pro_embeddings(batch_pro)\n",
    "        skill_embed = self.skill_embeddings(batch_skill_skill)\n",
    "        diff_feat_embed = self.diff_embeddings(batch_diff_feat)\n",
    "        print(pro_embed.shape, skill_embed.shape, diff_feat_embed.shape)\n",
    "        skill_embed = batch_pro_skill @ skill_embed / batch_pro_skill.sum(1, keepdim=True)\n",
    "        h,p= pnn1([pro_embed, skill_embed, diff_feat_embed],embed_dim, hidden_dim, 0.5)\n",
    "        return h\n",
    "\n",
    "\n",
    "\n",
    "    def forward(self, pro, diff_feat, pro_skill, pro_pro, skill_skill):\n",
    "        pro_embed = self.pro_embeddings(pro)\n",
    "        skill_embed = self.skill_embeddings(skill_skill)\n",
    "        diff_feat_embed = self.diff_embeddings(diff_feat)\n",
    "\n",
    "        # pro-skill\n",
    "        pro_skill_logits = (pro_embed @ skill_embed.t()).view(-1)\n",
    "        pro_skill_loss = F.binary_cross_entropy_with_logits(pro_skill_logits, pro_skill.view(-1))\n",
    "\n",
    "        # pro-pro\n",
    "        pro_pro_logits = (pro_embed @ pro_embed.t()).view(-1)\n",
    "        # print(pro_pro_logits.shape,pro_pro.shape)\n",
    "        pro_pro_loss = F.binary_cross_entropy_with_logits(pro_pro_logits, pro_pro.contiguous().view(-1))\n",
    "\n",
    "        # skill-skill\n",
    "        skill_skill_logits = (skill_embed @ skill_embed.t()).view(-1)\n",
    "        skill_skill_loss = F.binary_cross_entropy_with_logits(skill_skill_logits, skill_skill_tensor.view(-1))\n",
    "\n",
    "        # 特征融合\n",
    "        skill_embed = pro_skill @ skill_embed / pro_skill.sum(1, keepdim=True)\n",
    "#         print(pro_embed.shape,skill_embed.shape,diff_feat_embed.shape)\n",
    "        h,p= pnn1([pro_embed, skill_embed, diff_feat_embed],embed_dim, hidden_dim, 1.0)\n",
    "#         h,p = self.pnn([pro_embed, skill_embed, diff_feat_embed])\n",
    "        # pro_final_embed = None\n",
    "#         print(p.shape,pro_feat_tensor.shape)\n",
    "        self.final_embedding[pro] = h\n",
    "        mse = ((p-diff_feat[:,-1])**2).mean()\n",
    "\n",
    "        return pro_skill_loss, pro_pro_loss, skill_skill_loss,mse,h\n",
    "\n",
    "\n",
    "model = PEGB(pro_num, skill_num, diff_feat_dim, embed_dim).to(device)\n",
    "optimizer = torch.optim.Adam(model.parameters(), lr=lr)\n",
    "\n",
    "\n"
   ],
   "metadata": {
    "collapsed": false,
    "pycharm": {
     "name": "#%%\n"
    }
   }
  },
  {
   "cell_type": "code",
   "execution_count": null,
   "outputs": [],
   "source": [
    "def final_pro_embedding(self):\n",
    "    batch_pro = torch.arange(pro_num).long().to(device)\n",
    "    batch_pro_skill = torch.Tensor(pro_skill).to(device)\n",
    "    batch_pro_pro = torch.Tensor(pro_pro).to(device)\n",
    "    batch_diff_feat = torch.Tensor(pro_feat[:,:-1]).to(device)\n",
    "    batch_skill_skill = torch.arange(skill_num).to(device)\n",
    "    pro_embed = self.pro_embeddings(batch_pro)\n",
    "    skill_embed = self.skill_embeddings(batch_skill_skill)\n",
    "    diff_feat_embed = self.diff_embeddings(batch_diff_feat)\n",
    "    print(pro_embed.shape, skill_embed.shape, diff_feat_embed.shape)\n",
    "    skill_embed = batch_pro_skill @ skill_embed / batch_pro_skill.sum(1, keepdim=True)\n",
    "    h,p= pnn1([pro_embed, skill_embed, diff_feat_embed],embed_dim, hidden_dim, 1.0)\n",
    "    return h"
   ],
   "metadata": {
    "collapsed": false,
    "pycharm": {
     "name": "#%%\n"
    }
   }
  },
  {
   "cell_type": "code",
   "execution_count": null,
   "outputs": [],
   "source": [
    "final_pro_embedding(model)[0]"
   ],
   "metadata": {
    "collapsed": false,
    "pycharm": {
     "name": "#%%\n"
    }
   }
  },
  {
   "cell_type": "code",
   "execution_count": null,
   "outputs": [],
   "source": [
    "for epoch in range(1000):\n",
    "    model.train()\n",
    "    train_loss = 0\n",
    "\n",
    "    for i in range(0, pro_num, batch_size):\n",
    "        batch_pro = torch.arange(i, min(i + batch_size, pro_num)).long().to(device)\n",
    "        batch_pro_skill = torch.Tensor(pro_skill[i:i + batch_size]).to(device)\n",
    "        batch_pro_pro = torch.Tensor(pro_pro[i:i + batch_size,i:i + batch_size]).to(device)\n",
    "        batch_diff_feat = torch.Tensor(pro_feat[i:i + batch_size, :-1]).to(device)\n",
    "        batch_skill_skill = torch.arange(skill_num).to(device)\n",
    "\n",
    "        pro_skill_loss, pro_pro_loss, skill_skill_loss, mse,h = model(batch_pro,\n",
    "                                                                  batch_diff_feat,\n",
    "                                                                  batch_pro_skill,\n",
    "                                                                  batch_pro_pro,\n",
    "                                                                  batch_skill_skill)\n",
    "        loss = pro_skill_loss + pro_pro_loss + skill_skill_loss + mse\n",
    "\n",
    "        optimizer.zero_grad()\n",
    "        loss.backward()\n",
    "        optimizer.step()\n",
    "\n",
    "        train_loss += loss.item()\n",
    "\n",
    "    train_loss /= math.ceil(pro_num / batch_size)\n",
    "    print(f'Epoch {epoch}, Loss {train_loss:.4f}')"
   ],
   "metadata": {
    "collapsed": false,
    "pycharm": {
     "name": "#%%\n"
    }
   }
  },
  {
   "cell_type": "code",
   "execution_count": null,
   "outputs": [],
   "source": [
    "model.pro_embeddings.weight.shape, model.skill_embeddings.weight.shape, model.diff_embeddings.weight.shape"
   ],
   "metadata": {
    "collapsed": false,
    "pycharm": {
     "name": "#%%\n"
    }
   }
  },
  {
   "cell_type": "code",
   "execution_count": null,
   "outputs": [],
   "source": [
    "x=model.final_pro_embedding()"
   ],
   "metadata": {
    "collapsed": false,
    "pycharm": {
     "name": "#%%\n"
    }
   }
  },
  {
   "cell_type": "code",
   "execution_count": null,
   "outputs": [],
   "source": [
    "model.pro_embeddings.weight"
   ],
   "metadata": {
    "collapsed": false,
    "pycharm": {
     "name": "#%%\n"
    }
   }
  },
  {
   "cell_type": "code",
   "execution_count": null,
   "outputs": [],
   "source": [
    "# 保存训练好的embedding\n",
    "model.eval()\n",
    "with torch.no_grad():\n",
    "    pro_embeddings = model.pro_embeddings.weight.cpu().numpy()\n",
    "    skill_embeddings = model.skill_embeddings.weight.cpu().numpy()\n",
    "\n",
    "    batch_pro = torch.arange(pro_num).long()\n",
    "    batch_pro_skill = torch.Tensor(pro_skill)\n",
    "    batch_diff_feat = torch.Tensor(pro_feat[:, :-1])\n",
    "    batch_skill_skill = torch.arange(skill_num).to(device)\n",
    "\n",
    "# 处理技能embedding\n",
    "with open(os.path.join(data_folder, 'skill_id_dict.txt'), 'r') as f:\n",
    "    skill_id_dict = eval(f.read())\n",
    "\n",
    "joint_skill_num = len(skill_id_dict)\n",
    "skill_embeddings_new = np.zeros((joint_skill_num, skill_embeddings.shape[1]))\n",
    "skill_embeddings_new[:skill_num] = skill_embeddings\n",
    "\n",
    "for s in skill_id_dict:\n",
    "    if con_sym in s:\n",
    "        tmp_skill_id = skill_id_dict[s]\n",
    "        tmp_skills = [skill_id_dict[t] for t in s.split(con_sym)]\n",
    "        skill_embeddings_new[tmp_skill_id] = np.mean(skill_embeddings[tmp_skills], axis=0)"
   ],
   "metadata": {
    "collapsed": false,
    "pycharm": {
     "name": "#%%\n"
    }
   }
  },
  {
   "cell_type": "code",
   "execution_count": null,
   "outputs": [],
   "source": [
    "pro_embeddings.shape"
   ],
   "metadata": {
    "collapsed": false,
    "pycharm": {
     "name": "#%%\n"
    }
   }
  },
  {
   "cell_type": "code",
   "execution_count": null,
   "outputs": [],
   "source": [
    "skill_embeddings.shape"
   ],
   "metadata": {
    "collapsed": false,
    "pycharm": {
     "name": "#%%\n"
    }
   }
  },
  {
   "cell_type": "code",
   "execution_count": null,
   "outputs": [],
   "source": [
    "pro_skill_tensor"
   ],
   "metadata": {
    "collapsed": false,
    "pycharm": {
     "name": "#%%\n"
    }
   }
  },
  {
   "cell_type": "code",
   "execution_count": null,
   "outputs": [],
   "source": [
    "torch.sigmoid(model.pro_embeddings.weight @ model.skill_embeddings.weight.t())"
   ],
   "metadata": {
    "collapsed": false,
    "pycharm": {
     "name": "#%%\n"
    }
   }
  },
  {
   "cell_type": "code",
   "execution_count": null,
   "outputs": [],
   "source": [
    "pro_skill_tensor"
   ],
   "metadata": {
    "collapsed": false,
    "pycharm": {
     "name": "#%%\n"
    }
   }
  },
  {
   "cell_type": "code",
   "execution_count": null,
   "outputs": [],
   "source": [
    "from sklearn.manifold import TSNE\n",
    "import matplotlib.pyplot as plt\n",
    "\n",
    "# 准备数据\n",
    "# data_tensor = model.pro_embeddings.weight\n",
    "data_tensor = model.pro_embeddings.weight\n",
    "\n",
    "# 初始化t-SNE模型\n",
    "tsne = TSNE(n_components=2, perplexity=30, learning_rate=100, n_iter=1000)\n",
    "\n",
    "# 执行t-SNE降维\n",
    "embedded_data = tsne.fit_transform(data_tensor.detach().numpy())\n",
    "\n",
    "# 可视化结果\n",
    "# plt.scatter(embedded_data[:, 0], embedded_data[:, 1])\n",
    "for label in range(skill_num):\n",
    "    pids = pro_skill_tensor[:,label].nonzero().view(-1).detach().numpy()\n",
    "#     print(pids)\n",
    "    red =  np.random.randint(0, 256)\n",
    "    green = np.random.randint(0, 256)\n",
    "    blue = np.random.randint(0, 256)\n",
    "    color = (red / 255, green / 255, blue / 255)\n",
    "    class_data = embedded_data[pids]\n",
    "    plt.scatter(class_data[:, 0], class_data[:, 1],c=color, label=str(label))\n",
    "plt.show()"
   ],
   "metadata": {
    "collapsed": false,
    "pycharm": {
     "name": "#%%\n"
    }
   }
  },
  {
   "cell_type": "code",
   "execution_count": 105,
   "id": "b8798f1e",
   "metadata": {
    "pycharm": {
     "name": "#%%\n"
    }
   },
   "outputs": [
    {
     "data": {
      "text/plain": [
       "tensor([[1., 1., 0.,  ..., 0., 0., 0.],\n",
       "        [1., 1., 0.,  ..., 0., 0., 0.],\n",
       "        [1., 1., 0.,  ..., 0., 0., 0.],\n",
       "        ...,\n",
       "        [0., 0., 0.,  ..., 0., 0., 1.],\n",
       "        [0., 0., 0.,  ..., 0., 0., 1.],\n",
       "        [0., 0., 0.,  ..., 0., 0., 1.]])"
      ]
     },
     "execution_count": 105,
     "metadata": {},
     "output_type": "execute_result"
    }
   ],
   "source": [
    "pro_skill_tensor"
   ]
  },
  {
   "cell_type": "code",
   "execution_count": 106,
   "id": "d6e529d3",
   "metadata": {
    "pycharm": {
     "name": "#%%\n"
    }
   },
   "outputs": [
    {
     "data": {
      "text/plain": [
       "tensor([[9.9956e-01, 9.1315e-01, 9.4748e-02,  ..., 6.5748e-02, 4.0917e-02,\n",
       "         2.3197e-02],\n",
       "        [9.9997e-01, 9.4071e-01, 8.6366e-02,  ..., 3.4760e-02, 6.2940e-02,\n",
       "         1.4981e-02],\n",
       "        [9.9966e-01, 9.0558e-01, 6.5115e-02,  ..., 6.4426e-02, 6.1909e-02,\n",
       "         1.7814e-02],\n",
       "        ...,\n",
       "        [3.8392e-04, 1.3309e-02, 1.5457e-03,  ..., 8.6398e-03, 2.3009e-02,\n",
       "         4.8012e-01],\n",
       "        [6.1338e-03, 1.3470e-02, 1.2435e-02,  ..., 7.4542e-03, 3.0296e-02,\n",
       "         5.3789e-01],\n",
       "        [1.2208e-03, 8.8578e-03, 3.9961e-03,  ..., 1.0348e-02, 2.4964e-02,\n",
       "         5.2171e-01]], grad_fn=<SigmoidBackward0>)"
      ]
     },
     "execution_count": 106,
     "metadata": {},
     "output_type": "execute_result"
    }
   ],
   "source": [
    "torch.sigmoid(model.pro_embeddings.weight @ model.skill_embeddings.weight.t())"
   ]
  },
  {
   "cell_type": "code",
   "execution_count": 107,
   "id": "0cea6661",
   "metadata": {
    "pycharm": {
     "name": "#%%\n"
    }
   },
   "outputs": [
    {
     "data": {
      "text/plain": [
       "tensor([[1., 1., 0.,  ..., 0., 0., 0.],\n",
       "        [1., 1., 0.,  ..., 0., 0., 0.],\n",
       "        [1., 1., 0.,  ..., 0., 0., 0.],\n",
       "        ...,\n",
       "        [0., 0., 0.,  ..., 0., 0., 1.],\n",
       "        [0., 0., 0.,  ..., 0., 0., 1.],\n",
       "        [0., 0., 0.,  ..., 0., 0., 1.]])"
      ]
     },
     "execution_count": 107,
     "metadata": {},
     "output_type": "execute_result"
    }
   ],
   "source": [
    "pro_skill_tensor"
   ]
  },
  {
   "cell_type": "code",
   "execution_count": 112,
   "id": "68fb9d1b",
   "metadata": {
    "pycharm": {
     "name": "#%%\n"
    }
   },
   "outputs": [
    {
     "name": "stderr",
     "output_type": "stream",
     "text": [
      "/var/folders/z2/kds62tbj3x93zghv2_jz1xsr0000gn/T/ipykernel_81549/1348033428.py:24: UserWarning: *c* argument looks like a single numeric RGB or RGBA sequence, which should be avoided as value-mapping will have precedence in case its length matches with *x* & *y*.  Please use the *color* keyword-argument or provide a 2D array with a single row if you intend to specify the same RGB or RGBA value for all points.\n",
      "  plt.scatter(class_data[:, 0], class_data[:, 1],c=color, label=str(label))\n"
     ]
    },
    {
     "data": {
      "image/png": "[encoded data removed]",
      "text/plain": [
       "<Figure size 640x480 with 1 Axes>"
      ]
     },
     "metadata": {},
     "output_type": "display_data"
    }
   ],
   "source": [
    "from sklearn.manifold import TSNE\n",
    "import matplotlib.pyplot as plt\n",
    "\n",
    "# 准备数据\n",
    "# data_tensor = model.pro_embeddings.weight\n",
    "data_tensor = model.pro_embeddings.weight\n",
    "\n",
    "# 初始化t-SNE模型\n",
    "tsne = TSNE(n_components=2, perplexity=30, learning_rate=100, n_iter=1000)\n",
    "\n",
    "# 执行t-SNE降维\n",
    "embedded_data = tsne.fit_transform(data_tensor.detach().numpy())\n",
    "\n",
    "# 可视化结果\n",
    "# plt.scatter(embedded_data[:, 0], embedded_data[:, 1])\n",
    "for label in range(skill_num):\n",
    "    pids = pro_skill_tensor[:,label].nonzero().view(-1).detach().numpy()\n",
    "#     print(pids)\n",
    "    red =  np.random.randint(0, 256)\n",
    "    green = np.random.randint(0, 256)\n",
    "    blue = np.random.randint(0, 256)\n",
    "    color = (red / 255, green / 255, blue / 255)\n",
    "    class_data = embedded_data[pids]\n",
    "    plt.scatter(class_data[:, 0], class_data[:, 1],c=color, label=str(label))\n",
    "plt.show()"
   ]
  },
  {
   "cell_type": "code",
   "execution_count": null,
   "id": "ae2288a8",
   "metadata": {
    "pycharm": {
     "name": "#%%\n"
    }
   },
   "outputs": [],
   "source": []
  },
  {
   "cell_type": "code",
   "execution_count": null,
   "id": "676eb1a6",
   "metadata": {
    "pycharm": {
     "name": "#%%\n"
    }
   },
   "outputs": [],
   "source": []
  }
 ],
 "metadata": {
  "kernelspec": {
   "display_name": "edu_ktm",
   "language": "python",
   "name": "edu_ktm"
  },
  "language_info": {
   "codemirror_mode": {
    "name": "ipython",
    "version": 3
   },
   "file_extension": ".py",
   "mimetype": "text/x-python",
   "name": "python",
   "nbconvert_exporter": "python",
   "pygments_lexer": "ipython3",
   "version": "3.9.16"
  }
 },
 "nbformat": 4,
 "nbformat_minor": 5
}