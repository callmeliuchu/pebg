{
 "cells": [
  {
   "cell_type": "code",
   "execution_count": 2,
   "id": "bd1de8a7",
   "metadata": {
    "pycharm": {
     "name": "#%%\n"
    }
   },
   "outputs": [],
   "source": [
    "from torch import nn\n",
    "import torch\n",
    "import torch.nn.functional as F\n",
    "from torch import optim"
   ]
  },
  {
   "cell_type": "code",
   "execution_count": null,
   "outputs": [],
   "source": [],
   "metadata": {
    "collapsed": false,
    "pycharm": {
     "name": "#%%\n"
    }
   }
  },
  {
   "cell_type": "code",
   "execution_count": null,
   "outputs": [],
   "source": [],
   "metadata": {
    "collapsed": false,
    "pycharm": {
     "name": "#%%\n"
    }
   }
  },
  {
   "cell_type": "code",
   "execution_count": null,
   "outputs": [],
   "source": [],
   "metadata": {
    "collapsed": false,
    "pycharm": {
     "name": "#%%\n"
    }
   }
  },
  {
   "cell_type": "code",
   "execution_count": null,
   "outputs": [],
   "source": [
    "class DKT(nn.Module):\n",
    "    \n",
    "    def __init__(self,input_size,output_size):\n",
    "        super().__init__()\n",
    "        self.net = nn.RNN(input_size,100,batch_first=True)\n",
    "        self.linear = nn.Linear(100,output_size)\n",
    "        self.sigmoid = nn.Sigmoid()\n",
    "    \n",
    "    def forward(self,x):\n",
    "        # B,T,C\n",
    "        out,h = self.net(x)\n",
    "        return self.sigmoid(self.linear(out))"
   ],
   "metadata": {
    "collapsed": false,
    "pycharm": {
     "name": "#%%\n"
    }
   }
  },
  {
   "cell_type": "code",
   "execution_count": null,
   "id": "9b86e12c",
   "metadata": {
    "pycharm": {
     "name": "#%%\n"
    }
   },
   "outputs": [],
   "source": []
  },
  {
   "cell_type": "code",
   "execution_count": 9,
   "id": "816d61fb",
   "metadata": {
    "pycharm": {
     "name": "#%%\n"
    }
   },
   "outputs": [],
   "source": [
    "import json\n",
    "import numpy as np"
   ]
  },
  {
   "cell_type": "code",
   "execution_count": 21,
   "id": "b310c233",
   "metadata": {
    "pycharm": {
     "name": "#%%\n"
    }
   },
   "outputs": [],
   "source": [
    "from tqdm import tqdm"
   ]
  },
  {
   "cell_type": "code",
   "execution_count": 177,
   "id": "3cd4bb08",
   "metadata": {
    "pycharm": {
     "name": "#%%\n"
    }
   },
   "outputs": [],
   "source": [
    "block_size = 50\n",
    "num_questions = 123\n",
    "\n",
    "def get_data(name):\n",
    "    with open('{}.json'.format(name),'r') as f:\n",
    "        train_data = json.load(f)\n",
    "        all_data = []\n",
    "        for x,y in tqdm(train_data):\n",
    "            x_len = len(x)\n",
    "            left = block_size - x_len % block_size\n",
    "            total = x_len + left\n",
    "            ans = np.zeros((total,num_questions*2))\n",
    "            for i,(xi,yi) in enumerate(zip(x,y)):\n",
    "                if yi == 1:\n",
    "                    ans[i][xi+num_questions] = 1\n",
    "                else:\n",
    "                    ans[i][xi] = 1\n",
    "            all_data.extend(ans.tolist())\n",
    "    all_data=torch.tensor(all_data)\n",
    "    all_data=all_data.reshape(-1,block_size,num_questions*2)\n",
    "    return all_data"
   ]
  },
  {
   "cell_type": "code",
   "execution_count": 178,
   "id": "0d704458",
   "metadata": {
    "pycharm": {
     "name": "#%%\n"
    }
   },
   "outputs": [
    {
     "name": "stderr",
     "output_type": "stream",
     "text": [
      "100%|████████████████████████████████████████████████████████████████████████████████████████████████████████████████████████████████████████████████████████████| 3746/3746 [00:03<00:00, 959.19it/s]\n"
     ]
    }
   ],
   "source": [
    "all_data=get_data('train')"
   ]
  },
  {
   "cell_type": "code",
   "execution_count": 181,
   "id": "c0cb2fcb",
   "metadata": {
    "pycharm": {
     "name": "#%%\n"
    }
   },
   "outputs": [],
   "source": [
    "def parse_raw_data(raw_question_matrix, raw_pred):\n",
    "    questions = torch.nonzero(raw_question_matrix)[1:, 1] % num_questions\n",
    "    length = questions.shape[0]\n",
    "    pred = raw_pred[: length]\n",
    "    pred = pred.gather(1, questions.view(-1, 1)).flatten()\n",
    "    truth = torch.nonzero(raw_question_matrix)[1:, 1] // num_questions\n",
    "    return truth,pred"
   ]
  },
  {
   "cell_type": "code",
   "execution_count": 182,
   "id": "e704df34",
   "metadata": {
    "pycharm": {
     "name": "#%%\n"
    }
   },
   "outputs": [],
   "source": [
    "def parse_raw_data(x,logits):\n",
    "    # x, T,C\n",
    "    # logits T,C\n",
    "    predicted_idx = torch.nonzero(x)[1:,-1] % num_questions\n",
    "    true_pred = (torch.nonzero(x)[1:,-1] // num_questions)*1.0\n",
    "    logits = logits[:len(predicted_idx)]\n",
    "    prediced = logits.gather(1,predicted_idx.view(-1,1)).flatten()\n",
    "    return true_pred,prediced"
   ]
  },
  {
   "cell_type": "code",
   "execution_count": 183,
   "id": "28b03243",
   "metadata": {
    "pycharm": {
     "name": "#%%\n"
    }
   },
   "outputs": [
    {
     "data": {
      "text/plain": [
       "torch.Size([7812, 50, 246])"
      ]
     },
     "execution_count": 183,
     "metadata": {},
     "output_type": "execute_result"
    }
   ],
   "source": [
    "all_data.shape"
   ]
  },
  {
   "cell_type": "code",
   "execution_count": 184,
   "id": "fe6d6f6d",
   "metadata": {
    "pycharm": {
     "name": "#%%\n"
    }
   },
   "outputs": [],
   "source": [
    "x=all_data[0]"
   ]
  },
  {
   "cell_type": "code",
   "execution_count": 185,
   "id": "f8c99f60",
   "metadata": {
    "pycharm": {
     "name": "#%%\n"
    }
   },
   "outputs": [
    {
     "data": {
      "text/plain": [
       "tensor([212, 212, 212,  89,  89,  89,  89, 212, 212, 212, 212, 212, 212,  89,\n",
       "        212, 212, 212, 212, 212, 212, 212,  89, 212, 212, 212,  89, 212, 212,\n",
       "         89,  89, 212, 212, 212, 212, 212,  89, 212,  89,  26,  26, 149,  26,\n",
       "         26, 149,  26,  25,  25, 148, 148])"
      ]
     },
     "execution_count": 185,
     "metadata": {},
     "output_type": "execute_result"
    }
   ],
   "source": [
    "torch.nonzero(x)[1:,-1]"
   ]
  },
  {
   "cell_type": "code",
   "execution_count": 186,
   "id": "4230be92",
   "metadata": {
    "pycharm": {
     "name": "#%%\n"
    }
   },
   "outputs": [
    {
     "data": {
      "text/plain": [
       "array([[1, 2],\n",
       "       [2, 3]])"
      ]
     },
     "execution_count": 186,
     "metadata": {},
     "output_type": "execute_result"
    }
   ],
   "source": [
    "np.concatenate([[[1,2]],[[2,3]]])"
   ]
  },
  {
   "cell_type": "code",
   "execution_count": 187,
   "id": "9ff77adb",
   "metadata": {
    "pycharm": {
     "name": "#%%\n"
    }
   },
   "outputs": [],
   "source": [
    "dkt = DKT(num_questions*2,num_questions)"
   ]
  },
  {
   "cell_type": "code",
   "execution_count": 188,
   "id": "1e542907",
   "metadata": {
    "pycharm": {
     "name": "#%%\n"
    }
   },
   "outputs": [],
   "source": [
    "op = optim.Adam(dkt.parameters(),lr=0.002)\n",
    "loss_func = nn.BCELoss()"
   ]
  },
  {
   "cell_type": "code",
   "execution_count": null,
   "id": "2838d0c7",
   "metadata": {
    "pycharm": {
     "name": "#%%\n"
    }
   },
   "outputs": [],
   "source": []
  },
  {
   "cell_type": "code",
   "execution_count": 191,
   "id": "68edec07",
   "metadata": {
    "pycharm": {
     "name": "#%%\n"
    },
    "scrolled": false
   },
   "outputs": [
    {
     "name": "stdout",
     "output_type": "stream",
     "text": [
      "tensor(0.5861, grad_fn=<BinaryCrossEntropyBackward0>)\n",
      "tensor(0.2816, grad_fn=<BinaryCrossEntropyBackward0>)\n",
      "tensor(0.3498, grad_fn=<BinaryCrossEntropyBackward0>)\n",
      "tensor(0.3393, grad_fn=<BinaryCrossEntropyBackward0>)\n",
      "tensor(0.5113, grad_fn=<BinaryCrossEntropyBackward0>)\n",
      "tensor(1.3329, grad_fn=<BinaryCrossEntropyBackward0>)\n",
      "tensor(0.5326, grad_fn=<BinaryCrossEntropyBackward0>)\n",
      "tensor(0.2389, grad_fn=<BinaryCrossEntropyBackward0>)\n"
     ]
    }
   ],
   "source": [
    "for i,data in enumerate(all_data):\n",
    "    logits = dkt(data)\n",
    "    true_pred,pred = parse_raw_data(data,logits)\n",
    "#     print(true_pred,pred)\n",
    "    loss = loss_func(pred,true_pred)\n",
    "#     if torch.isnan(loss):\n",
    "#         print(data)\n",
    "#         print(true_pred,pred)\n",
    "#         print(torch.nonzero(data))\n",
    "    if i % 1000 == 0:\n",
    "        print(loss)\n",
    "    op.zero_grad(set_to_none=True)\n",
    "    loss.backward()\n",
    "    op.step()"
   ]
  },
  {
   "cell_type": "code",
   "execution_count": 190,
   "id": "d5f6709b",
   "metadata": {
    "pycharm": {
     "name": "#%%\n"
    }
   },
   "outputs": [
    {
     "name": "stdout",
     "output_type": "stream",
     "text": [
      "tensor(0.6951)\n"
     ]
    }
   ],
   "source": [
    "eval_data(all_data)"
   ]
  },
  {
   "cell_type": "code",
   "execution_count": 87,
   "id": "864bad05",
   "metadata": {
    "pycharm": {
     "name": "#%%\n"
    }
   },
   "outputs": [],
   "source": [
    "def eval_data(all_data):\n",
    "    true_pre,pre=torch.tensor([]),torch.tensor([])\n",
    "    for data in all_data:\n",
    "        logits = dkt(data)\n",
    "        true_pred,pred = parse_raw_data(data,logits)\n",
    "        true_pre = torch.cat([true_pre,true_pred])\n",
    "        pre = torch.cat([pre,(pred>=0.5).float()])\n",
    "    print((true_pre==pre).sum()/len(pre)) "
   ]
  },
  {
   "cell_type": "code",
   "execution_count": 168,
   "id": "4c5098fe",
   "metadata": {
    "pycharm": {
     "name": "#%%\n"
    }
   },
   "outputs": [
    {
     "name": "stdout",
     "output_type": "stream",
     "text": [
      "tensor(0.9725)\n"
     ]
    }
   ],
   "source": [
    "eval_data(val_data)"
   ]
  },
  {
   "cell_type": "code",
   "execution_count": 89,
   "id": "cbb848c4",
   "metadata": {
    "pycharm": {
     "name": "#%%\n"
    }
   },
   "outputs": [
    {
     "name": "stderr",
     "output_type": "stream",
     "text": [
      "100%|██████████████████████████████████████████████████████████████████████████████████████████████████████████████████████████████████████████████████████████████| 417/417 [00:00<00:00, 678.18it/s]\n"
     ]
    }
   ],
   "source": [
    "val_data=get_data('val')"
   ]
  },
  {
   "cell_type": "code",
   "execution_count": null,
   "id": "e01260ce",
   "metadata": {
    "pycharm": {
     "name": "#%%\n"
    }
   },
   "outputs": [],
   "source": []
  }
 ],
 "metadata": {
  "kernelspec": {
   "display_name": "edu_ktm",
   "language": "python",
   "name": "edu_ktm"
  },
  "language_info": {
   "codemirror_mode": {
    "name": "ipython",
    "version": 3
   },
   "file_extension": ".py",
   "mimetype": "text/x-python",
   "name": "python",
   "nbconvert_exporter": "python",
   "pygments_lexer": "ipython3",
   "version": "3.9.16"
  }
 },
 "nbformat": 4,
 "nbformat_minor": 5
}